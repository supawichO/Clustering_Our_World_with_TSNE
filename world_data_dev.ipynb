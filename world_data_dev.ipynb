{
 "cells": [
  {
   "attachments": {},
   "cell_type": "markdown",
   "metadata": {},
   "source": [
    "# Sustainability Countries in Our World\n",
    "สำหรับโปรเจกต์นี้จะนำข้อมูลด้านต่าง ๆ ของโลกทั้งหมด 5 ประเด็น โดยมี\n",
    "1. Economic; ข้อมูลด้านเศรษฐกิจ\n",
    "2. Environment; ข้อมูลด้านสิ่งแวดล้อม\n",
    "3. Health; ข้อมูลด้านสุขภาพ\n",
    "4. Human; ข้อมูลด้านสิทธิมนุษยชน\n",
    "5. Politic; ข้อมูลด้านการเมืองการปกครอง<br><br>\n",
    "\n",
    "โดยทั้ง 5 ด้านนี้ จะนำมาทำการวิเคราะห์หาว่า ประเทศในโลกทั้งหมดมีการเกาะกลุ่มกันแต่ละด้านอย่างไรบ้าง (Cluster Analysis) อีกทั้งจะนำประเด็นทั้ง 5 มาหาค่าดัชนีชี้วัดรวมที่มีชื่อว่า Sustanability Index โดยเกิดจากการนำค่า Index ของทั้ง 5 ด้านมาหาค่าเฉลี่ย เพื่อดูว่าแต่ละประเทศของโลกเรานั้น มีความยั่งยืนในแต่ละด้านและทั้ง 5 ด้านอย่างไรบ้าง"
   ]
  },
  {
   "attachments": {},
   "cell_type": "markdown",
   "metadata": {},
   "source": [
    "### Import Package and check dataset\n",
    " เนื่องจากข้อมูลมากจากหลายแหล่งรวมกัน (World Bank, OurWorldinData, etc.) จึงต้องมีการตรวจสอบข้อมูลเพื่อดูว่ามีข้อมูลขาดหายไปมากน้อยแค่ไหน"
   ]
  },
  {
   "cell_type": "code",
   "execution_count": 10,
   "metadata": {},
   "outputs": [],
   "source": [
    "import pandas as pd\n",
    "import numpy as np\n",
    "import seaborn as sns\n",
    "from sklearn.manifold import TSNE\n",
    "import missingno as msno\n",
    "import matplotlib.pyplot as plt\n",
    "from fancyimpute import IterativeImputer\n",
    "from sklearn.preprocessing import MinMaxScaler\n",
    "import plotly.graph_objects as go\n",
    "import plotly.express as px\n",
    "from scipy.stats import gmean"
   ]
  },
  {
   "cell_type": "code",
   "execution_count": 11,
   "metadata": {},
   "outputs": [
    {
     "data": {
      "text/html": [
       "<div>\n",
       "<style scoped>\n",
       "    .dataframe tbody tr th:only-of-type {\n",
       "        vertical-align: middle;\n",
       "    }\n",
       "\n",
       "    .dataframe tbody tr th {\n",
       "        vertical-align: top;\n",
       "    }\n",
       "\n",
       "    .dataframe thead th {\n",
       "        text-align: right;\n",
       "    }\n",
       "</style>\n",
       "<table border=\"1\" class=\"dataframe\">\n",
       "  <thead>\n",
       "    <tr style=\"text-align: right;\">\n",
       "      <th></th>\n",
       "      <th>Ease of doing business score (0 = lowest performance to 100 = best performance)</th>\n",
       "      <th>Economic Growth</th>\n",
       "      <th>Employment to population ratio, 15+, total (%) (modeled ILO estimate)</th>\n",
       "      <th>GDP (current US$)</th>\n",
       "    </tr>\n",
       "  </thead>\n",
       "  <tbody>\n",
       "    <tr>\n",
       "      <th>0</th>\n",
       "      <td>44.06497</td>\n",
       "      <td>-2.35</td>\n",
       "      <td>35.893002</td>\n",
       "      <td>1.478686e+10</td>\n",
       "    </tr>\n",
       "    <tr>\n",
       "      <th>1</th>\n",
       "      <td>67.74847</td>\n",
       "      <td>8.54</td>\n",
       "      <td>51.609001</td>\n",
       "      <td>1.825579e+10</td>\n",
       "    </tr>\n",
       "    <tr>\n",
       "      <th>2</th>\n",
       "      <td>48.59758</td>\n",
       "      <td>3.85</td>\n",
       "      <td>35.113998</td>\n",
       "      <td>1.630000e+11</td>\n",
       "    </tr>\n",
       "    <tr>\n",
       "      <th>3</th>\n",
       "      <td>41.28838</td>\n",
       "      <td>0.70</td>\n",
       "      <td>69.936996</td>\n",
       "      <td>6.740429e+10</td>\n",
       "    </tr>\n",
       "    <tr>\n",
       "      <th>4</th>\n",
       "      <td>58.96151</td>\n",
       "      <td>10.26</td>\n",
       "      <td>53.814999</td>\n",
       "      <td>4.870000e+11</td>\n",
       "    </tr>\n",
       "  </tbody>\n",
       "</table>\n",
       "</div>"
      ],
      "text/plain": [
       "   Ease of doing business score (0 = lowest performance to 100 = best performance)  \\\n",
       "0                                           44.06497                                 \n",
       "1                                           67.74847                                 \n",
       "2                                           48.59758                                 \n",
       "3                                           41.28838                                 \n",
       "4                                           58.96151                                 \n",
       "\n",
       "   Economic Growth  \\\n",
       "0            -2.35   \n",
       "1             8.54   \n",
       "2             3.85   \n",
       "3             0.70   \n",
       "4            10.26   \n",
       "\n",
       "   Employment to population ratio, 15+, total (%) (modeled ILO estimate)  \\\n",
       "0                                          35.893002                       \n",
       "1                                          51.609001                       \n",
       "2                                          35.113998                       \n",
       "3                                          69.936996                       \n",
       "4                                          53.814999                       \n",
       "\n",
       "   GDP (current US$)  \n",
       "0       1.478686e+10  \n",
       "1       1.825579e+10  \n",
       "2       1.630000e+11  \n",
       "3       6.740429e+10  \n",
       "4       4.870000e+11  "
      ]
     },
     "execution_count": 11,
     "metadata": {},
     "output_type": "execute_result"
    }
   ],
   "source": [
    "# Load Dataset\n",
    "worldData = pd.read_csv('datasets/raw_world_source_ana.csv', na_values=[\"-\"], encoding='cp1252')\n",
    "worldData.iloc[:,3:7].head()"
   ]
  },
  {
   "cell_type": "code",
   "execution_count": 12,
   "metadata": {},
   "outputs": [
    {
     "data": {
      "text/plain": [
       "(174, 89)"
      ]
     },
     "execution_count": 12,
     "metadata": {},
     "output_type": "execute_result"
    }
   ],
   "source": [
    "# Check dimensions of it\n",
    "worldData.shape"
   ]
  },
  {
   "attachments": {},
   "cell_type": "markdown",
   "metadata": {},
   "source": [
    "ข้อมูลของเรามีทั้งหมด 89 features และ 174 records ซึ่งดูรวม ๆ แล้วปริมาณด้านที่เยอะคือด้านตัวแปรรเป็นหลัก"
   ]
  },
  {
   "cell_type": "code",
   "execution_count": 13,
   "metadata": {},
   "outputs": [
    {
     "data": {
      "text/plain": [
       "Country                                                                            0\n",
       "ISO Country code                                                                   0\n",
       "Continent                                                                          0\n",
       "Ease of doing business score (0 = lowest performance to 100 = best performance)    4\n",
       "Economic Growth                                                                    7\n",
       "                                                                                  ..\n",
       "Political Rights Score                                                             0\n",
       "Political Stability & Absence Of Violence                                          1\n",
       "Regulatory Quality                                                                 1\n",
       "Rule Of Law                                                                        1\n",
       "UHC service coverage index                                                         2\n",
       "Length: 89, dtype: int64"
      ]
     },
     "metadata": {},
     "output_type": "display_data"
    },
    {
     "data": {
      "text/plain": [
       "<AxesSubplot:>"
      ]
     },
     "execution_count": 13,
     "metadata": {},
     "output_type": "execute_result"
    },
    {
     "data": {
      "image/png": "[encoded data removed]",
      "text/plain": [
       "<Figure size 1800x720 with 2 Axes>"
      ]
     },
     "metadata": {
      "needs_background": "light"
     },
     "output_type": "display_data"
    }
   ],
   "source": [
    "# Check NA data\n",
    "display(worldData.isna().sum())\n",
    "\n",
    "# Check with missing matrix plot\n",
    "msno.matrix(worldData)"
   ]
  },
  {
   "attachments": {},
   "cell_type": "markdown",
   "metadata": {},
   "source": [
    "### Imputation\n",
    "\n",
    "จากรูปจะเห็นว่ามี features ประมาณ 1 ใน 3 ที่มีการขาดหายของข้อมูลในปริมาณมาก ซึ่งในการทำ Clustering การขาดหายของข้อมูลนั้นสำคัญมาก เพราะอาจจะทำให้ไม่สามารถที่จะประมวนผลลัพธ์ออกมาได้<br><br>\n",
    "\n",
    "ดังนั้น จึงต้องมีการทำ Imputation หรือ การเติมเต็มข้อมูลที่หายไป โดยในที่นี้จะใช้วิธีการ Multiple Imputations by Chained Equation (MICE) โดยจะอิงจาก features ที่เหลืออีก 2 ใน 3 เพื่อให้ทราบแนวโน้มของข้อมูลและเติมข้อมูลลงไป"
   ]
  },
  {
   "cell_type": "code",
   "execution_count": 14,
   "metadata": {},
   "outputs": [],
   "source": [
    "def into_the_unknown(DataFrame, scaler, Imputer):\n",
    "    # Imputation with copied dataframe imputing with MICE: worldDataMICE\n",
    "    imputedDataFrame = DataFrame.iloc[:,3:].copy(deep = True)\n",
    "\n",
    "    # Scaling data\n",
    "    scalingImputedDataFrame = scaler.fit_transform(imputedDataFrame)\n",
    "\n",
    "    # Imputing data to copied dataframe\n",
    "    imputedDataFrame.iloc[:,:] = Imputer.fit_transform(scalingImputedDataFrame)\n",
    "\n",
    "    # Invere transform data\n",
    "    imputedDataFrame = scaler.inverse_transform(imputedDataFrame)\n",
    "\n",
    "    # Convert data to DataFrame\n",
    "    imputedDataFrame = pd.DataFrame(imputedDataFrame)\n",
    "\n",
    "    return imputedDataFrame"
   ]
  },
  {
   "cell_type": "code",
   "execution_count": 15,
   "metadata": {},
   "outputs": [
    {
     "name": "stderr",
     "output_type": "stream",
     "text": [
      "C:\\Program Files\\Python310\\lib\\site-packages\\sklearn\\impute\\_iterative.py:785: ConvergenceWarning: [IterativeImputer] Early stopping criterion not reached.\n",
      "  warnings.warn(\n"
     ]
    }
   ],
   "source": [
    "worldDataMICE = into_the_unknown(worldData, MinMaxScaler(), IterativeImputer(min_value=0 ,max_value=1))"
   ]
  },
  {
   "cell_type": "code",
   "execution_count": 16,
   "metadata": {},
   "outputs": [],
   "source": [
    "worldDataMICE.to_csv('datasets/world_source_ana_MICEimputed.csv', encoding='UTF-8')"
   ]
  },
  {
   "attachments": {},
   "cell_type": "markdown",
   "metadata": {},
   "source": [
    "### TSNE model และ การหาค่า Index\n",
    "\n",
    "หลังจากผ่านกระบวนการ Imputation ไปเรียบร้อยแล้ว ขั้นตอนต่อไปคือการนำข้อมูลหาค่า Index และเข้า TSNE model ดังนี้\n",
    "1. หาค่า Index แยกประเด็นแต่ละด้าน\n",
    "2. จัด Class แต่ละประเทศ โดยให้ประเทศที่มีค่า Index สูงกว่าค่าเฉลี่ยของ Index เป็นประเทศ High Class ส่วนอีกกร๊ให้เป็น Low Class \n",
    "3. นำข้อมูล(ไม่รวม Index และ Class) เข้าสู่ TSNE model ที่มีการ Tuning parameters แล้ว"
   ]
  },
  {
   "attachments": {},
   "cell_type": "markdown",
   "metadata": {},
   "source": [
    "นำข้อมูลเข้า พร้อมทั้งตรวจสอบว่าข้อมูลครบหรือไม่"
   ]
  },
  {
   "cell_type": "code",
   "execution_count": 38,
   "metadata": {},
   "outputs": [
    {
     "data": {
      "text/html": [
       "<div>\n",
       "<style scoped>\n",
       "    .dataframe tbody tr th:only-of-type {\n",
       "        vertical-align: middle;\n",
       "    }\n",
       "\n",
       "    .dataframe tbody tr th {\n",
       "        vertical-align: top;\n",
       "    }\n",
       "\n",
       "    .dataframe thead th {\n",
       "        text-align: right;\n",
       "    }\n",
       "</style>\n",
       "<table border=\"1\" class=\"dataframe\">\n",
       "  <thead>\n",
       "    <tr style=\"text-align: right;\">\n",
       "      <th></th>\n",
       "      <th>% of seats held by women in national parliaments</th>\n",
       "      <th>Access to electricity (% of population)</th>\n",
       "      <th>Education as % of GDP</th>\n",
       "      <th>Happy Planet Index</th>\n",
       "      <th>Human capital index (HCI) (scale 0-1)</th>\n",
       "      <th>Human Development Index</th>\n",
       "      <th>School enrollment, secondary (% gross)</th>\n",
       "      <th>Sustainable Economic Development Assessment (SEDA)</th>\n",
       "      <th>Women Business and the Law Index Score (scale 1-100)</th>\n",
       "    </tr>\n",
       "  </thead>\n",
       "  <tbody>\n",
       "    <tr>\n",
       "      <th>0</th>\n",
       "      <td>27.0</td>\n",
       "      <td>97.699997</td>\n",
       "      <td>3.21</td>\n",
       "      <td>29.400000</td>\n",
       "      <td>0.400284</td>\n",
       "      <td>0.478</td>\n",
       "      <td>54.825329</td>\n",
       "      <td>26.300584</td>\n",
       "      <td>38.125</td>\n",
       "    </tr>\n",
       "    <tr>\n",
       "      <th>1</th>\n",
       "      <td>36.0</td>\n",
       "      <td>100.000000</td>\n",
       "      <td>3.10</td>\n",
       "      <td>51.000000</td>\n",
       "      <td>0.634251</td>\n",
       "      <td>0.796</td>\n",
       "      <td>94.280327</td>\n",
       "      <td>53.100000</td>\n",
       "      <td>91.250</td>\n",
       "    </tr>\n",
       "    <tr>\n",
       "      <th>2</th>\n",
       "      <td>8.0</td>\n",
       "      <td>99.804131</td>\n",
       "      <td>6.10</td>\n",
       "      <td>46.500000</td>\n",
       "      <td>0.534556</td>\n",
       "      <td>0.745</td>\n",
       "      <td>88.763870</td>\n",
       "      <td>45.800000</td>\n",
       "      <td>57.500</td>\n",
       "    </tr>\n",
       "    <tr>\n",
       "      <th>3</th>\n",
       "      <td>30.0</td>\n",
       "      <td>46.890610</td>\n",
       "      <td>2.42</td>\n",
       "      <td>42.208466</td>\n",
       "      <td>0.362405</td>\n",
       "      <td>0.586</td>\n",
       "      <td>52.524211</td>\n",
       "      <td>28.400000</td>\n",
       "      <td>79.375</td>\n",
       "    </tr>\n",
       "    <tr>\n",
       "      <th>4</th>\n",
       "      <td>45.0</td>\n",
       "      <td>100.000000</td>\n",
       "      <td>4.72</td>\n",
       "      <td>50.000000</td>\n",
       "      <td>0.602145</td>\n",
       "      <td>0.842</td>\n",
       "      <td>110.128220</td>\n",
       "      <td>57.300000</td>\n",
       "      <td>79.375</td>\n",
       "    </tr>\n",
       "  </tbody>\n",
       "</table>\n",
       "</div>"
      ],
      "text/plain": [
       "   % of seats held by women in national parliaments  \\\n",
       "0                                              27.0   \n",
       "1                                              36.0   \n",
       "2                                               8.0   \n",
       "3                                              30.0   \n",
       "4                                              45.0   \n",
       "\n",
       "   Access to electricity (% of population)  Education as % of GDP  \\\n",
       "0                                97.699997                   3.21   \n",
       "1                               100.000000                   3.10   \n",
       "2                                99.804131                   6.10   \n",
       "3                                46.890610                   2.42   \n",
       "4                               100.000000                   4.72   \n",
       "\n",
       "   Happy Planet Index  Human capital index (HCI) (scale 0-1)  \\\n",
       "0           29.400000                               0.400284   \n",
       "1           51.000000                               0.634251   \n",
       "2           46.500000                               0.534556   \n",
       "3           42.208466                               0.362405   \n",
       "4           50.000000                               0.602145   \n",
       "\n",
       "   Human Development Index  School enrollment, secondary (% gross)  \\\n",
       "0                    0.478                               54.825329   \n",
       "1                    0.796                               94.280327   \n",
       "2                    0.745                               88.763870   \n",
       "3                    0.586                               52.524211   \n",
       "4                    0.842                              110.128220   \n",
       "\n",
       "   Sustainable Economic Development Assessment (SEDA)  \\\n",
       "0                                          26.300584    \n",
       "1                                          53.100000    \n",
       "2                                          45.800000    \n",
       "3                                          28.400000    \n",
       "4                                          57.300000    \n",
       "\n",
       "   Women Business and the Law Index Score (scale 1-100)  \n",
       "0                                             38.125     \n",
       "1                                             91.250     \n",
       "2                                             57.500     \n",
       "3                                             79.375     \n",
       "4                                             79.375     "
      ]
     },
     "metadata": {},
     "output_type": "display_data"
    },
    {
     "data": {
      "text/plain": [
       "array(['Economic', 'Environment', 'Health', 'Human', 'Politic'],\n",
       "      dtype=object)"
      ]
     },
     "execution_count": 38,
     "metadata": {},
     "output_type": "execute_result"
    }
   ],
   "source": [
    "# Load world_source_ana_MICEimputed and Factors: df, factors\n",
    "df = pd.read_csv('data_for_dev/without_tsne_and_indexed/world_data_imputed.csv', encoding='cp1252')\n",
    "factors = pd.read_csv('data_for_dev/without_tsne_and_indexed/factors.csv')\n",
    "# Assign features to factors\n",
    "Factors = ['Economic', 'Environment', 'Health', 'Human', 'Politic']\n",
    "\n",
    "display(df[list(factors[(factors['Factor'] == Factors[3]) & (factors['Direction'] == 'D')]['Columns'])].head())\n",
    "factors['Factor'].unique()"
   ]
  },
  {
   "attachments": {},
   "cell_type": "markdown",
   "metadata": {},
   "source": [
    "ลองตรวจสอบดูว่าแต่ละประเด็นนั้น นำมากี่ Features"
   ]
  },
  {
   "cell_type": "code",
   "execution_count": 39,
   "metadata": {},
   "outputs": [
    {
     "data": {
      "text/plain": [
       "{'Economic': 19, 'Environment': 12, 'Health': 27, 'Human': 11, 'Politic': 17}"
      ]
     },
     "execution_count": 39,
     "metadata": {},
     "output_type": "execute_result"
    }
   ],
   "source": [
    "dict(zip(Factors, [len(factors[factors['Factor'] == i]['Columns']) for i in Factors]))"
   ]
  },
  {
   "attachments": {},
   "cell_type": "markdown",
   "metadata": {},
   "source": [
    "ก่อนจะนำข้อมูลเข้าสู่กระบวนการหาค่า Index หรือ TSNE จะต้องทำการ Normalization ก่อน โดยมีข้อพึงระวัง 2 ข้อ\n",
    "1. ทิศทางข้อมูลก่อน Normalization; ไม่ใช่ข้อมูลทุก features ที่ยิ่งค่ามากแล้วจะเป็นไปในทางที่ดีหรือทางที่คาดหวัง อาทิ จำนวนการตายของทารกแรกเกิด จำนวนผู้ติดเชื้อ HIV จำนวนการปล่อย CO2 เป็นต้น\n",
    "2. หลัง Normalization ต้องไม่เป็น 0; แม้ว่าจะใช้หลัการ Min - Max ซึ่งทำให้ค่าอยู่ในช่วง 0 - 1 แต่หากจะนำไปหาค่า Geometric mean ซึ่งเป็นผลคูณของทุกข้อมูล จะทำให้ Index เกิดค่า 0 ซึ่งอาจไม่เป็นสามารถหาความหมายเพิ่มเติมได้ จึงต้องปรับค่าให้เหมาะสมโดยไม่เสียนัยยะ"
   ]
  },
  {
   "cell_type": "code",
   "execution_count": 19,
   "metadata": {},
   "outputs": [],
   "source": [
    "def normData(df, directedCols, undirectedCols):\n",
    "    # Function for directed features\n",
    "    def dNorm(data):\n",
    "        # Adjusted value\n",
    "        a = 0.0000001\n",
    "        Min = data.min(axis = 0, skipna = True) - a\n",
    "        Max = data.max(axis = 0, skipna = True)\n",
    "        dNormDf = (data - Min)/(Max - Min)\n",
    "        return dNormDf\n",
    "    # Function for indirected features\n",
    "    def udNorm(data):\n",
    "        # Adjusted value\n",
    "        a = 0.0000001\n",
    "        Min = data.min(axis = 0, skipna = True) \n",
    "        Max = data.max(axis = 0, skipna = True) + a\n",
    "        udNormDf = 1- (data - Min)/(Max - Min)\n",
    "        return udNormDf\n",
    "    \n",
    "    # Calculating normalization\n",
    "    dNorm_ = dNorm(df[directedCols])\n",
    "    udNorm_ = udNorm(df[undirectedCols])\n",
    "\n",
    "    # Send output as DataFame\n",
    "    dataNorm = pd.concat([dNorm_, udNorm_], axis = 1)\n",
    "    return dataNorm"
   ]
  },
  {
   "attachments": {},
   "cell_type": "markdown",
   "metadata": {},
   "source": [
    "สร้างฟังก์ชันหาค่า Index รวมแต่ละด้าน พร้อมทั้งจัด Class"
   ]
  },
  {
   "cell_type": "code",
   "execution_count": 20,
   "metadata": {},
   "outputs": [],
   "source": [
    "def index_class(df, Factor):\n",
    "    # TSNE for visualization each factor\n",
    "    data = normData(df, list(factors[(factors['Factor'] == Factor) & (factors['Direction'] == 'D')]['Columns']),\n",
    "    list(factors[(factors['Factor'] == Factor) & (factors['Direction'] == 'I')]['Columns']))\n",
    "\n",
    "    # If any datapoint is 0, replace with 0.0000001\n",
    "    data = data.replace(0,0.0000001)\n",
    "\n",
    "    # Find index by geometric mean\n",
    "    data[Factor+'Index'] = data.apply(gmean,axis = 1)\n",
    "\n",
    "    # Find average for creating data class\n",
    "    Mean = data[Factor+'Index'].mean()\n",
    "    data.loc[data[Factor+'Index'] >= Mean,Factor+'Class'] = 'High'\n",
    "    data.loc[data[Factor+'Index'] < Mean, Factor+'Class'] = 'Low'\n",
    "    \n",
    "    return data"
   ]
  },
  {
   "cell_type": "code",
   "execution_count": 40,
   "metadata": {},
   "outputs": [],
   "source": [
    "dataFrame = [index_class(df, Factor) for Factor in Factors]"
   ]
  },
  {
   "cell_type": "code",
   "execution_count": 41,
   "metadata": {},
   "outputs": [],
   "source": [
    "# Get name of country and continent for colour in data visualization\n",
    "country = df['Country'].values\n",
    "continent = df['Continent']"
   ]
  },
  {
   "cell_type": "code",
   "execution_count": 42,
   "metadata": {},
   "outputs": [],
   "source": [
    "# Run the model for all data\n",
    "Tsne_name = ['tsne_eco', 'tsne_env', 'tsne_hel', 'tsne_hum', 'tsne_pol']\n",
    "Tsne = []\n",
    "X = []\n",
    "Y = []\n",
    "\n",
    "for index in range(len(Factors)-1):\n",
    "    values = dataFrame[index].iloc[:,:-2].values\n",
    "\n",
    "    model = TSNE(learning_rate = 100, perplexity=50)\n",
    "    tsne_features = model.fit_transform(values)\n",
    "\n",
    "    xs = tsne_features[:,0]\n",
    "    ys = tsne_features[:,1]\n",
    "\n",
    "    Tsne.append(tsne_features)\n",
    "    X.append(xs)\n",
    "    Y.append(ys)"
   ]
  },
  {
   "attachments": {},
   "cell_type": "markdown",
   "metadata": {},
   "source": [
    "หลังจากนำข้อมูลเข้า TSNE model แล้ว นำข้อมูลทุกประเด็นมารวมกันเพื่อนำข้อมูลรวมทั้งหมด หา Sustainability index และ Cluster ทุกประเด็น"
   ]
  },
  {
   "cell_type": "code",
   "execution_count": 43,
   "metadata": {},
   "outputs": [],
   "source": [
    "dfCombine = pd.concat([dataFrame[0]['EconomicIndex'], dataFrame[1]['EnvironmentIndex'], \n",
    "dataFrame[2]['HealthIndex'], dataFrame[3]['HumanIndex'], dataFrame[4]['PoliticIndex']], axis = 1)"
   ]
  },
  {
   "cell_type": "code",
   "execution_count": 44,
   "metadata": {},
   "outputs": [],
   "source": [
    "dfALL = normData(df, list(factors[factors['Direction'] == 'D']['Columns']),\n",
    "list(factors[factors['Direction'] == 'I']['Columns']))\n",
    "\n",
    "dfALL['AllIndex'] = dfCombine.mean(axis=1)\n",
    "\n",
    "Mean = dfALL['AllIndex'].mean()\n",
    "dfALL.loc[dfALL['AllIndex'] >= Mean,'AllClass'] = 'High'\n",
    "dfALL.loc[dfALL['AllIndex'] < Mean, 'AllClass'] = 'Low'\n",
    "\n",
    "dataFrame.append(dfALL)\n",
    "Factors.append('All')"
   ]
  },
  {
   "cell_type": "code",
   "execution_count": 62,
   "metadata": {},
   "outputs": [],
   "source": [
    "values = dfALL.iloc[:,:-2].values\n",
    "\n",
    "model = TSNE(learning_rate = 100, perplexity=50)\n",
    "tsne_All = model.fit_transform(values)\n",
    "\n",
    "xs = tsne_All[:,0]\n",
    "ys = tsne_All[:,1]\n",
    "\n",
    "Tsne.append(tsne_All)\n",
    "X.append(xs)\n",
    "Y.append(ys)"
   ]
  },
  {
   "attachments": {},
   "cell_type": "markdown",
   "metadata": {},
   "source": [
    "ตรวจสอบ Parameters ที่ใช้ในตัวแบบนี้"
   ]
  },
  {
   "cell_type": "code",
   "execution_count": null,
   "metadata": {},
   "outputs": [
    {
     "data": {
      "text/plain": [
       "(100, 50, 'barnes_hut', 999, 86)"
      ]
     },
     "metadata": {},
     "output_type": "display_data"
    }
   ],
   "source": [
    "display((model.learning_rate_, model.perplexity, model.method, model.n_iter_, model.n_features_in_))"
   ]
  },
  {
   "attachments": {},
   "cell_type": "markdown",
   "metadata": {},
   "source": [
    "### Data visualization"
   ]
  },
  {
   "attachments": {},
   "cell_type": "markdown",
   "metadata": {},
   "source": [
    "ลอง Plot ข้อมูลเพื่อตรวจสอบ Cluster"
   ]
  },
  {
   "cell_type": "code",
   "execution_count": 65,
   "metadata": {},
   "outputs": [
    {
     "data": {
      "application/vnd.plotly.v1+json": {
       "config": {
        "plotlyServerURL": "https://plot.ly"
       },
       "data": [
        {
         "hovertemplate": "<b>%{hovertext}</b><br><br>color=Low<br>x=%{x}<br>y=%{y}<extra></extra>",
         "hovertext": [
          "Afghanistan",
          "Angola",
          "Azerbaijan",
          "Bahrain",
          "Bangladesh",
          "Barbados",
          "Belize",
          "Benin",
          "Botswana",
          "Bulgaria",
          "Burkina Faso",
          "Burundi",
          "Cambodia",
          "Cameroon",
          "Central African Republic",
          "Chad",
          "Comoros",
          "Congo (Dem. Rep.)",
          "Congo (Rep.)",
          "Cote d'Ivoire",
          "Djibouti",
          "Dominican Republic",
          "Egypt",
          "Equatorial Guinea",
          "Eritrea",
          "Eswatini",
          "Ethiopia",
          "Gabon",
          "Gambia, The",
          "Ghana",
          "Guatemala",
          "Guinea",
          "Guinea-Bissau",
          "Haiti",
          "Iran",
          "Iraq",
          "Kenya",
          "Korea (Dem. People’s Rep.)",
          "Laos",
          "Lebanon",
          "Lesotho",
          "Liberia",
          "Libya",
          "Madagascar",
          "Malawi",
          "Mali",
          "Mauritania",
          "Mauritius",
          "Moldova",
          "Mongolia",
          "Mozambique",
          "Myanmar",
          "Nepal",
          "Niger",
          "Nigeria",
          "North Macedonia",
          "Pakistan",
          "Papua New Guinea",
          "Philippines",
          "Qatar",
          "Rwanda",
          "Senegal",
          "Sierra Leone",
          "Solomon Islands",
          "Somalia",
          "South Africa",
          "South Sudan",
          "Sudan",
          "Syria",
          "Tajikistan",
          "Tanzania",
          "Timor-Leste",
          "Togo",
          "Turkmenistan",
          "Uganda",
          "Venezuela",
          "Yemen",
          "Zambia",
          "Zimbabwe"
         ],
         "legendgroup": "Low",
         "marker": {
          "color": "rgb(76,114,176)",
          "symbol": "circle"
         },
         "mode": "markers",
         "name": "Low",
         "orientation": "v",
         "showlegend": true,
         "type": "scatter",
         "x": [
          -0.1778392344713211,
          -0.7638736963272095,
          2.397583246231079,
          3.8272435665130615,
          1.5224566459655762,
          -0.9711577892303467,
          -0.41566798090934753,
          0.832563042640686,
          2.9341580867767334,
          0.3653864860534668,
          0.5884065628051758,
          -0.9404615163803101,
          -0.8145843148231506,
          -0.538181483745575,
          -0.5864378809928894,
          0.4028070569038391,
          0.676064670085907,
          -0.4756844937801361,
          -1.2137192487716675,
          0.6399472951889038,
          1.7948989868164062,
          -0.18817460536956787,
          2.089050769805908,
          -0.6667993068695068,
          0.43388283252716064,
          -2.7692525386810303,
          -1.2438610792160034,
          -1.178433895111084,
          0.7899155020713806,
          0.6025001406669617,
          -1.2348705530166626,
          -0.47720882296562195,
          0.45493918657302856,
          0.45707833766937256,
          2.9843759536743164,
          2.4943461418151855,
          -1.5932462215423584,
          2.1839582920074463,
          -0.9647911190986633,
          2.673419952392578,
          -2.913337230682373,
          0.2906096577644348,
          2.799806594848633,
          -0.4509381353855133,
          -1.6299009323120117,
          0.0903717502951622,
          1.3999760150909424,
          -0.5611224174499512,
          0.6946985721588135,
          0.44473373889923096,
          -1.569063425064087,
          -0.3912096917629242,
          -1.7589519023895264,
          1.062983751296997,
          0.5781915187835693,
          0.521049439907074,
          0.3200448453426361,
          0.503981351852417,
          0.769329845905304,
          4.158432960510254,
          -1.7075715065002441,
          0.9271015524864197,
          -0.9358723163604736,
          0.08345257490873337,
          0.4307992160320282,
          3.194885730743408,
          0.3434988558292389,
          -0.026828471571207047,
          2.5095674991607666,
          -1.3567101955413818,
          -0.5911065936088562,
          0.7520514726638794,
          -0.15075376629829407,
          2.350921392440796,
          -1.529972791671753,
          -0.23472736775875092,
          1.3363548517227173,
          -1.8592101335525513,
          -1.0194454193115234
         ],
         "xaxis": "x",
         "y": [
          4.642184734344482,
          5.679627418518066,
          -0.6552621126174927,
          -2.0496442317962646,
          2.0924675464630127,
          -3.294172525405884,
          0.09126031398773193,
          6.103866100311279,
          4.096363544464111,
          -3.1166574954986572,
          6.520467758178711,
          6.642040252685547,
          2.8159775733947754,
          6.11013650894165,
          7.677104949951172,
          7.575624465942383,
          5.295495510101318,
          6.9416632652282715,
          5.201554775238037,
          6.048370838165283,
          5.3037896156311035,
          -0.29472652077674866,
          0.9212610125541687,
          4.937119960784912,
          5.392867565155029,
          5.535301208496094,
          6.165523052215576,
          4.704345703125,
          5.708669662475586,
          3.8716275691986084,
          1.3360220193862915,
          6.587584018707275,
          6.555445194244385,
          5.406065940856934,
          0.8980465531349182,
          1.9005969762802124,
          5.881380081176758,
          2.70889949798584,
          3.117061138153076,
          0.30426785349845886,
          5.95286750793457,
          6.566620826721191,
          2.111260414123535,
          5.876649379730225,
          6.188208103179932,
          6.387636184692383,
          5.5957255363464355,
          -2.7765517234802246,
          -1.808261752128601,
          -0.9744755029678345,
          6.479093074798584,
          3.693241834640503,
          2.728365182876587,
          6.882004737854004,
          7.093382835388184,
          -2.3331613540649414,
          3.948732852935791,
          4.674431324005127,
          1.2913357019424438,
          -2.0041093826293945,
          5.525991916656494,
          3.9174818992614746,
          7.398469924926758,
          1.4681169986724854,
          7.76127815246582,
          3.943037748336792,
          7.775304794311523,
          4.768764495849609,
          1.9494260549545288,
          2.0702693462371826,
          6.0166192054748535,
          2.4998815059661865,
          5.899960994720459,
          0.9628711342811584,
          5.890956401824951,
          2.2052485942840576,
          4.562885761260986,
          6.070180892944336,
          6.158473968505859
         ],
         "yaxis": "y"
        },
        {
         "hovertemplate": "<b>%{hovertext}</b><br><br>color=High<br>x=%{x}<br>y=%{y}<extra></extra>",
         "hovertext": [
          "Albania",
          "Algeria",
          "Argentina",
          "Armenia",
          "Australia",
          "Austria",
          "Bahamas",
          "Belarus",
          "Belgium",
          "Bhutan",
          "Bolivia",
          "Bosnia and Herzegovina",
          "Brazil",
          "Brunei Darussalam",
          "Cabo Verde",
          "Canada",
          "Chile",
          "China",
          "Colombia",
          "Costa Rica",
          "Croatia",
          "Cuba",
          "Cyprus",
          "Czech Republic",
          "Denmark",
          "Ecuador",
          "El Salvador",
          "Estonia",
          "Fiji",
          "Finland",
          "France",
          "Georgia",
          "Germany",
          "Greece",
          "Guyana",
          "Honduras",
          "Hungary",
          "Iceland",
          "India",
          "Indonesia",
          "Ireland",
          "Israel",
          "Italy",
          "Jamaica",
          "Japan",
          "Jordan",
          "Kazakhstan",
          "Korea (Rep.)",
          "Kosovo",
          "Kuwait",
          "Kyrgyzstan",
          "Latvia",
          "Lithuania",
          "Luxembourg",
          "Malaysia",
          "Maldives",
          "Malta",
          "Mexico",
          "Montenegro",
          "Morocco",
          "Namibia",
          "Netherlands",
          "New Zealand",
          "Nicaragua",
          "Norway",
          "Oman",
          "Panama",
          "Paraguay",
          "Peru",
          "Poland",
          "Portugal",
          "Romania",
          "Russia",
          "Saudi Arabia",
          "Serbia",
          "Singapore",
          "Slovakia",
          "Slovenia",
          "Spain",
          "Sri Lanka",
          "Suriname",
          "Sweden",
          "Switzerland",
          "Taiwan",
          "Thailand",
          "Trinidad and Tobago",
          "Tunisia",
          "Turkiye",
          "Ukraine",
          "United Arab Emirates",
          "United Kingdom",
          "United States",
          "Uruguay",
          "Uzbekistan",
          "Vietnam"
         ],
         "legendgroup": "High",
         "marker": {
          "color": "rgb(221,132,82)",
          "symbol": "circle"
         },
         "mode": "markers",
         "name": "High",
         "orientation": "v",
         "showlegend": true,
         "type": "scatter",
         "x": [
          -1.3990103006362915,
          2.769622802734375,
          -0.8479965925216675,
          1.525147557258606,
          -0.49288779497146606,
          -0.8665562272071838,
          -0.8377596735954285,
          2.0925450325012207,
          -1.5298024415969849,
          -2.3182170391082764,
          -0.378375381231308,
          0.6608926653862,
          -2.0521323680877686,
          3.1202125549316406,
          -0.562236487865448,
          -0.20465397834777832,
          -1.2670814990997314,
          3.702359199523926,
          -1.6062120199203491,
          -2.121734857559204,
          0.04380723834037781,
          -3.1165757179260254,
          -1.0329675674438477,
          -0.5901699662208557,
          -1.0198734998703003,
          -1.1534852981567383,
          -1.145358920097351,
          -0.1618635654449463,
          -0.4619597792625427,
          -0.7712625861167908,
          -0.9196290373802185,
          -0.20689837634563446,
          -1.1725432872772217,
          -0.37682709097862244,
          0.0608731210231781,
          -0.8278985619544983,
          0.08789649605751038,
          -0.5781311392784119,
          1.213451862335205,
          0.8858847618103027,
          -1.5826067924499512,
          -1.8759722709655762,
          -0.5821509957313538,
          -0.26068243384361267,
          -1.2267341613769531,
          2.836386203765869,
          1.7000912427902222,
          -1.4260990619659424,
          0.8230848908424377,
          4.074711322784424,
          -1.2266517877578735,
          0.029225604608654976,
          -0.006712106987833977,
          -1.9230023622512817,
          1.346401333808899,
          2.2584335803985596,
          -1.3765594959259033,
          0.0691974014043808,
          0.1463707536458969,
          2.103299856185913,
          -2.945162296295166,
          -1.499484896659851,
          -0.530273973941803,
          -0.8674913644790649,
          -0.6439376473426819,
          4.004868507385254,
          -1.3512214422225952,
          -1.7116374969482422,
          -1.129725694656372,
          -0.13616999983787537,
          -0.237677663564682,
          0.07406721264123917,
          2.745439291000366,
          4.1435933113098145,
          0.678855836391449,
          -2.7952237129211426,
          -0.2876404821872711,
          -0.5123628973960876,
          -0.43308693170547485,
          0.7465592622756958,
          -0.7811121344566345,
          -0.7193673849105835,
          -1.278969407081604,
          -1.418969750404358,
          1.212949514389038,
          0.03139515221118927,
          1.5359971523284912,
          1.7436840534210205,
          1.270603895187378,
          3.693462610244751,
          -0.8952592611312866,
          0.633527934551239,
          0.5228584408760071,
          1.8609976768493652,
          1.202460527420044
         ],
         "xaxis": "x",
         "y": [
          -1.8373461961746216,
          0.051124539226293564,
          -1.7482943534851074,
          -1.6360931396484375,
          -6.232639789581299,
          -5.904305934906006,
          -2.223684072494507,
          -1.5670878887176514,
          -5.636251449584961,
          1.1960564851760864,
          0.6505332589149475,
          -2.242711067199707,
          -0.6454619765281677,
          -2.614300489425659,
          -0.9175059795379639,
          -6.650076389312744,
          -3.6965222358703613,
          -0.21504151821136475,
          -0.6243261694908142,
          -2.0652217864990234,
          -3.8864240646362305,
          -0.9225247502326965,
          -4.13966178894043,
          -4.547143459320068,
          -6.506649017333984,
          -0.25966498255729675,
          0.11931099742650986,
          -5.80329704284668,
          -0.18780171871185303,
          -6.634597301483154,
          -5.318070411682129,
          -2.606304407119751,
          -5.642080783843994,
          -3.5875494480133057,
          0.12378120422363281,
          1.1481661796569824,
          -3.693206787109375,
          -7.50545072555542,
          1.9061349630355835,
          1.056920051574707,
          -6.6281046867370605,
          -4.189890384674072,
          -4.286512851715088,
          -1.239344835281372,
          -5.23376989364624,
          -0.4682387709617615,
          -0.6583018898963928,
          -4.608462810516357,
          -0.7184154391288757,
          -1.6962573528289795,
          1.6559797525405884,
          -4.357714653015137,
          -4.441452980041504,
          -6.325804710388184,
          -1.0058141946792603,
          -2.330091953277588,
          -4.313065528869629,
          -0.5966179966926575,
          -2.7082951068878174,
          -0.47151926159858704,
          5.879911422729492,
          -5.468789100646973,
          -6.821551322937012,
          1.278517246246338,
          -7.148965835571289,
          -1.6516202688217163,
          -1.0389691591262817,
          0.4164355397224426,
          -0.5040404796600342,
          -3.778679847717285,
          -5.632791042327881,
          -3.1927270889282227,
          -1.2575509548187256,
          -1.4573230743408203,
          -2.6336019039154053,
          -4.700416088104248,
          -4.046289920806885,
          -4.666415214538574,
          -5.35335111618042,
          0.10080423206090927,
          -0.1369747817516327,
          -6.809126377105713,
          -6.518139839172363,
          -4.519558906555176,
          -0.3994540274143219,
          -1.6736024618148804,
          -0.7157737612724304,
          -0.833358108997345,
          -1.7238490581512451,
          -2.5253822803497314,
          -5.647529602050781,
          -6.735174179077148,
          -5.734517574310303,
          0.07461860775947571,
          -0.10996924340724945
         ],
         "yaxis": "y"
        }
       ],
       "layout": {
        "height": 500,
        "legend": {
         "title": {
          "text": "color"
         },
         "tracegroupgap": 0
        },
        "margin": {
         "t": 60
        },
        "template": {
         "data": {
          "bar": [
           {
            "error_x": {
             "color": "rgb(36,36,36)"
            },
            "error_y": {
             "color": "rgb(36,36,36)"
            },
            "marker": {
             "line": {
              "color": "rgb(234,234,242)",
              "width": 0.5
             },
             "pattern": {
              "fillmode": "overlay",
              "size": 10,
              "solidity": 0.2
             }
            },
            "type": "bar"
           }
          ],
          "barpolar": [
           {
            "marker": {
             "line": {
              "color": "rgb(234,234,242)",
              "width": 0.5
             },
             "pattern": {
              "fillmode": "overlay",
              "size": 10,
              "solidity": 0.2
             }
            },
            "type": "barpolar"
           }
          ],
          "carpet": [
           {
            "aaxis": {
             "endlinecolor": "rgb(36,36,36)",
             "gridcolor": "white",
             "linecolor": "white",
             "minorgridcolor": "white",
             "startlinecolor": "rgb(36,36,36)"
            },
            "baxis": {
             "endlinecolor": "rgb(36,36,36)",
             "gridcolor": "white",
             "linecolor": "white",
             "minorgridcolor": "white",
             "startlinecolor": "rgb(36,36,36)"
            },
            "type": "carpet"
           }
          ],
          "choropleth": [
           {
            "colorbar": {
             "outlinewidth": 0,
             "tickcolor": "rgb(36,36,36)",
             "ticklen": 8,
             "ticks": "outside",
             "tickwidth": 2
            },
            "type": "choropleth"
           }
          ],
          "contour": [
           {
            "colorbar": {
             "outlinewidth": 0,
             "tickcolor": "rgb(36,36,36)",
             "ticklen": 8,
             "ticks": "outside",
             "tickwidth": 2
            },
            "colorscale": [
             [
              0,
              "rgb(2,4,25)"
             ],
             [
              0.06274509803921569,
              "rgb(24,15,41)"
             ],
             [
              0.12549019607843137,
              "rgb(47,23,57)"
             ],
             [
              0.18823529411764706,
              "rgb(71,28,72)"
             ],
             [
              0.25098039215686274,
              "rgb(97,30,82)"
             ],
             [
              0.3137254901960784,
              "rgb(123,30,89)"
             ],
             [
              0.3764705882352941,
              "rgb(150,27,91)"
             ],
             [
              0.4392156862745098,
              "rgb(177,22,88)"
             ],
             [
              0.5019607843137255,
              "rgb(203,26,79)"
             ],
             [
              0.5647058823529412,
              "rgb(223,47,67)"
             ],
             [
              0.6274509803921569,
              "rgb(236,76,61)"
             ],
             [
              0.6901960784313725,
              "rgb(242,107,73)"
             ],
             [
              0.7529411764705882,
              "rgb(244,135,95)"
             ],
             [
              0.8156862745098039,
              "rgb(245,162,122)"
             ],
             [
              0.8784313725490196,
              "rgb(246,188,153)"
             ],
             [
              0.9411764705882353,
              "rgb(247,212,187)"
             ],
             [
              1,
              "rgb(250,234,220)"
             ]
            ],
            "type": "contour"
           }
          ],
          "contourcarpet": [
           {
            "colorbar": {
             "outlinewidth": 0,
             "tickcolor": "rgb(36,36,36)",
             "ticklen": 8,
             "ticks": "outside",
             "tickwidth": 2
            },
            "type": "contourcarpet"
           }
          ],
          "heatmap": [
           {
            "colorbar": {
             "outlinewidth": 0,
             "tickcolor": "rgb(36,36,36)",
             "ticklen": 8,
             "ticks": "outside",
             "tickwidth": 2
            },
            "colorscale": [
             [
              0,
              "rgb(2,4,25)"
             ],
             [
              0.06274509803921569,
              "rgb(24,15,41)"
             ],
             [
              0.12549019607843137,
              "rgb(47,23,57)"
             ],
             [
              0.18823529411764706,
              "rgb(71,28,72)"
             ],
             [
              0.25098039215686274,
              "rgb(97,30,82)"
             ],
             [
              0.3137254901960784,
              "rgb(123,30,89)"
             ],
             [
              0.3764705882352941,
              "rgb(150,27,91)"
             ],
             [
              0.4392156862745098,
              "rgb(177,22,88)"
             ],
             [
              0.5019607843137255,
              "rgb(203,26,79)"
             ],
             [
              0.5647058823529412,
              "rgb(223,47,67)"
             ],
             [
              0.6274509803921569,
              "rgb(236,76,61)"
             ],
             [
              0.6901960784313725,
              "rgb(242,107,73)"
             ],
             [
              0.7529411764705882,
              "rgb(244,135,95)"
             ],
             [
              0.8156862745098039,
              "rgb(245,162,122)"
             ],
             [
              0.8784313725490196,
              "rgb(246,188,153)"
             ],
             [
              0.9411764705882353,
              "rgb(247,212,187)"
             ],
             [
              1,
              "rgb(250,234,220)"
             ]
            ],
            "type": "heatmap"
           }
          ],
          "heatmapgl": [
           {
            "colorbar": {
             "outlinewidth": 0,
             "tickcolor": "rgb(36,36,36)",
             "ticklen": 8,
             "ticks": "outside",
             "tickwidth": 2
            },
            "colorscale": [
             [
              0,
              "rgb(2,4,25)"
             ],
             [
              0.06274509803921569,
              "rgb(24,15,41)"
             ],
             [
              0.12549019607843137,
              "rgb(47,23,57)"
             ],
             [
              0.18823529411764706,
              "rgb(71,28,72)"
             ],
             [
              0.25098039215686274,
              "rgb(97,30,82)"
             ],
             [
              0.3137254901960784,
              "rgb(123,30,89)"
             ],
             [
              0.3764705882352941,
              "rgb(150,27,91)"
             ],
             [
              0.4392156862745098,
              "rgb(177,22,88)"
             ],
             [
              0.5019607843137255,
              "rgb(203,26,79)"
             ],
             [
              0.5647058823529412,
              "rgb(223,47,67)"
             ],
             [
              0.6274509803921569,
              "rgb(236,76,61)"
             ],
             [
              0.6901960784313725,
              "rgb(242,107,73)"
             ],
             [
              0.7529411764705882,
              "rgb(244,135,95)"
             ],
             [
              0.8156862745098039,
              "rgb(245,162,122)"
             ],
             [
              0.8784313725490196,
              "rgb(246,188,153)"
             ],
             [
              0.9411764705882353,
              "rgb(247,212,187)"
             ],
             [
              1,
              "rgb(250,234,220)"
             ]
            ],
            "type": "heatmapgl"
           }
          ],
          "histogram": [
           {
            "marker": {
             "pattern": {
              "fillmode": "overlay",
              "size": 10,
              "solidity": 0.2
             }
            },
            "type": "histogram"
           }
          ],
          "histogram2d": [
           {
            "colorbar": {
             "outlinewidth": 0,
             "tickcolor": "rgb(36,36,36)",
             "ticklen": 8,
             "ticks": "outside",
             "tickwidth": 2
            },
            "colorscale": [
             [
              0,
              "rgb(2,4,25)"
             ],
             [
              0.06274509803921569,
              "rgb(24,15,41)"
             ],
             [
              0.12549019607843137,
              "rgb(47,23,57)"
             ],
             [
              0.18823529411764706,
              "rgb(71,28,72)"
             ],
             [
              0.25098039215686274,
              "rgb(97,30,82)"
             ],
             [
              0.3137254901960784,
              "rgb(123,30,89)"
             ],
             [
              0.3764705882352941,
              "rgb(150,27,91)"
             ],
             [
              0.4392156862745098,
              "rgb(177,22,88)"
             ],
             [
              0.5019607843137255,
              "rgb(203,26,79)"
             ],
             [
              0.5647058823529412,
              "rgb(223,47,67)"
             ],
             [
              0.6274509803921569,
              "rgb(236,76,61)"
             ],
             [
              0.6901960784313725,
              "rgb(242,107,73)"
             ],
             [
              0.7529411764705882,
              "rgb(244,135,95)"
             ],
             [
              0.8156862745098039,
              "rgb(245,162,122)"
             ],
             [
              0.8784313725490196,
              "rgb(246,188,153)"
             ],
             [
              0.9411764705882353,
              "rgb(247,212,187)"
             ],
             [
              1,
              "rgb(250,234,220)"
             ]
            ],
            "type": "histogram2d"
           }
          ],
          "histogram2dcontour": [
           {
            "colorbar": {
             "outlinewidth": 0,
             "tickcolor": "rgb(36,36,36)",
             "ticklen": 8,
             "ticks": "outside",
             "tickwidth": 2
            },
            "colorscale": [
             [
              0,
              "rgb(2,4,25)"
             ],
             [
              0.06274509803921569,
              "rgb(24,15,41)"
             ],
             [
              0.12549019607843137,
              "rgb(47,23,57)"
             ],
             [
              0.18823529411764706,
              "rgb(71,28,72)"
             ],
             [
              0.25098039215686274,
              "rgb(97,30,82)"
             ],
             [
              0.3137254901960784,
              "rgb(123,30,89)"
             ],
             [
              0.3764705882352941,
              "rgb(150,27,91)"
             ],
             [
              0.4392156862745098,
              "rgb(177,22,88)"
             ],
             [
              0.5019607843137255,
              "rgb(203,26,79)"
             ],
             [
              0.5647058823529412,
              "rgb(223,47,67)"
             ],
             [
              0.6274509803921569,
              "rgb(236,76,61)"
             ],
             [
              0.6901960784313725,
              "rgb(242,107,73)"
             ],
             [
              0.7529411764705882,
              "rgb(244,135,95)"
             ],
             [
              0.8156862745098039,
              "rgb(245,162,122)"
             ],
             [
              0.8784313725490196,
              "rgb(246,188,153)"
             ],
             [
              0.9411764705882353,
              "rgb(247,212,187)"
             ],
             [
              1,
              "rgb(250,234,220)"
             ]
            ],
            "type": "histogram2dcontour"
           }
          ],
          "mesh3d": [
           {
            "colorbar": {
             "outlinewidth": 0,
             "tickcolor": "rgb(36,36,36)",
             "ticklen": 8,
             "ticks": "outside",
             "tickwidth": 2
            },
            "type": "mesh3d"
           }
          ],
          "parcoords": [
           {
            "line": {
             "colorbar": {
              "outlinewidth": 0,
              "tickcolor": "rgb(36,36,36)",
              "ticklen": 8,
              "ticks": "outside",
              "tickwidth": 2
             }
            },
            "type": "parcoords"
           }
          ],
          "pie": [
           {
            "automargin": true,
            "type": "pie"
           }
          ],
          "scatter": [
           {
            "fillpattern": {
             "fillmode": "overlay",
             "size": 10,
             "solidity": 0.2
            },
            "type": "scatter"
           }
          ],
          "scatter3d": [
           {
            "line": {
             "colorbar": {
              "outlinewidth": 0,
              "tickcolor": "rgb(36,36,36)",
              "ticklen": 8,
              "ticks": "outside",
              "tickwidth": 2
             }
            },
            "marker": {
             "colorbar": {
              "outlinewidth": 0,
              "tickcolor": "rgb(36,36,36)",
              "ticklen": 8,
              "ticks": "outside",
              "tickwidth": 2
             }
            },
            "type": "scatter3d"
           }
          ],
          "scattercarpet": [
           {
            "marker": {
             "colorbar": {
              "outlinewidth": 0,
              "tickcolor": "rgb(36,36,36)",
              "ticklen": 8,
              "ticks": "outside",
              "tickwidth": 2
             }
            },
            "type": "scattercarpet"
           }
          ],
          "scattergeo": [
           {
            "marker": {
             "colorbar": {
              "outlinewidth": 0,
              "tickcolor": "rgb(36,36,36)",
              "ticklen": 8,
              "ticks": "outside",
              "tickwidth": 2
             }
            },
            "type": "scattergeo"
           }
          ],
          "scattergl": [
           {
            "marker": {
             "colorbar": {
              "outlinewidth": 0,
              "tickcolor": "rgb(36,36,36)",
              "ticklen": 8,
              "ticks": "outside",
              "tickwidth": 2
             }
            },
            "type": "scattergl"
           }
          ],
          "scattermapbox": [
           {
            "marker": {
             "colorbar": {
              "outlinewidth": 0,
              "tickcolor": "rgb(36,36,36)",
              "ticklen": 8,
              "ticks": "outside",
              "tickwidth": 2
             }
            },
            "type": "scattermapbox"
           }
          ],
          "scatterpolar": [
           {
            "marker": {
             "colorbar": {
              "outlinewidth": 0,
              "tickcolor": "rgb(36,36,36)",
              "ticklen": 8,
              "ticks": "outside",
              "tickwidth": 2
             }
            },
            "type": "scatterpolar"
           }
          ],
          "scatterpolargl": [
           {
            "marker": {
             "colorbar": {
              "outlinewidth": 0,
              "tickcolor": "rgb(36,36,36)",
              "ticklen": 8,
              "ticks": "outside",
              "tickwidth": 2
             }
            },
            "type": "scatterpolargl"
           }
          ],
          "scatterternary": [
           {
            "marker": {
             "colorbar": {
              "outlinewidth": 0,
              "tickcolor": "rgb(36,36,36)",
              "ticklen": 8,
              "ticks": "outside",
              "tickwidth": 2
             }
            },
            "type": "scatterternary"
           }
          ],
          "surface": [
           {
            "colorbar": {
             "outlinewidth": 0,
             "tickcolor": "rgb(36,36,36)",
             "ticklen": 8,
             "ticks": "outside",
             "tickwidth": 2
            },
            "colorscale": [
             [
              0,
              "rgb(2,4,25)"
             ],
             [
              0.06274509803921569,
              "rgb(24,15,41)"
             ],
             [
              0.12549019607843137,
              "rgb(47,23,57)"
             ],
             [
              0.18823529411764706,
              "rgb(71,28,72)"
             ],
             [
              0.25098039215686274,
              "rgb(97,30,82)"
             ],
             [
              0.3137254901960784,
              "rgb(123,30,89)"
             ],
             [
              0.3764705882352941,
              "rgb(150,27,91)"
             ],
             [
              0.4392156862745098,
              "rgb(177,22,88)"
             ],
             [
              0.5019607843137255,
              "rgb(203,26,79)"
             ],
             [
              0.5647058823529412,
              "rgb(223,47,67)"
             ],
             [
              0.6274509803921569,
              "rgb(236,76,61)"
             ],
             [
              0.6901960784313725,
              "rgb(242,107,73)"
             ],
             [
              0.7529411764705882,
              "rgb(244,135,95)"
             ],
             [
              0.8156862745098039,
              "rgb(245,162,122)"
             ],
             [
              0.8784313725490196,
              "rgb(246,188,153)"
             ],
             [
              0.9411764705882353,
              "rgb(247,212,187)"
             ],
             [
              1,
              "rgb(250,234,220)"
             ]
            ],
            "type": "surface"
           }
          ],
          "table": [
           {
            "cells": {
             "fill": {
              "color": "rgb(231,231,240)"
             },
             "line": {
              "color": "white"
             }
            },
            "header": {
             "fill": {
              "color": "rgb(183,183,191)"
             },
             "line": {
              "color": "white"
             }
            },
            "type": "table"
           }
          ]
         },
         "layout": {
          "annotationdefaults": {
           "arrowcolor": "rgb(67,103,167)"
          },
          "autotypenumbers": "strict",
          "coloraxis": {
           "colorbar": {
            "outlinewidth": 0,
            "tickcolor": "rgb(36,36,36)",
            "ticklen": 8,
            "ticks": "outside",
            "tickwidth": 2
           }
          },
          "colorscale": {
           "sequential": [
            [
             0,
             "rgb(2,4,25)"
            ],
            [
             0.06274509803921569,
             "rgb(24,15,41)"
            ],
            [
             0.12549019607843137,
             "rgb(47,23,57)"
            ],
            [
             0.18823529411764706,
             "rgb(71,28,72)"
            ],
            [
             0.25098039215686274,
             "rgb(97,30,82)"
            ],
            [
             0.3137254901960784,
             "rgb(123,30,89)"
            ],
            [
             0.3764705882352941,
             "rgb(150,27,91)"
            ],
            [
             0.4392156862745098,
             "rgb(177,22,88)"
            ],
            [
             0.5019607843137255,
             "rgb(203,26,79)"
            ],
            [
             0.5647058823529412,
             "rgb(223,47,67)"
            ],
            [
             0.6274509803921569,
             "rgb(236,76,61)"
            ],
            [
             0.6901960784313725,
             "rgb(242,107,73)"
            ],
            [
             0.7529411764705882,
             "rgb(244,135,95)"
            ],
            [
             0.8156862745098039,
             "rgb(245,162,122)"
            ],
            [
             0.8784313725490196,
             "rgb(246,188,153)"
            ],
            [
             0.9411764705882353,
             "rgb(247,212,187)"
            ],
            [
             1,
             "rgb(250,234,220)"
            ]
           ],
           "sequentialminus": [
            [
             0,
             "rgb(2,4,25)"
            ],
            [
             0.06274509803921569,
             "rgb(24,15,41)"
            ],
            [
             0.12549019607843137,
             "rgb(47,23,57)"
            ],
            [
             0.18823529411764706,
             "rgb(71,28,72)"
            ],
            [
             0.25098039215686274,
             "rgb(97,30,82)"
            ],
            [
             0.3137254901960784,
             "rgb(123,30,89)"
            ],
            [
             0.3764705882352941,
             "rgb(150,27,91)"
            ],
            [
             0.4392156862745098,
             "rgb(177,22,88)"
            ],
            [
             0.5019607843137255,
             "rgb(203,26,79)"
            ],
            [
             0.5647058823529412,
             "rgb(223,47,67)"
            ],
            [
             0.6274509803921569,
             "rgb(236,76,61)"
            ],
            [
             0.6901960784313725,
             "rgb(242,107,73)"
            ],
            [
             0.7529411764705882,
             "rgb(244,135,95)"
            ],
            [
             0.8156862745098039,
             "rgb(245,162,122)"
            ],
            [
             0.8784313725490196,
             "rgb(246,188,153)"
            ],
            [
             0.9411764705882353,
             "rgb(247,212,187)"
            ],
            [
             1,
             "rgb(250,234,220)"
            ]
           ]
          },
          "colorway": [
           "rgb(76,114,176)",
           "rgb(221,132,82)",
           "rgb(85,168,104)",
           "rgb(196,78,82)",
           "rgb(129,114,179)",
           "rgb(147,120,96)",
           "rgb(218,139,195)",
           "rgb(140,140,140)",
           "rgb(204,185,116)",
           "rgb(100,181,205)"
          ],
          "font": {
           "color": "rgb(36,36,36)"
          },
          "geo": {
           "bgcolor": "white",
           "lakecolor": "white",
           "landcolor": "rgb(234,234,242)",
           "showlakes": true,
           "showland": true,
           "subunitcolor": "white"
          },
          "hoverlabel": {
           "align": "left"
          },
          "hovermode": "closest",
          "paper_bgcolor": "white",
          "plot_bgcolor": "rgb(234,234,242)",
          "polar": {
           "angularaxis": {
            "gridcolor": "white",
            "linecolor": "white",
            "showgrid": true,
            "ticks": ""
           },
           "bgcolor": "rgb(234,234,242)",
           "radialaxis": {
            "gridcolor": "white",
            "linecolor": "white",
            "showgrid": true,
            "ticks": ""
           }
          },
          "scene": {
           "xaxis": {
            "backgroundcolor": "rgb(234,234,242)",
            "gridcolor": "white",
            "gridwidth": 2,
            "linecolor": "white",
            "showbackground": true,
            "showgrid": true,
            "ticks": "",
            "zerolinecolor": "white"
           },
           "yaxis": {
            "backgroundcolor": "rgb(234,234,242)",
            "gridcolor": "white",
            "gridwidth": 2,
            "linecolor": "white",
            "showbackground": true,
            "showgrid": true,
            "ticks": "",
            "zerolinecolor": "white"
           },
           "zaxis": {
            "backgroundcolor": "rgb(234,234,242)",
            "gridcolor": "white",
            "gridwidth": 2,
            "linecolor": "white",
            "showbackground": true,
            "showgrid": true,
            "ticks": "",
            "zerolinecolor": "white"
           }
          },
          "shapedefaults": {
           "fillcolor": "rgb(67,103,167)",
           "line": {
            "width": 0
           },
           "opacity": 0.5
          },
          "ternary": {
           "aaxis": {
            "gridcolor": "white",
            "linecolor": "white",
            "showgrid": true,
            "ticks": ""
           },
           "baxis": {
            "gridcolor": "white",
            "linecolor": "white",
            "showgrid": true,
            "ticks": ""
           },
           "bgcolor": "rgb(234,234,242)",
           "caxis": {
            "gridcolor": "white",
            "linecolor": "white",
            "showgrid": true,
            "ticks": ""
           }
          },
          "xaxis": {
           "automargin": true,
           "gridcolor": "white",
           "linecolor": "white",
           "showgrid": true,
           "ticks": "",
           "title": {
            "standoff": 15
           },
           "zerolinecolor": "white"
          },
          "yaxis": {
           "automargin": true,
           "gridcolor": "white",
           "linecolor": "white",
           "showgrid": true,
           "ticks": "",
           "title": {
            "standoff": 15
           },
           "zerolinecolor": "white"
          }
         }
        },
        "width": 800,
        "xaxis": {
         "anchor": "y",
         "domain": [
          0,
          1
         ],
         "title": {
          "text": "x"
         }
        },
        "yaxis": {
         "anchor": "x",
         "domain": [
          0,
          1
         ],
         "title": {
          "text": "y"
         }
        }
       }
      }
     },
     "metadata": {},
     "output_type": "display_data"
    }
   ],
   "source": [
    "# Plot with plotly\n",
    "# {0: Economic, 1: Environment; 2: Health, 3: Human, 4: Politic, 5: All}\n",
    "i = 5\n",
    "fig = px.scatter(x = X[i], y = Y[i], color = dataFrame[i].iloc[:,-1],  hover_name=country, \n",
    "                template = 'seaborn', width = 800, height = 500\n",
    "                )\n",
    "\n",
    "fig.show()"
   ]
  },
  {
   "cell_type": "code",
   "execution_count": 66,
   "metadata": {},
   "outputs": [
    {
     "data": {
      "application/vnd.plotly.v1+json": {
       "config": {
        "plotlyServerURL": "https://plot.ly"
       },
       "data": [
        {
         "alignmentgroup": "True",
         "boxpoints": "all",
         "fillcolor": "rgba(255,255,255,0)",
         "hoveron": "points",
         "hovertemplate": "<b>%{hovertext}</b><br><br>color=Low<br>y=%{y}<extra></extra>",
         "hovertext": [
          "Afghanistan",
          "Angola",
          "Azerbaijan",
          "Bahrain",
          "Bangladesh",
          "Barbados",
          "Belize",
          "Benin",
          "Botswana",
          "Bulgaria",
          "Burkina Faso",
          "Burundi",
          "Cambodia",
          "Cameroon",
          "Central African Republic",
          "Chad",
          "Comoros",
          "Congo (Dem. Rep.)",
          "Congo (Rep.)",
          "Cote d'Ivoire",
          "Djibouti",
          "Dominican Republic",
          "Egypt",
          "Equatorial Guinea",
          "Eritrea",
          "Eswatini",
          "Ethiopia",
          "Gabon",
          "Gambia, The",
          "Ghana",
          "Guatemala",
          "Guinea",
          "Guinea-Bissau",
          "Haiti",
          "Iran",
          "Iraq",
          "Kenya",
          "Korea (Dem. People’s Rep.)",
          "Laos",
          "Lebanon",
          "Lesotho",
          "Liberia",
          "Libya",
          "Madagascar",
          "Malawi",
          "Mali",
          "Mauritania",
          "Mauritius",
          "Moldova",
          "Mongolia",
          "Mozambique",
          "Myanmar",
          "Nepal",
          "Niger",
          "Nigeria",
          "North Macedonia",
          "Pakistan",
          "Papua New Guinea",
          "Philippines",
          "Qatar",
          "Rwanda",
          "Senegal",
          "Sierra Leone",
          "Solomon Islands",
          "Somalia",
          "South Africa",
          "South Sudan",
          "Sudan",
          "Syria",
          "Tajikistan",
          "Tanzania",
          "Timor-Leste",
          "Togo",
          "Turkmenistan",
          "Uganda",
          "Venezuela",
          "Yemen",
          "Zambia",
          "Zimbabwe"
         ],
         "legendgroup": "Low",
         "line": {
          "color": "rgba(255,255,255,0)"
         },
         "marker": {
          "color": "rgb(76,114,176)"
         },
         "name": "Low",
         "offsetgroup": "Low",
         "orientation": "v",
         "pointpos": 0,
         "showlegend": true,
         "type": "box",
         "x0": " ",
         "xaxis": "x",
         "y": [
          0.1589833306084351,
          0.2298685883322543,
          0.286920050938844,
          0.2891562639039811,
          0.15258741580452395,
          0.2773266716625115,
          0.2975167312347605,
          0.20930921782291795,
          0.2940473098476499,
          0.28519118113875636,
          0.21675859023745175,
          0.15853659703705567,
          0.2715730712571403,
          0.1884791303171659,
          0.08739846653992905,
          0.06906032401613023,
          0.19353653054653397,
          0.15335697264666664,
          0.21147160085498987,
          0.23116704618416803,
          0.202035182508517,
          0.26946756259197324,
          0.28309914064867414,
          0.18656317593887026,
          0.14722611292640425,
          0.1565838792996461,
          0.21547703527258838,
          0.2616739544856642,
          0.19732994946077298,
          0.27116990264355695,
          0.26326531667146885,
          0.19161051008909627,
          0.15511077228736173,
          0.12785974139603334,
          0.29397590097835324,
          0.2651666295127951,
          0.2698505542255393,
          0.1612938399108708,
          0.2528648844033953,
          0.27205207336308046,
          0.16107982439289287,
          0.16172511948913226,
          0.23818567195950444,
          0.182966100296378,
          0.2193857307240048,
          0.20098442909427056,
          0.2209925942469738,
          0.2570006667034609,
          0.29663083751394803,
          0.29002148743569334,
          0.22315518352619831,
          0.2163100151173564,
          0.2863479780414071,
          0.14881661405291574,
          0.06372718720235296,
          0.2808715364796548,
          0.2546600439514612,
          0.1687010760042373,
          0.2855205293087942,
          0.25751281876437976,
          0.25222524934691526,
          0.28084149444660195,
          0.1428894229090071,
          0.23321372942399132,
          0.010685367003252651,
          0.20296085791162097,
          0.025091421930376702,
          0.17239589253797036,
          0.13245459849538704,
          0.27154611881509483,
          0.18132587525637062,
          0.26841792220988714,
          0.23380426128142942,
          0.25200734313387263,
          0.17742437244456083,
          0.2823941957566484,
          0.06458017187338136,
          0.2311671365748949,
          0.17948501359360275
         ],
         "y0": " ",
         "yaxis": "y"
        },
        {
         "alignmentgroup": "True",
         "boxpoints": "all",
         "fillcolor": "rgba(255,255,255,0)",
         "hoveron": "points",
         "hovertemplate": "<b>%{hovertext}</b><br><br>color=High<br>y=%{y}<extra></extra>",
         "hovertext": [
          "Albania",
          "Algeria",
          "Argentina",
          "Armenia",
          "Australia",
          "Austria",
          "Bahamas",
          "Belarus",
          "Belgium",
          "Bhutan",
          "Bolivia",
          "Bosnia and Herzegovina",
          "Brazil",
          "Brunei Darussalam",
          "Cabo Verde",
          "Canada",
          "Chile",
          "China",
          "Colombia",
          "Costa Rica",
          "Croatia",
          "Cuba",
          "Cyprus",
          "Czech Republic",
          "Denmark",
          "Ecuador",
          "El Salvador",
          "Estonia",
          "Fiji",
          "Finland",
          "France",
          "Georgia",
          "Germany",
          "Greece",
          "Guyana",
          "Honduras",
          "Hungary",
          "Iceland",
          "India",
          "Indonesia",
          "Ireland",
          "Israel",
          "Italy",
          "Jamaica",
          "Japan",
          "Jordan",
          "Kazakhstan",
          "Korea (Rep.)",
          "Kosovo",
          "Kuwait",
          "Kyrgyzstan",
          "Latvia",
          "Lithuania",
          "Luxembourg",
          "Malaysia",
          "Maldives",
          "Malta",
          "Mexico",
          "Montenegro",
          "Morocco",
          "Namibia",
          "Netherlands",
          "New Zealand",
          "Nicaragua",
          "Norway",
          "Oman",
          "Panama",
          "Paraguay",
          "Peru",
          "Poland",
          "Portugal",
          "Romania",
          "Russia",
          "Saudi Arabia",
          "Serbia",
          "Singapore",
          "Slovakia",
          "Slovenia",
          "Spain",
          "Sri Lanka",
          "Suriname",
          "Sweden",
          "Switzerland",
          "Taiwan",
          "Thailand",
          "Trinidad and Tobago",
          "Tunisia",
          "Turkiye",
          "Ukraine",
          "United Arab Emirates",
          "United Kingdom",
          "United States",
          "Uruguay",
          "Uzbekistan",
          "Vietnam"
         ],
         "legendgroup": "High",
         "line": {
          "color": "rgba(255,255,255,0)"
         },
         "marker": {
          "color": "rgb(221,132,82)"
         },
         "name": "High",
         "offsetgroup": "High",
         "orientation": "v",
         "pointpos": 0,
         "showlegend": true,
         "type": "box",
         "x0": " ",
         "xaxis": "x",
         "y": [
          0.3327959553724978,
          0.3258836627926084,
          0.3923918299156067,
          0.32780772555493953,
          0.4814634071318037,
          0.42970890774036974,
          0.3222571316132161,
          0.31517348345409923,
          0.43573882155415317,
          0.30493057979497734,
          0.3344240815785682,
          0.3230502379979175,
          0.45012322231767543,
          0.3189375419574752,
          0.30391851580525486,
          0.5118533583758502,
          0.44973975941274047,
          0.3522393236515116,
          0.4330983238062262,
          0.4281147145206541,
          0.3963648662819863,
          0.327348090284847,
          0.36970868653322914,
          0.384374579364765,
          0.4681764225521938,
          0.3866118506694208,
          0.30090821965447806,
          0.4007008153190739,
          0.3405567592987365,
          0.48470433189287865,
          0.46357198433194957,
          0.30719971430614024,
          0.4463677862892247,
          0.39088925079283543,
          0.30306018370304333,
          0.3177562657392062,
          0.36197821878354464,
          0.3704277685169567,
          0.3200169865961521,
          0.3574782383649254,
          0.4030861185180884,
          0.43010941605664615,
          0.4360556731537303,
          0.32268709198511725,
          0.4513292123919844,
          0.3126209378006371,
          0.32557600752440047,
          0.43172813938717436,
          0.3017546889925137,
          0.34532472601864284,
          0.3154406091653475,
          0.3695979717708913,
          0.3690971074692261,
          0.3752658362717867,
          0.3682063487061711,
          0.31285188669818315,
          0.3245833325433308,
          0.37193241618727974,
          0.3098479533243526,
          0.3417437456733116,
          0.31189928926384863,
          0.45139327922541117,
          0.4625406583801713,
          0.3137560810731065,
          0.5201535248549473,
          0.32485613655827705,
          0.37582191417570066,
          0.3427889412946369,
          0.38087535059740374,
          0.3917346575091635,
          0.4305952376624809,
          0.35557182605202337,
          0.3767125547102136,
          0.35942783828464486,
          0.3417702204443322,
          0.4055149436247446,
          0.3633686597767355,
          0.3904534398164631,
          0.4354229097277985,
          0.3197418673032541,
          0.31360414915402846,
          0.5036696357253401,
          0.44001586199255716,
          0.4087781657102706,
          0.33052214722988466,
          0.3114989427305663,
          0.32773555032141954,
          0.34965876630106923,
          0.3302676483415786,
          0.36377615310254713,
          0.4053569075265525,
          0.4614159243638147,
          0.4395469833711957,
          0.31704792469809356,
          0.3496339169649717
         ],
         "y0": " ",
         "yaxis": "y"
        }
       ],
       "layout": {
        "boxmode": "group",
        "height": 500,
        "legend": {
         "title": {
          "text": "color"
         },
         "tracegroupgap": 0
        },
        "margin": {
         "t": 60
        },
        "template": {
         "data": {
          "bar": [
           {
            "error_x": {
             "color": "rgb(36,36,36)"
            },
            "error_y": {
             "color": "rgb(36,36,36)"
            },
            "marker": {
             "line": {
              "color": "rgb(234,234,242)",
              "width": 0.5
             },
             "pattern": {
              "fillmode": "overlay",
              "size": 10,
              "solidity": 0.2
             }
            },
            "type": "bar"
           }
          ],
          "barpolar": [
           {
            "marker": {
             "line": {
              "color": "rgb(234,234,242)",
              "width": 0.5
             },
             "pattern": {
              "fillmode": "overlay",
              "size": 10,
              "solidity": 0.2
             }
            },
            "type": "barpolar"
           }
          ],
          "carpet": [
           {
            "aaxis": {
             "endlinecolor": "rgb(36,36,36)",
             "gridcolor": "white",
             "linecolor": "white",
             "minorgridcolor": "white",
             "startlinecolor": "rgb(36,36,36)"
            },
            "baxis": {
             "endlinecolor": "rgb(36,36,36)",
             "gridcolor": "white",
             "linecolor": "white",
             "minorgridcolor": "white",
             "startlinecolor": "rgb(36,36,36)"
            },
            "type": "carpet"
           }
          ],
          "choropleth": [
           {
            "colorbar": {
             "outlinewidth": 0,
             "tickcolor": "rgb(36,36,36)",
             "ticklen": 8,
             "ticks": "outside",
             "tickwidth": 2
            },
            "type": "choropleth"
           }
          ],
          "contour": [
           {
            "colorbar": {
             "outlinewidth": 0,
             "tickcolor": "rgb(36,36,36)",
             "ticklen": 8,
             "ticks": "outside",
             "tickwidth": 2
            },
            "colorscale": [
             [
              0,
              "rgb(2,4,25)"
             ],
             [
              0.06274509803921569,
              "rgb(24,15,41)"
             ],
             [
              0.12549019607843137,
              "rgb(47,23,57)"
             ],
             [
              0.18823529411764706,
              "rgb(71,28,72)"
             ],
             [
              0.25098039215686274,
              "rgb(97,30,82)"
             ],
             [
              0.3137254901960784,
              "rgb(123,30,89)"
             ],
             [
              0.3764705882352941,
              "rgb(150,27,91)"
             ],
             [
              0.4392156862745098,
              "rgb(177,22,88)"
             ],
             [
              0.5019607843137255,
              "rgb(203,26,79)"
             ],
             [
              0.5647058823529412,
              "rgb(223,47,67)"
             ],
             [
              0.6274509803921569,
              "rgb(236,76,61)"
             ],
             [
              0.6901960784313725,
              "rgb(242,107,73)"
             ],
             [
              0.7529411764705882,
              "rgb(244,135,95)"
             ],
             [
              0.8156862745098039,
              "rgb(245,162,122)"
             ],
             [
              0.8784313725490196,
              "rgb(246,188,153)"
             ],
             [
              0.9411764705882353,
              "rgb(247,212,187)"
             ],
             [
              1,
              "rgb(250,234,220)"
             ]
            ],
            "type": "contour"
           }
          ],
          "contourcarpet": [
           {
            "colorbar": {
             "outlinewidth": 0,
             "tickcolor": "rgb(36,36,36)",
             "ticklen": 8,
             "ticks": "outside",
             "tickwidth": 2
            },
            "type": "contourcarpet"
           }
          ],
          "heatmap": [
           {
            "colorbar": {
             "outlinewidth": 0,
             "tickcolor": "rgb(36,36,36)",
             "ticklen": 8,
             "ticks": "outside",
             "tickwidth": 2
            },
            "colorscale": [
             [
              0,
              "rgb(2,4,25)"
             ],
             [
              0.06274509803921569,
              "rgb(24,15,41)"
             ],
             [
              0.12549019607843137,
              "rgb(47,23,57)"
             ],
             [
              0.18823529411764706,
              "rgb(71,28,72)"
             ],
             [
              0.25098039215686274,
              "rgb(97,30,82)"
             ],
             [
              0.3137254901960784,
              "rgb(123,30,89)"
             ],
             [
              0.3764705882352941,
              "rgb(150,27,91)"
             ],
             [
              0.4392156862745098,
              "rgb(177,22,88)"
             ],
             [
              0.5019607843137255,
              "rgb(203,26,79)"
             ],
             [
              0.5647058823529412,
              "rgb(223,47,67)"
             ],
             [
              0.6274509803921569,
              "rgb(236,76,61)"
             ],
             [
              0.6901960784313725,
              "rgb(242,107,73)"
             ],
             [
              0.7529411764705882,
              "rgb(244,135,95)"
             ],
             [
              0.8156862745098039,
              "rgb(245,162,122)"
             ],
             [
              0.8784313725490196,
              "rgb(246,188,153)"
             ],
             [
              0.9411764705882353,
              "rgb(247,212,187)"
             ],
             [
              1,
              "rgb(250,234,220)"
             ]
            ],
            "type": "heatmap"
           }
          ],
          "heatmapgl": [
           {
            "colorbar": {
             "outlinewidth": 0,
             "tickcolor": "rgb(36,36,36)",
             "ticklen": 8,
             "ticks": "outside",
             "tickwidth": 2
            },
            "colorscale": [
             [
              0,
              "rgb(2,4,25)"
             ],
             [
              0.06274509803921569,
              "rgb(24,15,41)"
             ],
             [
              0.12549019607843137,
              "rgb(47,23,57)"
             ],
             [
              0.18823529411764706,
              "rgb(71,28,72)"
             ],
             [
              0.25098039215686274,
              "rgb(97,30,82)"
             ],
             [
              0.3137254901960784,
              "rgb(123,30,89)"
             ],
             [
              0.3764705882352941,
              "rgb(150,27,91)"
             ],
             [
              0.4392156862745098,
              "rgb(177,22,88)"
             ],
             [
              0.5019607843137255,
              "rgb(203,26,79)"
             ],
             [
              0.5647058823529412,
              "rgb(223,47,67)"
             ],
             [
              0.6274509803921569,
              "rgb(236,76,61)"
             ],
             [
              0.6901960784313725,
              "rgb(242,107,73)"
             ],
             [
              0.7529411764705882,
              "rgb(244,135,95)"
             ],
             [
              0.8156862745098039,
              "rgb(245,162,122)"
             ],
             [
              0.8784313725490196,
              "rgb(246,188,153)"
             ],
             [
              0.9411764705882353,
              "rgb(247,212,187)"
             ],
             [
              1,
              "rgb(250,234,220)"
             ]
            ],
            "type": "heatmapgl"
           }
          ],
          "histogram": [
           {
            "marker": {
             "pattern": {
              "fillmode": "overlay",
              "size": 10,
              "solidity": 0.2
             }
            },
            "type": "histogram"
           }
          ],
          "histogram2d": [
           {
            "colorbar": {
             "outlinewidth": 0,
             "tickcolor": "rgb(36,36,36)",
             "ticklen": 8,
             "ticks": "outside",
             "tickwidth": 2
            },
            "colorscale": [
             [
              0,
              "rgb(2,4,25)"
             ],
             [
              0.06274509803921569,
              "rgb(24,15,41)"
             ],
             [
              0.12549019607843137,
              "rgb(47,23,57)"
             ],
             [
              0.18823529411764706,
              "rgb(71,28,72)"
             ],
             [
              0.25098039215686274,
              "rgb(97,30,82)"
             ],
             [
              0.3137254901960784,
              "rgb(123,30,89)"
             ],
             [
              0.3764705882352941,
              "rgb(150,27,91)"
             ],
             [
              0.4392156862745098,
              "rgb(177,22,88)"
             ],
             [
              0.5019607843137255,
              "rgb(203,26,79)"
             ],
             [
              0.5647058823529412,
              "rgb(223,47,67)"
             ],
             [
              0.6274509803921569,
              "rgb(236,76,61)"
             ],
             [
              0.6901960784313725,
              "rgb(242,107,73)"
             ],
             [
              0.7529411764705882,
              "rgb(244,135,95)"
             ],
             [
              0.8156862745098039,
              "rgb(245,162,122)"
             ],
             [
              0.8784313725490196,
              "rgb(246,188,153)"
             ],
             [
              0.9411764705882353,
              "rgb(247,212,187)"
             ],
             [
              1,
              "rgb(250,234,220)"
             ]
            ],
            "type": "histogram2d"
           }
          ],
          "histogram2dcontour": [
           {
            "colorbar": {
             "outlinewidth": 0,
             "tickcolor": "rgb(36,36,36)",
             "ticklen": 8,
             "ticks": "outside",
             "tickwidth": 2
            },
            "colorscale": [
             [
              0,
              "rgb(2,4,25)"
             ],
             [
              0.06274509803921569,
              "rgb(24,15,41)"
             ],
             [
              0.12549019607843137,
              "rgb(47,23,57)"
             ],
             [
              0.18823529411764706,
              "rgb(71,28,72)"
             ],
             [
              0.25098039215686274,
              "rgb(97,30,82)"
             ],
             [
              0.3137254901960784,
              "rgb(123,30,89)"
             ],
             [
              0.3764705882352941,
              "rgb(150,27,91)"
             ],
             [
              0.4392156862745098,
              "rgb(177,22,88)"
             ],
             [
              0.5019607843137255,
              "rgb(203,26,79)"
             ],
             [
              0.5647058823529412,
              "rgb(223,47,67)"
             ],
             [
              0.6274509803921569,
              "rgb(236,76,61)"
             ],
             [
              0.6901960784313725,
              "rgb(242,107,73)"
             ],
             [
              0.7529411764705882,
              "rgb(244,135,95)"
             ],
             [
              0.8156862745098039,
              "rgb(245,162,122)"
             ],
             [
              0.8784313725490196,
              "rgb(246,188,153)"
             ],
             [
              0.9411764705882353,
              "rgb(247,212,187)"
             ],
             [
              1,
              "rgb(250,234,220)"
             ]
            ],
            "type": "histogram2dcontour"
           }
          ],
          "mesh3d": [
           {
            "colorbar": {
             "outlinewidth": 0,
             "tickcolor": "rgb(36,36,36)",
             "ticklen": 8,
             "ticks": "outside",
             "tickwidth": 2
            },
            "type": "mesh3d"
           }
          ],
          "parcoords": [
           {
            "line": {
             "colorbar": {
              "outlinewidth": 0,
              "tickcolor": "rgb(36,36,36)",
              "ticklen": 8,
              "ticks": "outside",
              "tickwidth": 2
             }
            },
            "type": "parcoords"
           }
          ],
          "pie": [
           {
            "automargin": true,
            "type": "pie"
           }
          ],
          "scatter": [
           {
            "fillpattern": {
             "fillmode": "overlay",
             "size": 10,
             "solidity": 0.2
            },
            "type": "scatter"
           }
          ],
          "scatter3d": [
           {
            "line": {
             "colorbar": {
              "outlinewidth": 0,
              "tickcolor": "rgb(36,36,36)",
              "ticklen": 8,
              "ticks": "outside",
              "tickwidth": 2
             }
            },
            "marker": {
             "colorbar": {
              "outlinewidth": 0,
              "tickcolor": "rgb(36,36,36)",
              "ticklen": 8,
              "ticks": "outside",
              "tickwidth": 2
             }
            },
            "type": "scatter3d"
           }
          ],
          "scattercarpet": [
           {
            "marker": {
             "colorbar": {
              "outlinewidth": 0,
              "tickcolor": "rgb(36,36,36)",
              "ticklen": 8,
              "ticks": "outside",
              "tickwidth": 2
             }
            },
            "type": "scattercarpet"
           }
          ],
          "scattergeo": [
           {
            "marker": {
             "colorbar": {
              "outlinewidth": 0,
              "tickcolor": "rgb(36,36,36)",
              "ticklen": 8,
              "ticks": "outside",
              "tickwidth": 2
             }
            },
            "type": "scattergeo"
           }
          ],
          "scattergl": [
           {
            "marker": {
             "colorbar": {
              "outlinewidth": 0,
              "tickcolor": "rgb(36,36,36)",
              "ticklen": 8,
              "ticks": "outside",
              "tickwidth": 2
             }
            },
            "type": "scattergl"
           }
          ],
          "scattermapbox": [
           {
            "marker": {
             "colorbar": {
              "outlinewidth": 0,
              "tickcolor": "rgb(36,36,36)",
              "ticklen": 8,
              "ticks": "outside",
              "tickwidth": 2
             }
            },
            "type": "scattermapbox"
           }
          ],
          "scatterpolar": [
           {
            "marker": {
             "colorbar": {
              "outlinewidth": 0,
              "tickcolor": "rgb(36,36,36)",
              "ticklen": 8,
              "ticks": "outside",
              "tickwidth": 2
             }
            },
            "type": "scatterpolar"
           }
          ],
          "scatterpolargl": [
           {
            "marker": {
             "colorbar": {
              "outlinewidth": 0,
              "tickcolor": "rgb(36,36,36)",
              "ticklen": 8,
              "ticks": "outside",
              "tickwidth": 2
             }
            },
            "type": "scatterpolargl"
           }
          ],
          "scatterternary": [
           {
            "marker": {
             "colorbar": {
              "outlinewidth": 0,
              "tickcolor": "rgb(36,36,36)",
              "ticklen": 8,
              "ticks": "outside",
              "tickwidth": 2
             }
            },
            "type": "scatterternary"
           }
          ],
          "surface": [
           {
            "colorbar": {
             "outlinewidth": 0,
             "tickcolor": "rgb(36,36,36)",
             "ticklen": 8,
             "ticks": "outside",
             "tickwidth": 2
            },
            "colorscale": [
             [
              0,
              "rgb(2,4,25)"
             ],
             [
              0.06274509803921569,
              "rgb(24,15,41)"
             ],
             [
              0.12549019607843137,
              "rgb(47,23,57)"
             ],
             [
              0.18823529411764706,
              "rgb(71,28,72)"
             ],
             [
              0.25098039215686274,
              "rgb(97,30,82)"
             ],
             [
              0.3137254901960784,
              "rgb(123,30,89)"
             ],
             [
              0.3764705882352941,
              "rgb(150,27,91)"
             ],
             [
              0.4392156862745098,
              "rgb(177,22,88)"
             ],
             [
              0.5019607843137255,
              "rgb(203,26,79)"
             ],
             [
              0.5647058823529412,
              "rgb(223,47,67)"
             ],
             [
              0.6274509803921569,
              "rgb(236,76,61)"
             ],
             [
              0.6901960784313725,
              "rgb(242,107,73)"
             ],
             [
              0.7529411764705882,
              "rgb(244,135,95)"
             ],
             [
              0.8156862745098039,
              "rgb(245,162,122)"
             ],
             [
              0.8784313725490196,
              "rgb(246,188,153)"
             ],
             [
              0.9411764705882353,
              "rgb(247,212,187)"
             ],
             [
              1,
              "rgb(250,234,220)"
             ]
            ],
            "type": "surface"
           }
          ],
          "table": [
           {
            "cells": {
             "fill": {
              "color": "rgb(231,231,240)"
             },
             "line": {
              "color": "white"
             }
            },
            "header": {
             "fill": {
              "color": "rgb(183,183,191)"
             },
             "line": {
              "color": "white"
             }
            },
            "type": "table"
           }
          ]
         },
         "layout": {
          "annotationdefaults": {
           "arrowcolor": "rgb(67,103,167)"
          },
          "autotypenumbers": "strict",
          "coloraxis": {
           "colorbar": {
            "outlinewidth": 0,
            "tickcolor": "rgb(36,36,36)",
            "ticklen": 8,
            "ticks": "outside",
            "tickwidth": 2
           }
          },
          "colorscale": {
           "sequential": [
            [
             0,
             "rgb(2,4,25)"
            ],
            [
             0.06274509803921569,
             "rgb(24,15,41)"
            ],
            [
             0.12549019607843137,
             "rgb(47,23,57)"
            ],
            [
             0.18823529411764706,
             "rgb(71,28,72)"
            ],
            [
             0.25098039215686274,
             "rgb(97,30,82)"
            ],
            [
             0.3137254901960784,
             "rgb(123,30,89)"
            ],
            [
             0.3764705882352941,
             "rgb(150,27,91)"
            ],
            [
             0.4392156862745098,
             "rgb(177,22,88)"
            ],
            [
             0.5019607843137255,
             "rgb(203,26,79)"
            ],
            [
             0.5647058823529412,
             "rgb(223,47,67)"
            ],
            [
             0.6274509803921569,
             "rgb(236,76,61)"
            ],
            [
             0.6901960784313725,
             "rgb(242,107,73)"
            ],
            [
             0.7529411764705882,
             "rgb(244,135,95)"
            ],
            [
             0.8156862745098039,
             "rgb(245,162,122)"
            ],
            [
             0.8784313725490196,
             "rgb(246,188,153)"
            ],
            [
             0.9411764705882353,
             "rgb(247,212,187)"
            ],
            [
             1,
             "rgb(250,234,220)"
            ]
           ],
           "sequentialminus": [
            [
             0,
             "rgb(2,4,25)"
            ],
            [
             0.06274509803921569,
             "rgb(24,15,41)"
            ],
            [
             0.12549019607843137,
             "rgb(47,23,57)"
            ],
            [
             0.18823529411764706,
             "rgb(71,28,72)"
            ],
            [
             0.25098039215686274,
             "rgb(97,30,82)"
            ],
            [
             0.3137254901960784,
             "rgb(123,30,89)"
            ],
            [
             0.3764705882352941,
             "rgb(150,27,91)"
            ],
            [
             0.4392156862745098,
             "rgb(177,22,88)"
            ],
            [
             0.5019607843137255,
             "rgb(203,26,79)"
            ],
            [
             0.5647058823529412,
             "rgb(223,47,67)"
            ],
            [
             0.6274509803921569,
             "rgb(236,76,61)"
            ],
            [
             0.6901960784313725,
             "rgb(242,107,73)"
            ],
            [
             0.7529411764705882,
             "rgb(244,135,95)"
            ],
            [
             0.8156862745098039,
             "rgb(245,162,122)"
            ],
            [
             0.8784313725490196,
             "rgb(246,188,153)"
            ],
            [
             0.9411764705882353,
             "rgb(247,212,187)"
            ],
            [
             1,
             "rgb(250,234,220)"
            ]
           ]
          },
          "colorway": [
           "rgb(76,114,176)",
           "rgb(221,132,82)",
           "rgb(85,168,104)",
           "rgb(196,78,82)",
           "rgb(129,114,179)",
           "rgb(147,120,96)",
           "rgb(218,139,195)",
           "rgb(140,140,140)",
           "rgb(204,185,116)",
           "rgb(100,181,205)"
          ],
          "font": {
           "color": "rgb(36,36,36)"
          },
          "geo": {
           "bgcolor": "white",
           "lakecolor": "white",
           "landcolor": "rgb(234,234,242)",
           "showlakes": true,
           "showland": true,
           "subunitcolor": "white"
          },
          "hoverlabel": {
           "align": "left"
          },
          "hovermode": "closest",
          "paper_bgcolor": "white",
          "plot_bgcolor": "rgb(234,234,242)",
          "polar": {
           "angularaxis": {
            "gridcolor": "white",
            "linecolor": "white",
            "showgrid": true,
            "ticks": ""
           },
           "bgcolor": "rgb(234,234,242)",
           "radialaxis": {
            "gridcolor": "white",
            "linecolor": "white",
            "showgrid": true,
            "ticks": ""
           }
          },
          "scene": {
           "xaxis": {
            "backgroundcolor": "rgb(234,234,242)",
            "gridcolor": "white",
            "gridwidth": 2,
            "linecolor": "white",
            "showbackground": true,
            "showgrid": true,
            "ticks": "",
            "zerolinecolor": "white"
           },
           "yaxis": {
            "backgroundcolor": "rgb(234,234,242)",
            "gridcolor": "white",
            "gridwidth": 2,
            "linecolor": "white",
            "showbackground": true,
            "showgrid": true,
            "ticks": "",
            "zerolinecolor": "white"
           },
           "zaxis": {
            "backgroundcolor": "rgb(234,234,242)",
            "gridcolor": "white",
            "gridwidth": 2,
            "linecolor": "white",
            "showbackground": true,
            "showgrid": true,
            "ticks": "",
            "zerolinecolor": "white"
           }
          },
          "shapedefaults": {
           "fillcolor": "rgb(67,103,167)",
           "line": {
            "width": 0
           },
           "opacity": 0.5
          },
          "ternary": {
           "aaxis": {
            "gridcolor": "white",
            "linecolor": "white",
            "showgrid": true,
            "ticks": ""
           },
           "baxis": {
            "gridcolor": "white",
            "linecolor": "white",
            "showgrid": true,
            "ticks": ""
           },
           "bgcolor": "rgb(234,234,242)",
           "caxis": {
            "gridcolor": "white",
            "linecolor": "white",
            "showgrid": true,
            "ticks": ""
           }
          },
          "xaxis": {
           "automargin": true,
           "gridcolor": "white",
           "linecolor": "white",
           "showgrid": true,
           "ticks": "",
           "title": {
            "standoff": 15
           },
           "zerolinecolor": "white"
          },
          "yaxis": {
           "automargin": true,
           "gridcolor": "white",
           "linecolor": "white",
           "showgrid": true,
           "ticks": "",
           "title": {
            "standoff": 15
           },
           "zerolinecolor": "white"
          }
         }
        },
        "width": 800,
        "xaxis": {
         "anchor": "y",
         "domain": [
          0,
          1
         ]
        },
        "yaxis": {
         "anchor": "x",
         "domain": [
          0,
          1
         ],
         "title": {
          "text": "y"
         }
        }
       }
      }
     },
     "metadata": {},
     "output_type": "display_data"
    }
   ],
   "source": [
    "fig = px.strip(y = dataFrame[i].iloc[:,-2], color = dataFrame[i].iloc[:,-1],  hover_name=country, \n",
    "                template = 'seaborn', width = 800, height = 500\n",
    "                )\n",
    "\n",
    "fig.show()"
   ]
  },
  {
   "cell_type": "code",
   "execution_count": 67,
   "metadata": {},
   "outputs": [
    {
     "data": {
      "image/png": "[encoded data removed]",
      "text/plain": [
       "<Figure size 1440x720 with 6 Axes>"
      ]
     },
     "metadata": {
      "needs_background": "light"
     },
     "output_type": "display_data"
    }
   ],
   "source": [
    "fig, axes = plt.subplots(2,3, figsize = (20,10))\n",
    "fig.suptitle('Clutering Analysis')\n",
    "\n",
    "for row in range(2):\n",
    "    for col in range(3):\n",
    "        if(row != 1):\n",
    "            axes[row,col].set_title(Factors[col+row])\n",
    "            sns.scatterplot(ax = axes[row,col], x = X[col+row], y = Y[col+row], style = dataFrame[col+row].iloc[:,-1], hue = continent)\n",
    "        else:\n",
    "            axes[row,col].set_title(Factors[col+row+2])\n",
    "            sns.scatterplot(ax = axes[row,col], x = X[col+row+2], y = Y[col+row+2], style = dataFrame[col+row+2].iloc[:,-1], hue = continent)\n",
    "plt.savefig(\"plot/cluster.svg\")"
   ]
  },
  {
   "attachments": {},
   "cell_type": "markdown",
   "metadata": {},
   "source": [
    "### Export data and etc."
   ]
  },
  {
   "cell_type": "code",
   "execution_count": null,
   "metadata": {},
   "outputs": [],
   "source": [
    "for n, m in zip(Tsne_name, Tsne):\n",
    "    pd.DataFrame(m).to_csv('TSNE/'+n+'.csv', index = False)"
   ]
  },
  {
   "cell_type": "code",
   "execution_count": null,
   "metadata": {},
   "outputs": [],
   "source": [
    "nameIndex = ['datasets/indexes/indexECO.csv', 'datasets/indexes/indexENV.csv', 'datasets/indexes/indexHEL.csv', 'datasets/indexes/indexHUM.csv', 'datasets/indexes/indexPOL.csv', 'datasets/indexes/indexALL.csv']\n",
    "\n",
    "for d, n in zip(dataFrame, nameIndex):\n",
    "    pd.DataFrame(d.iloc[:,-2:]).to_csv(n, index = False)"
   ]
  },
  {
   "cell_type": "code",
   "execution_count": null,
   "metadata": {},
   "outputs": [],
   "source": [
    "tsne_and_index = [pd.concat([pd.DataFrame(Tsne[i]),dataFrame[i].iloc[:,-2:]], axis = 1) for i in range(6)]"
   ]
  },
  {
   "cell_type": "code",
   "execution_count": null,
   "metadata": {},
   "outputs": [],
   "source": [
    "tsne_and_indexes = pd.concat(tsne_and_index, axis = 1)"
   ]
  },
  {
   "cell_type": "code",
   "execution_count": null,
   "metadata": {},
   "outputs": [],
   "source": [
    "tsne_and_indexes.to_csv('data_for_dev/tsne_and_indexes.csv', index = False)"
   ]
  },
  {
   "cell_type": "code",
   "execution_count": null,
   "metadata": {},
   "outputs": [],
   "source": [
    "# Combine dataframe from split factor df\n",
    "DF = [df[list(factors[factors['Factor'] == Factors[i]]['Columns'])] for i in range(len(Factors))]\n",
    "\n",
    "worldFactor = pd.concat(DF, axis = 1)"
   ]
  },
  {
   "cell_type": "code",
   "execution_count": null,
   "metadata": {},
   "outputs": [],
   "source": [
    "worldFactor.to_csv('data_for_dev/world_data.csv', index = False)"
   ]
  }
 ],
 "metadata": {
  "kernelspec": {
   "display_name": "Python 3",
   "language": "python",
   "name": "python3"
  },
  "language_info": {
   "codemirror_mode": {
    "name": "ipython",
    "version": 3
   },
   "file_extension": ".py",
   "mimetype": "text/x-python",
   "name": "python",
   "nbconvert_exporter": "python",
   "pygments_lexer": "ipython3",
   "version": "3.10.9"
  },
  "orig_nbformat": 4,
  "vscode": {
   "interpreter": {
    "hash": "173ae74ecd759d33659dc89cc0ace91dba90ddaa088b7a848a7f37d845ddcc5d"
   }
  }
 },
 "nbformat": 4,
 "nbformat_minor": 2
}
