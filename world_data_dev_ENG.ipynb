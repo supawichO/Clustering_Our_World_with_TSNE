{
 "cells": [
  {
   "attachments": {},
   "cell_type": "markdown",
   "metadata": {},
   "source": [
    "# Sustainability Countries in Our World\n",
    "In this project, our world data is represented in 5 main aspects;\n",
    "1. Economic\n",
    "2. Environmental\n",
    "3. Health\n",
    "4. Human\n",
    "5. Political<br><br>\n",
    "\n",
    "These aspects are combined to create <b>Sustainability</b>. All of aspects will be mainly analyzed in 2 views (<em>Cluster analysis</em> and <em>Index of each aspect comparison</em>) to state how our world is now."
   ]
  },
  {
   "attachments": {},
   "cell_type": "markdown",
   "metadata": {},
   "source": [
    "### Import Package and check dataset\n",
    "Due to data sources are gathered diversely (World Bank, OurWorldinData, etc.), Checking, varifying, and handling with error and missing data is counted in the process. "
   ]
  },
  {
   "cell_type": "code",
   "execution_count": 1,
   "metadata": {},
   "outputs": [],
   "source": [
    "import pandas as pd\n",
    "import numpy as np\n",
    "import seaborn as sns\n",
    "from sklearn.manifold import TSNE\n",
    "import missingno as msno\n",
    "import matplotlib.pyplot as plt\n",
    "from fancyimpute import IterativeImputer\n",
    "from sklearn.preprocessing import MinMaxScaler\n",
    "import plotly.graph_objects as go\n",
    "import plotly.express as px\n",
    "from scipy.stats import gmean"
   ]
  },
  {
   "cell_type": "code",
   "execution_count": 2,
   "metadata": {},
   "outputs": [
    {
     "data": {
      "text/html": [
       "<div>\n",
       "<style scoped>\n",
       "    .dataframe tbody tr th:only-of-type {\n",
       "        vertical-align: middle;\n",
       "    }\n",
       "\n",
       "    .dataframe tbody tr th {\n",
       "        vertical-align: top;\n",
       "    }\n",
       "\n",
       "    .dataframe thead th {\n",
       "        text-align: right;\n",
       "    }\n",
       "</style>\n",
       "<table border=\"1\" class=\"dataframe\">\n",
       "  <thead>\n",
       "    <tr style=\"text-align: right;\">\n",
       "      <th></th>\n",
       "      <th>Ease of doing business score (0 = lowest performance to 100 = best performance)</th>\n",
       "      <th>Economic Growth</th>\n",
       "      <th>Employment to population ratio, 15+, total (%) (modeled ILO estimate)</th>\n",
       "      <th>GDP (current US$)</th>\n",
       "    </tr>\n",
       "  </thead>\n",
       "  <tbody>\n",
       "    <tr>\n",
       "      <th>0</th>\n",
       "      <td>44.06497</td>\n",
       "      <td>-2.35</td>\n",
       "      <td>35.893002</td>\n",
       "      <td>1.478686e+10</td>\n",
       "    </tr>\n",
       "    <tr>\n",
       "      <th>1</th>\n",
       "      <td>67.74847</td>\n",
       "      <td>8.54</td>\n",
       "      <td>51.609001</td>\n",
       "      <td>1.825579e+10</td>\n",
       "    </tr>\n",
       "    <tr>\n",
       "      <th>2</th>\n",
       "      <td>48.59758</td>\n",
       "      <td>3.85</td>\n",
       "      <td>35.113998</td>\n",
       "      <td>1.630000e+11</td>\n",
       "    </tr>\n",
       "    <tr>\n",
       "      <th>3</th>\n",
       "      <td>41.28838</td>\n",
       "      <td>0.70</td>\n",
       "      <td>69.936996</td>\n",
       "      <td>6.740429e+10</td>\n",
       "    </tr>\n",
       "    <tr>\n",
       "      <th>4</th>\n",
       "      <td>58.96151</td>\n",
       "      <td>10.26</td>\n",
       "      <td>53.814999</td>\n",
       "      <td>4.870000e+11</td>\n",
       "    </tr>\n",
       "  </tbody>\n",
       "</table>\n",
       "</div>"
      ],
      "text/plain": [
       "   Ease of doing business score (0 = lowest performance to 100 = best performance)  \\\n",
       "0                                           44.06497                                 \n",
       "1                                           67.74847                                 \n",
       "2                                           48.59758                                 \n",
       "3                                           41.28838                                 \n",
       "4                                           58.96151                                 \n",
       "\n",
       "   Economic Growth  \\\n",
       "0            -2.35   \n",
       "1             8.54   \n",
       "2             3.85   \n",
       "3             0.70   \n",
       "4            10.26   \n",
       "\n",
       "   Employment to population ratio, 15+, total (%) (modeled ILO estimate)  \\\n",
       "0                                          35.893002                       \n",
       "1                                          51.609001                       \n",
       "2                                          35.113998                       \n",
       "3                                          69.936996                       \n",
       "4                                          53.814999                       \n",
       "\n",
       "   GDP (current US$)  \n",
       "0       1.478686e+10  \n",
       "1       1.825579e+10  \n",
       "2       1.630000e+11  \n",
       "3       6.740429e+10  \n",
       "4       4.870000e+11  "
      ]
     },
     "execution_count": 2,
     "metadata": {},
     "output_type": "execute_result"
    }
   ],
   "source": [
    "# Load Dataset\n",
    "worldData = pd.read_csv('datasets/raw_world_source_ana.csv', na_values=[\"-\"], encoding='cp1252')\n",
    "worldData.iloc[:,3:7].head()"
   ]
  },
  {
   "cell_type": "code",
   "execution_count": 3,
   "metadata": {},
   "outputs": [
    {
     "data": {
      "text/plain": [
       "(174, 89)"
      ]
     },
     "execution_count": 3,
     "metadata": {},
     "output_type": "execute_result"
    }
   ],
   "source": [
    "# Check dimensions of it\n",
    "worldData.shape"
   ]
  },
  {
   "attachments": {},
   "cell_type": "markdown",
   "metadata": {},
   "source": [
    "Now dataset has 89 features and 174 instances."
   ]
  },
  {
   "cell_type": "code",
   "execution_count": 4,
   "metadata": {},
   "outputs": [
    {
     "data": {
      "text/plain": [
       "Country                                                                            0\n",
       "ISO Country code                                                                   0\n",
       "Continent                                                                          0\n",
       "Ease of doing business score (0 = lowest performance to 100 = best performance)    4\n",
       "Economic Growth                                                                    7\n",
       "                                                                                  ..\n",
       "Political Rights Score                                                             0\n",
       "Political Stability & Absence Of Violence                                          1\n",
       "Regulatory Quality                                                                 1\n",
       "Rule Of Law                                                                        1\n",
       "UHC service coverage index                                                         2\n",
       "Length: 89, dtype: int64"
      ]
     },
     "metadata": {},
     "output_type": "display_data"
    },
    {
     "data": {
      "text/plain": [
       "<AxesSubplot:>"
      ]
     },
     "execution_count": 4,
     "metadata": {},
     "output_type": "execute_result"
    },
    {
     "data": {
      "image/png": "[encoded data removed]",
      "text/plain": [
       "<Figure size 1800x720 with 2 Axes>"
      ]
     },
     "metadata": {
      "needs_background": "light"
     },
     "output_type": "display_data"
    }
   ],
   "source": [
    "# Check NA data\n",
    "display(worldData.isna().sum())\n",
    "\n",
    "# Check with missing matrix plot\n",
    "msno.matrix(worldData)"
   ]
  },
  {
   "attachments": {},
   "cell_type": "markdown",
   "metadata": {},
   "source": [
    "### Imputation\n",
    "\n",
    "As can be seen, there are approximate 1 in 3 of data are missing values and this is a crucial struggle to do cluster analysis.<br><br>\n",
    "\n",
    "Hence, Imputation method plays a role now by using <b>Multiple Imputations by Chained Equation (MICE)</b> to fill in missing values by an inclination data from the rest of features left."
   ]
  },
  {
   "cell_type": "code",
   "execution_count": 5,
   "metadata": {},
   "outputs": [],
   "source": [
    "def into_the_unknown(DataFrame, scaler, Imputer):\n",
    "    # Imputation with copied dataframe imputing with MICE: worldDataMICE\n",
    "    imputedDataFrame = DataFrame.iloc[:,3:].copy(deep = True)\n",
    "\n",
    "    # Scaling data\n",
    "    scalingImputedDataFrame = scaler.fit_transform(imputedDataFrame)\n",
    "\n",
    "    # Imputing data to copied dataframe\n",
    "    imputedDataFrame.iloc[:,:] = Imputer.fit_transform(scalingImputedDataFrame)\n",
    "\n",
    "    # Invere transform data\n",
    "    imputedDataFrame = scaler.inverse_transform(imputedDataFrame)\n",
    "\n",
    "    # Convert data to DataFrame\n",
    "    imputedDataFrame = pd.DataFrame(imputedDataFrame)\n",
    "\n",
    "    return imputedDataFrame"
   ]
  },
  {
   "cell_type": "code",
   "execution_count": 6,
   "metadata": {},
   "outputs": [
    {
     "name": "stderr",
     "output_type": "stream",
     "text": [
      "C:\\Program Files\\Python310\\lib\\site-packages\\sklearn\\impute\\_iterative.py:785: ConvergenceWarning: [IterativeImputer] Early stopping criterion not reached.\n",
      "  warnings.warn(\n"
     ]
    }
   ],
   "source": [
    "worldDataMICE = into_the_unknown(worldData, MinMaxScaler(), IterativeImputer(min_value=0 ,max_value=1))"
   ]
  },
  {
   "cell_type": "code",
   "execution_count": 7,
   "metadata": {},
   "outputs": [],
   "source": [
    "worldDataMICE.to_csv('datasets/world_source_ana_MICEimputed.csv', encoding='UTF-8')"
   ]
  },
  {
   "attachments": {},
   "cell_type": "markdown",
   "metadata": {},
   "source": [
    "### Calculating Indexes and Cluster Analysis\n",
    "\n",
    "After finished imputating data, the next step is calculating index of each aspect and analyzing cluster analysis by tSNE following below;\n",
    "1. Calculating index for each aspect\n",
    "2. Using average of index of each aspect to classify a country class. For any countries that have index more than the average, they will be classified as <b>High class</b>. The otherwise is classified as <b>Low class</b>.\n",
    "3. Use numerical features <em>except indexes</em> to do cluster analysis with tSNE.<br><br>\n",
    "\n",
    "Note: <em>tSNE (t-distribution Stochastic Neighbor Embedding)</em> is a technique for dimensionality reduction that is particularly well suited for the visualization of high-dimensional datasets. <em>(Laurens van der Maaten)"
   ]
  },
  {
   "cell_type": "code",
   "execution_count": 100,
   "metadata": {},
   "outputs": [
    {
     "data": {
      "text/html": [
       "<div>\n",
       "<style scoped>\n",
       "    .dataframe tbody tr th:only-of-type {\n",
       "        vertical-align: middle;\n",
       "    }\n",
       "\n",
       "    .dataframe tbody tr th {\n",
       "        vertical-align: top;\n",
       "    }\n",
       "\n",
       "    .dataframe thead th {\n",
       "        text-align: right;\n",
       "    }\n",
       "</style>\n",
       "<table border=\"1\" class=\"dataframe\">\n",
       "  <thead>\n",
       "    <tr style=\"text-align: right;\">\n",
       "      <th></th>\n",
       "      <th>health expenditure % of GDP</th>\n",
       "      <th>health expenditure per person</th>\n",
       "      <th>Life expectancy at birth, total (years)</th>\n",
       "      <th>Population</th>\n",
       "    </tr>\n",
       "  </thead>\n",
       "  <tbody>\n",
       "    <tr>\n",
       "      <th>0</th>\n",
       "      <td>3.21</td>\n",
       "      <td>65.800000</td>\n",
       "      <td>62.575</td>\n",
       "      <td>40099462</td>\n",
       "    </tr>\n",
       "    <tr>\n",
       "      <th>1</th>\n",
       "      <td>3.92</td>\n",
       "      <td>929.759051</td>\n",
       "      <td>76.989</td>\n",
       "      <td>2811666</td>\n",
       "    </tr>\n",
       "    <tr>\n",
       "      <th>2</th>\n",
       "      <td>6.10</td>\n",
       "      <td>248.200000</td>\n",
       "      <td>74.453</td>\n",
       "      <td>44177969</td>\n",
       "    </tr>\n",
       "    <tr>\n",
       "      <th>3</th>\n",
       "      <td>2.42</td>\n",
       "      <td>71.300000</td>\n",
       "      <td>62.261</td>\n",
       "      <td>34503774</td>\n",
       "    </tr>\n",
       "    <tr>\n",
       "      <th>4</th>\n",
       "      <td>4.72</td>\n",
       "      <td>946.000000</td>\n",
       "      <td>75.892</td>\n",
       "      <td>45808747</td>\n",
       "    </tr>\n",
       "  </tbody>\n",
       "</table>\n",
       "</div>"
      ],
      "text/plain": [
       "   health expenditure % of GDP  health expenditure per person  \\\n",
       "0                         3.21                      65.800000   \n",
       "1                         3.92                     929.759051   \n",
       "2                         6.10                     248.200000   \n",
       "3                         2.42                      71.300000   \n",
       "4                         4.72                     946.000000   \n",
       "\n",
       "   Life expectancy at birth, total (years)  Population  \n",
       "0                                   62.575    40099462  \n",
       "1                                   76.989     2811666  \n",
       "2                                   74.453    44177969  \n",
       "3                                   62.261    34503774  \n",
       "4                                   75.892    45808747  "
      ]
     },
     "metadata": {},
     "output_type": "display_data"
    },
    {
     "data": {
      "text/plain": [
       "array(['Economic', 'Environment', 'Health', 'Human', 'Politic'],\n",
       "      dtype=object)"
      ]
     },
     "execution_count": 100,
     "metadata": {},
     "output_type": "execute_result"
    }
   ],
   "source": [
    "# Load world_source_ana_MICEimputed and Factors: df, factors\n",
    "df = pd.read_csv('data_for_dev/without_tsne_and_indexed/world_data_imputed.csv', encoding='cp1252')\n",
    "factors = pd.read_csv('data_for_dev/without_tsne_and_indexed/factors.csv')\n",
    "# Assign features to factors\n",
    "Factors = ['Economic', 'Environment', 'Health', 'Human', 'Politic']\n",
    "\n",
    "display(df[list(factors[(factors['Factor'] == Factors[2]) & (factors['Direction'] == 'D')]['Columns'])].head())\n",
    "factors['Factor'].unique()"
   ]
  },
  {
   "cell_type": "code",
   "execution_count": 101,
   "metadata": {},
   "outputs": [
    {
     "data": {
      "text/plain": [
       "{'Economic': 19, 'Environment': 12, 'Health': 27, 'Human': 11, 'Politic': 17}"
      ]
     },
     "execution_count": 101,
     "metadata": {},
     "output_type": "execute_result"
    }
   ],
   "source": [
    "# Check how many features of each aspect\n",
    "dict(zip(Factors, [len(factors[factors['Factor'] == i]['Columns']) for i in Factors]))"
   ]
  },
  {
   "attachments": {},
   "cell_type": "markdown",
   "metadata": {},
   "source": [
    "Before calculating indexes and doing any analysis, data must be normalized by normalization method (transforming data into range 0-1). Here are 2 things to take care of\n",
    "1. Direction of a feature before normalization; Not all features have the similar trend as expected e.g. higher of mortality rate (Infant), incidence of HIV ages 15-49 or CO2 emission value do not mean representing in a good way.\n",
    "2. After normalization, data MUST NOT BE 0; all we know is transforming data into range 0-1. Nonetheless, these normalized data will generate index by using <b>Geometric mean</b>; which is multiple of all feature values for each instance. Hence, data need to be adjusted for this purpose."
   ]
  },
  {
   "attachments": {},
   "cell_type": "markdown",
   "metadata": {},
   "source": [
    "Create <b>functions</d> for transforming and adjusting data"
   ]
  },
  {
   "cell_type": "code",
   "execution_count": 17,
   "metadata": {},
   "outputs": [],
   "source": [
    "# Normalization function\n",
    "def normData(df, directedCols, undirectedCols):\n",
    "    # Function for directed features\n",
    "    def dNorm(data):\n",
    "        # Adjusted value\n",
    "        a = 0.0000001\n",
    "        Min = data.min(axis = 0, skipna = True) - a\n",
    "        Max = data.max(axis = 0, skipna = True)\n",
    "        dNormDf = (data - Min)/(Max - Min)\n",
    "        return dNormDf\n",
    "    # Function for indirected features\n",
    "    def udNorm(data):\n",
    "        # Adjusted value\n",
    "        a = 0.0000001\n",
    "        Min = data.min(axis = 0, skipna = True) \n",
    "        Max = data.max(axis = 0, skipna = True) + a\n",
    "        udNormDf = 1- (data - Min)/(Max - Min)\n",
    "        return udNormDf\n",
    "    \n",
    "    # Calculating normalization\n",
    "    dNorm_ = dNorm(df[directedCols])\n",
    "    udNorm_ = udNorm(df[undirectedCols])\n",
    "\n",
    "    # Send output as DataFame\n",
    "    dataNorm = pd.concat([dNorm_, udNorm_], axis = 1)\n",
    "    return dataNorm\n",
    "\n",
    "# Index and class generation function\n",
    "def index_class(df, Factor):\n",
    "    # TSNE for visualization each factor\n",
    "    data = normData(df, list(factors[(factors['Factor'] == Factor) & (factors['Direction'] == 'D')]['Columns']),\n",
    "    list(factors[(factors['Factor'] == Factor) & (factors['Direction'] == 'I')]['Columns']))\n",
    "\n",
    "    # If any datapoint is 0, replace with 0.0000001\n",
    "    data = data.replace(0,0.0000001)\n",
    "\n",
    "    # Find index by geometric mean\n",
    "    data[Factor+'Index'] = data.apply(gmean,axis = 1)\n",
    "\n",
    "    # Find average for creating data class\n",
    "    Mean = data[Factor+'Index'].mean()\n",
    "    data.loc[data[Factor+'Index'] >= Mean,Factor+'Class'] = 'High'\n",
    "    data.loc[data[Factor+'Index'] < Mean, Factor+'Class'] = 'Low'\n",
    "    \n",
    "    return data"
   ]
  },
  {
   "cell_type": "code",
   "execution_count": 102,
   "metadata": {},
   "outputs": [],
   "source": [
    "# Transform and adjust dataset\n",
    "dataFrame = [index_class(df, Factor) for Factor in Factors]"
   ]
  },
  {
   "cell_type": "code",
   "execution_count": 87,
   "metadata": {},
   "outputs": [],
   "source": [
    "# Get name of country and continent for colour in data visualization\n",
    "country = df['Country'].values\n",
    "continent = df['Continent']"
   ]
  },
  {
   "cell_type": "code",
   "execution_count": 88,
   "metadata": {},
   "outputs": [],
   "source": [
    "# Run the model for all data\n",
    "Tsne_name = ['tsne_eco', 'tsne_env', 'tsne_hel', 'tsne_hum', 'tsne_pol']\n",
    "Tsne = []\n",
    "X = []\n",
    "Y = []\n",
    "\n",
    "for index in range(len(Tsne_name)):\n",
    "    values = dataFrame[index].iloc[:,:-2].values\n",
    "\n",
    "    model = TSNE(learning_rate = 100, perplexity=50)\n",
    "    tsne_features = model.fit_transform(values)\n",
    "\n",
    "    xs = tsne_features[:,0]\n",
    "    ys = tsne_features[:,1]\n",
    "\n",
    "    Tsne.append(tsne_features)\n",
    "    X.append(xs)\n",
    "    Y.append(ys)"
   ]
  },
  {
   "attachments": {},
   "cell_type": "markdown",
   "metadata": {},
   "source": [
    "When complete cluster analysis for all aspects, use all 5 indexes to calculate <b>Sustainability index and clustering</b>."
   ]
  },
  {
   "cell_type": "code",
   "execution_count": 89,
   "metadata": {},
   "outputs": [],
   "source": [
    "dfCombine = pd.concat([dataFrame[0]['EconomicIndex'], dataFrame[1]['EnvironmentIndex'], \n",
    "dataFrame[2]['HealthIndex'], dataFrame[3]['HumanIndex'], dataFrame[4]['PoliticIndex']], axis = 1)"
   ]
  },
  {
   "cell_type": "code",
   "execution_count": 109,
   "metadata": {},
   "outputs": [],
   "source": [
    "dfALL = normData(df, list(factors[factors['Direction'] == 'D']['Columns']),\n",
    "list(factors[factors['Direction'] == 'I']['Columns']))\n",
    "\n",
    "dfALL['AllIndex'] = dfCombine.mean(axis=1)\n",
    "\n",
    "Mean = dfALL['AllIndex'].mean()\n",
    "dfALL.loc[dfALL['AllIndex'] >= Mean,'AllClass'] = 'High'\n",
    "dfALL.loc[dfALL['AllIndex'] < Mean, 'AllClass'] = 'Low'\n",
    "\n",
    "# Add 'All' in lists\n",
    "dataFrame.append(dfALL)\n",
    "Factors.append('All')"
   ]
  },
  {
   "cell_type": "code",
   "execution_count": 110,
   "metadata": {},
   "outputs": [],
   "source": [
    "values = dfALL.iloc[:,:-2].values\n",
    "\n",
    "model = TSNE(learning_rate = 100, perplexity=50)\n",
    "tsne_All = model.fit_transform(values)\n",
    "\n",
    "xs = tsne_All[:,0]\n",
    "ys = tsne_All[:,1]\n",
    "\n",
    "Tsne.append(tsne_All)\n",
    "X.append(xs)\n",
    "Y.append(ys)"
   ]
  },
  {
   "attachments": {},
   "cell_type": "markdown",
   "metadata": {},
   "source": [
    "Check parameters in the model"
   ]
  },
  {
   "cell_type": "code",
   "execution_count": 111,
   "metadata": {},
   "outputs": [
    {
     "data": {
      "text/plain": [
       "(100, 50, 'barnes_hut', 799, 86)"
      ]
     },
     "metadata": {},
     "output_type": "display_data"
    }
   ],
   "source": [
    "display((model.learning_rate_, model.perplexity, model.method, model.n_iter_, model.n_features_in_))"
   ]
  },
  {
   "attachments": {},
   "cell_type": "markdown",
   "metadata": {},
   "source": [
    "### Data visualization"
   ]
  },
  {
   "attachments": {},
   "cell_type": "markdown",
   "metadata": {},
   "source": [
    "Plot a scatter plot of  interesting aspect clustering. "
   ]
  },
  {
   "cell_type": "code",
   "execution_count": 112,
   "metadata": {},
   "outputs": [
    {
     "data": {
      "application/vnd.plotly.v1+json": {
       "config": {
        "plotlyServerURL": "https://plot.ly"
       },
       "data": [
        {
         "hovertemplate": "<b>%{hovertext}</b><br><br>color=Low<br>x=%{x}<br>y=%{y}<extra></extra>",
         "hovertext": [
          "Afghanistan",
          "Angola",
          "Azerbaijan",
          "Bahrain",
          "Bangladesh",
          "Barbados",
          "Belize",
          "Benin",
          "Botswana",
          "Bulgaria",
          "Burkina Faso",
          "Burundi",
          "Cambodia",
          "Cameroon",
          "Central African Republic",
          "Chad",
          "Comoros",
          "Congo (Dem. Rep.)",
          "Congo (Rep.)",
          "Cote d'Ivoire",
          "Djibouti",
          "Dominican Republic",
          "Egypt",
          "Equatorial Guinea",
          "Eritrea",
          "Eswatini",
          "Ethiopia",
          "Gabon",
          "Gambia, The",
          "Ghana",
          "Guatemala",
          "Guinea",
          "Guinea-Bissau",
          "Haiti",
          "Iran",
          "Iraq",
          "Kenya",
          "Korea (Dem. People’s Rep.)",
          "Laos",
          "Lebanon",
          "Lesotho",
          "Liberia",
          "Libya",
          "Madagascar",
          "Malawi",
          "Mali",
          "Mauritania",
          "Mauritius",
          "Moldova",
          "Mongolia",
          "Mozambique",
          "Myanmar",
          "Nepal",
          "Niger",
          "Nigeria",
          "North Macedonia",
          "Pakistan",
          "Papua New Guinea",
          "Philippines",
          "Qatar",
          "Rwanda",
          "Senegal",
          "Sierra Leone",
          "Solomon Islands",
          "Somalia",
          "South Africa",
          "South Sudan",
          "Sudan",
          "Syria",
          "Tajikistan",
          "Tanzania",
          "Timor-Leste",
          "Togo",
          "Turkmenistan",
          "Uganda",
          "Venezuela",
          "Yemen",
          "Zambia",
          "Zimbabwe"
         ],
         "legendgroup": "Low",
         "marker": {
          "color": "rgb(76,114,176)",
          "symbol": "circle"
         },
         "mode": "markers",
         "name": "Low",
         "orientation": "v",
         "showlegend": true,
         "type": "scatter",
         "x": [
          0.7298495173454285,
          0.5850850939750671,
          1.5151951313018799,
          -2.8261168003082275,
          1.9656085968017578,
          0.6222512722015381,
          1.7182815074920654,
          2.2713444232940674,
          -2.216081380844116,
          -0.17246997356414795,
          2.1332790851593018,
          0.6843154430389404,
          -0.08371840417385101,
          0.908296525478363,
          1.2595114707946777,
          2.1891698837280273,
          1.8820592164993286,
          1.1645996570587158,
          0.01959359087049961,
          2.0946526527404785,
          3.0118350982666016,
          1.4959806203842163,
          1.6639190912246704,
          0.3277445435523987,
          1.4705636501312256,
          -1.383515477180481,
          0.2861727774143219,
          -0.15316492319107056,
          2.0729243755340576,
          2.1738085746765137,
          -0.5748353600502014,
          1.1028224229812622,
          1.933424472808838,
          1.6074681282043457,
          1.5869526863098145,
          1.478467583656311,
          -0.08061475306749344,
          0.5842077136039734,
          -0.14475199580192566,
          1.7754677534103394,
          -1.473114252090454,
          1.8296709060668945,
          1.2244731187820435,
          0.970011830329895,
          -0.0811186134815216,
          1.6107944250106812,
          2.699309825897217,
          0.5221390128135681,
          0.5507157444953918,
          2.5562407970428467,
          -0.03912242874503136,
          0.6142075061798096,
          -0.9249712228775024,
          2.6359477043151855,
          2.2235634326934814,
          0.05790301039814949,
          1.5606611967086792,
          1.8282043933868408,
          2.6731441020965576,
          -3.1307950019836426,
          -0.11007120460271835,
          2.4465172290802,
          1.1692211627960205,
          3.9073338508605957,
          2.190981864929199,
          -2.423874855041504,
          2.1469223499298096,
          0.9440643787384033,
          1.4350779056549072,
          -0.6490288972854614,
          0.8755818605422974,
          2.8288469314575195,
          1.2890703678131104,
          1.5156527757644653,
          -0.05503058433532715,
          0.19803620874881744,
          1.3108270168304443,
          -0.37791386246681213,
          0.47365933656692505
         ],
         "xaxis": "x",
         "y": [
          4.74985408782959,
          6.568619728088379,
          0.3554123342037201,
          -1.4635435342788696,
          2.7033095359802246,
          -3.4862351417541504,
          -1.4666038751602173,
          5.988710403442383,
          4.670910835266113,
          -2.7967262268066406,
          6.425075531005859,
          6.592574119567871,
          3.1675140857696533,
          6.414177894592285,
          7.821663856506348,
          7.512975692749023,
          5.356119632720947,
          7.015109539031982,
          7.0359296798706055,
          5.985913276672363,
          5.137118339538574,
          -1.2297934293746948,
          1.5715402364730835,
          7.718975067138672,
          5.432106018066406,
          6.453902244567871,
          5.845130443572998,
          7.027917861938477,
          5.727528095245361,
          4.4646759033203125,
          1.5403940677642822,
          6.692265510559082,
          6.618602752685547,
          5.499826908111572,
          1.5380823612213135,
          2.4864141941070557,
          5.867860794067383,
          2.5686426162719727,
          3.4398670196533203,
          0.8588786721229553,
          6.169064998626709,
          6.565621376037598,
          2.468712568283081,
          5.865250587463379,
          6.061378479003906,
          6.450736045837402,
          5.475949764251709,
          -2.896836757659912,
          -1.6620804071426392,
          -1.5934884548187256,
          6.344509124755859,
          3.936673402786255,
          3.0654542446136475,
          6.683287143707275,
          7.037073612213135,
          -2.0638039112091064,
          4.089423656463623,
          4.879894256591797,
          1.5168278217315674,
          -1.4670031070709229,
          5.454402446746826,
          4.374702453613281,
          7.449073314666748,
          0.5900699496269226,
          7.72186279296875,
          4.473193168640137,
          7.739507675170898,
          4.839049339294434,
          2.546365976333618,
          2.24069881439209,
          6.137872695922852,
          2.978762149810791,
          5.970449447631836,
          1.5821902751922607,
          6.105349063873291,
          2.3146982192993164,
          4.286139965057373,
          6.1803107261657715,
          6.273998737335205
         ],
         "yaxis": "y"
        },
        {
         "hovertemplate": "<b>%{hovertext}</b><br><br>color=High<br>x=%{x}<br>y=%{y}<extra></extra>",
         "hovertext": [
          "Albania",
          "Algeria",
          "Argentina",
          "Armenia",
          "Australia",
          "Austria",
          "Bahamas",
          "Belarus",
          "Belgium",
          "Bhutan",
          "Bolivia",
          "Bosnia and Herzegovina",
          "Brazil",
          "Brunei Darussalam",
          "Cabo Verde",
          "Canada",
          "Chile",
          "China",
          "Colombia",
          "Costa Rica",
          "Croatia",
          "Cuba",
          "Cyprus",
          "Czech Republic",
          "Denmark",
          "Ecuador",
          "El Salvador",
          "Estonia",
          "Fiji",
          "Finland",
          "France",
          "Georgia",
          "Germany",
          "Greece",
          "Guyana",
          "Honduras",
          "Hungary",
          "Iceland",
          "India",
          "Indonesia",
          "Ireland",
          "Israel",
          "Italy",
          "Jamaica",
          "Japan",
          "Jordan",
          "Kazakhstan",
          "Korea (Rep.)",
          "Kosovo",
          "Kuwait",
          "Kyrgyzstan",
          "Latvia",
          "Lithuania",
          "Luxembourg",
          "Malaysia",
          "Maldives",
          "Malta",
          "Mexico",
          "Montenegro",
          "Morocco",
          "Namibia",
          "Netherlands",
          "New Zealand",
          "Nicaragua",
          "Norway",
          "Oman",
          "Panama",
          "Paraguay",
          "Peru",
          "Poland",
          "Portugal",
          "Romania",
          "Russia",
          "Saudi Arabia",
          "Serbia",
          "Singapore",
          "Slovakia",
          "Slovenia",
          "Spain",
          "Sri Lanka",
          "Suriname",
          "Sweden",
          "Switzerland",
          "Taiwan",
          "Thailand",
          "Trinidad and Tobago",
          "Tunisia",
          "Turkiye",
          "Ukraine",
          "United Arab Emirates",
          "United Kingdom",
          "United States",
          "Uruguay",
          "Uzbekistan",
          "Vietnam"
         ],
         "legendgroup": "High",
         "marker": {
          "color": "rgb(221,132,82)",
          "symbol": "circle"
         },
         "mode": "markers",
         "name": "High",
         "orientation": "v",
         "showlegend": true,
         "type": "scatter",
         "x": [
          -1.0557541847229004,
          1.2735122442245483,
          -0.24061782658100128,
          0.5048513412475586,
          -1.1882435083389282,
          -0.8278200626373291,
          1.181154489517212,
          2.4521145820617676,
          -0.08590032905340195,
          -1.6236029863357544,
          -0.0029325122013688087,
          -0.19390884041786194,
          -1.3236732482910156,
          2.7149503231048584,
          1.4472887516021729,
          -1.6835857629776,
          0.30641865730285645,
          -2.3638365268707275,
          -0.9239009618759155,
          1.2354940176010132,
          -0.8289254307746887,
          2.8671998977661133,
          0.22137154638767242,
          -0.22779038548469543,
          -0.9505717158317566,
          -0.5124444365501404,
          -0.5241523385047913,
          -1.2949730157852173,
          -0.0807943269610405,
          -1.2027676105499268,
          -0.47268664836883545,
          -0.9165806174278259,
          -0.3992021083831787,
          -0.5647903680801392,
          1.972595453262329,
          -0.2619685232639313,
          -0.16190752387046814,
          -1.812076210975647,
          2.9464111328125,
          2.58302903175354,
          -0.508738100528717,
          0.9147414565086365,
          -0.49206340312957764,
          1.2877068519592285,
          -0.14423881471157074,
          1.0645421743392944,
          1.511949896812439,
          0.31186801195144653,
          1.2843103408813477,
          -3.0712099075317383,
          -0.5571447610855103,
          -0.8522207736968994,
          -0.8120605945587158,
          -0.07289870083332062,
          1.6134681701660156,
          3.147740125656128,
          0.5133761763572693,
          0.35617396235466003,
          -0.4974242150783539,
          1.0591280460357666,
          -1.6129202842712402,
          -0.025904348120093346,
          -1.506211280822754,
          -0.23779864609241486,
          -1.5756299495697021,
          -3.035386085510254,
          -0.7131852507591248,
          -0.9938529133796692,
          -0.49610280990600586,
          -0.1875358670949936,
          -1.2050963640213013,
          -0.3670881688594818,
          -2.0872106552124023,
          -3.1310439109802246,
          -0.17039410769939423,
          1.8302031755447388,
          -0.17408013343811035,
          -0.38705912232398987,
          -0.9201905131340027,
          0.4347960352897644,
          -0.23382875323295593,
          -1.3434346914291382,
          -0.7295790910720825,
          0.4467644691467285,
          1.4234915971755981,
          1.0710614919662476,
          1.0635048151016235,
          0.8290308713912964,
          0.590498149394989,
          2.519531726837158,
          -0.6338164806365967,
          -2.4364113807678223,
          -1.9167157411575317,
          1.391998291015625,
          1.6666557788848877
         ],
         "xaxis": "x",
         "y": [
          -1.7744019031524658,
          0.9758874177932739,
          -1.5865058898925781,
          -0.8923301100730896,
          -5.819611549377441,
          -5.637585163116455,
          -2.6796720027923584,
          -0.17258715629577637,
          -5.774150371551514,
          1.5845277309417725,
          0.6916422843933105,
          -1.7353907823562622,
          -0.47717031836509705,
          -2.846613883972168,
          -1.8819233179092407,
          -6.010025501251221,
          -4.051295757293701,
          0.4225308299064636,
          -0.4812067151069641,
          -3.534219264984131,
          -3.490083932876587,
          -0.05318581685423851,
          -4.299978733062744,
          -4.425020694732666,
          -6.27000093460083,
          -0.17902034521102905,
          0.20299232006072998,
          -5.299928188323975,
          -0.16318480670452118,
          -6.271612167358398,
          -5.2212066650390625,
          -2.309445858001709,
          -5.612743377685547,
          -3.377556562423706,
          -1.3991440534591675,
          1.3353641033172607,
          -3.443948984146118,
          -6.882485866546631,
          2.2228360176086426,
          1.3374131917953491,
          -6.633665561676025,
          -4.81788969039917,
          -4.1786017417907715,
          -1.8834561109542847,
          -5.321210861206055,
          0.5766040682792664,
          -0.2525421679019928,
          -4.879309177398682,
          -0.7663509845733643,
          -1.3122528791427612,
          1.7503241300582886,
          -3.9241485595703125,
          -4.02728796005249,
          -6.5365190505981445,
          -0.9265424013137817,
          -1.157492995262146,
          -4.612302303314209,
          -0.6679161190986633,
          -2.352099657058716,
          0.22537043690681458,
          5.7787041664123535,
          -5.6106486320495605,
          -6.28623628616333,
          1.4272348880767822,
          -6.618868350982666,
          -1.277228832244873,
          -0.9159249067306519,
          0.5950084328651428,
          -0.4667991101741791,
          -3.5763959884643555,
          -5.1436872482299805,
          -2.895838975906372,
          -0.016237176954746246,
          -1.132874846458435,
          -2.211294174194336,
          -5.139268398284912,
          -3.846360921859741,
          -4.498383045196533,
          -4.989443778991699,
          0.04976978898048401,
          -0.12534412741661072,
          -6.370316028594971,
          -6.4053955078125,
          -4.784411907196045,
          -0.3618382513523102,
          -2.1694321632385254,
          -0.2817349135875702,
          -0.19098348915576935,
          -1.22666597366333,
          -3.5582635402679443,
          -5.487086772918701,
          -5.698826313018799,
          -4.771613121032715,
          0.5830917954444885,
          -0.09126162528991699
         ],
         "yaxis": "y"
        }
       ],
       "layout": {
        "height": 500,
        "legend": {
         "title": {
          "text": "color"
         },
         "tracegroupgap": 0
        },
        "margin": {
         "t": 60
        },
        "template": {
         "data": {
          "bar": [
           {
            "error_x": {
             "color": "rgb(36,36,36)"
            },
            "error_y": {
             "color": "rgb(36,36,36)"
            },
            "marker": {
             "line": {
              "color": "rgb(234,234,242)",
              "width": 0.5
             },
             "pattern": {
              "fillmode": "overlay",
              "size": 10,
              "solidity": 0.2
             }
            },
            "type": "bar"
           }
          ],
          "barpolar": [
           {
            "marker": {
             "line": {
              "color": "rgb(234,234,242)",
              "width": 0.5
             },
             "pattern": {
              "fillmode": "overlay",
              "size": 10,
              "solidity": 0.2
             }
            },
            "type": "barpolar"
           }
          ],
          "carpet": [
           {
            "aaxis": {
             "endlinecolor": "rgb(36,36,36)",
             "gridcolor": "white",
             "linecolor": "white",
             "minorgridcolor": "white",
             "startlinecolor": "rgb(36,36,36)"
            },
            "baxis": {
             "endlinecolor": "rgb(36,36,36)",
             "gridcolor": "white",
             "linecolor": "white",
             "minorgridcolor": "white",
             "startlinecolor": "rgb(36,36,36)"
            },
            "type": "carpet"
           }
          ],
          "choropleth": [
           {
            "colorbar": {
             "outlinewidth": 0,
             "tickcolor": "rgb(36,36,36)",
             "ticklen": 8,
             "ticks": "outside",
             "tickwidth": 2
            },
            "type": "choropleth"
           }
          ],
          "contour": [
           {
            "colorbar": {
             "outlinewidth": 0,
             "tickcolor": "rgb(36,36,36)",
             "ticklen": 8,
             "ticks": "outside",
             "tickwidth": 2
            },
            "colorscale": [
             [
              0,
              "rgb(2,4,25)"
             ],
             [
              0.06274509803921569,
              "rgb(24,15,41)"
             ],
             [
              0.12549019607843137,
              "rgb(47,23,57)"
             ],
             [
              0.18823529411764706,
              "rgb(71,28,72)"
             ],
             [
              0.25098039215686274,
              "rgb(97,30,82)"
             ],
             [
              0.3137254901960784,
              "rgb(123,30,89)"
             ],
             [
              0.3764705882352941,
              "rgb(150,27,91)"
             ],
             [
              0.4392156862745098,
              "rgb(177,22,88)"
             ],
             [
              0.5019607843137255,
              "rgb(203,26,79)"
             ],
             [
              0.5647058823529412,
              "rgb(223,47,67)"
             ],
             [
              0.6274509803921569,
              "rgb(236,76,61)"
             ],
             [
              0.6901960784313725,
              "rgb(242,107,73)"
             ],
             [
              0.7529411764705882,
              "rgb(244,135,95)"
             ],
             [
              0.8156862745098039,
              "rgb(245,162,122)"
             ],
             [
              0.8784313725490196,
              "rgb(246,188,153)"
             ],
             [
              0.9411764705882353,
              "rgb(247,212,187)"
             ],
             [
              1,
              "rgb(250,234,220)"
             ]
            ],
            "type": "contour"
           }
          ],
          "contourcarpet": [
           {
            "colorbar": {
             "outlinewidth": 0,
             "tickcolor": "rgb(36,36,36)",
             "ticklen": 8,
             "ticks": "outside",
             "tickwidth": 2
            },
            "type": "contourcarpet"
           }
          ],
          "heatmap": [
           {
            "colorbar": {
             "outlinewidth": 0,
             "tickcolor": "rgb(36,36,36)",
             "ticklen": 8,
             "ticks": "outside",
             "tickwidth": 2
            },
            "colorscale": [
             [
              0,
              "rgb(2,4,25)"
             ],
             [
              0.06274509803921569,
              "rgb(24,15,41)"
             ],
             [
              0.12549019607843137,
              "rgb(47,23,57)"
             ],
             [
              0.18823529411764706,
              "rgb(71,28,72)"
             ],
             [
              0.25098039215686274,
              "rgb(97,30,82)"
             ],
             [
              0.3137254901960784,
              "rgb(123,30,89)"
             ],
             [
              0.3764705882352941,
              "rgb(150,27,91)"
             ],
             [
              0.4392156862745098,
              "rgb(177,22,88)"
             ],
             [
              0.5019607843137255,
              "rgb(203,26,79)"
             ],
             [
              0.5647058823529412,
              "rgb(223,47,67)"
             ],
             [
              0.6274509803921569,
              "rgb(236,76,61)"
             ],
             [
              0.6901960784313725,
              "rgb(242,107,73)"
             ],
             [
              0.7529411764705882,
              "rgb(244,135,95)"
             ],
             [
              0.8156862745098039,
              "rgb(245,162,122)"
             ],
             [
              0.8784313725490196,
              "rgb(246,188,153)"
             ],
             [
              0.9411764705882353,
              "rgb(247,212,187)"
             ],
             [
              1,
              "rgb(250,234,220)"
             ]
            ],
            "type": "heatmap"
           }
          ],
          "heatmapgl": [
           {
            "colorbar": {
             "outlinewidth": 0,
             "tickcolor": "rgb(36,36,36)",
             "ticklen": 8,
             "ticks": "outside",
             "tickwidth": 2
            },
            "colorscale": [
             [
              0,
              "rgb(2,4,25)"
             ],
             [
              0.06274509803921569,
              "rgb(24,15,41)"
             ],
             [
              0.12549019607843137,
              "rgb(47,23,57)"
             ],
             [
              0.18823529411764706,
              "rgb(71,28,72)"
             ],
             [
              0.25098039215686274,
              "rgb(97,30,82)"
             ],
             [
              0.3137254901960784,
              "rgb(123,30,89)"
             ],
             [
              0.3764705882352941,
              "rgb(150,27,91)"
             ],
             [
              0.4392156862745098,
              "rgb(177,22,88)"
             ],
             [
              0.5019607843137255,
              "rgb(203,26,79)"
             ],
             [
              0.5647058823529412,
              "rgb(223,47,67)"
             ],
             [
              0.6274509803921569,
              "rgb(236,76,61)"
             ],
             [
              0.6901960784313725,
              "rgb(242,107,73)"
             ],
             [
              0.7529411764705882,
              "rgb(244,135,95)"
             ],
             [
              0.8156862745098039,
              "rgb(245,162,122)"
             ],
             [
              0.8784313725490196,
              "rgb(246,188,153)"
             ],
             [
              0.9411764705882353,
              "rgb(247,212,187)"
             ],
             [
              1,
              "rgb(250,234,220)"
             ]
            ],
            "type": "heatmapgl"
           }
          ],
          "histogram": [
           {
            "marker": {
             "pattern": {
              "fillmode": "overlay",
              "size": 10,
              "solidity": 0.2
             }
            },
            "type": "histogram"
           }
          ],
          "histogram2d": [
           {
            "colorbar": {
             "outlinewidth": 0,
             "tickcolor": "rgb(36,36,36)",
             "ticklen": 8,
             "ticks": "outside",
             "tickwidth": 2
            },
            "colorscale": [
             [
              0,
              "rgb(2,4,25)"
             ],
             [
              0.06274509803921569,
              "rgb(24,15,41)"
             ],
             [
              0.12549019607843137,
              "rgb(47,23,57)"
             ],
             [
              0.18823529411764706,
              "rgb(71,28,72)"
             ],
             [
              0.25098039215686274,
              "rgb(97,30,82)"
             ],
             [
              0.3137254901960784,
              "rgb(123,30,89)"
             ],
             [
              0.3764705882352941,
              "rgb(150,27,91)"
             ],
             [
              0.4392156862745098,
              "rgb(177,22,88)"
             ],
             [
              0.5019607843137255,
              "rgb(203,26,79)"
             ],
             [
              0.5647058823529412,
              "rgb(223,47,67)"
             ],
             [
              0.6274509803921569,
              "rgb(236,76,61)"
             ],
             [
              0.6901960784313725,
              "rgb(242,107,73)"
             ],
             [
              0.7529411764705882,
              "rgb(244,135,95)"
             ],
             [
              0.8156862745098039,
              "rgb(245,162,122)"
             ],
             [
              0.8784313725490196,
              "rgb(246,188,153)"
             ],
             [
              0.9411764705882353,
              "rgb(247,212,187)"
             ],
             [
              1,
              "rgb(250,234,220)"
             ]
            ],
            "type": "histogram2d"
           }
          ],
          "histogram2dcontour": [
           {
            "colorbar": {
             "outlinewidth": 0,
             "tickcolor": "rgb(36,36,36)",
             "ticklen": 8,
             "ticks": "outside",
             "tickwidth": 2
            },
            "colorscale": [
             [
              0,
              "rgb(2,4,25)"
             ],
             [
              0.06274509803921569,
              "rgb(24,15,41)"
             ],
             [
              0.12549019607843137,
              "rgb(47,23,57)"
             ],
             [
              0.18823529411764706,
              "rgb(71,28,72)"
             ],
             [
              0.25098039215686274,
              "rgb(97,30,82)"
             ],
             [
              0.3137254901960784,
              "rgb(123,30,89)"
             ],
             [
              0.3764705882352941,
              "rgb(150,27,91)"
             ],
             [
              0.4392156862745098,
              "rgb(177,22,88)"
             ],
             [
              0.5019607843137255,
              "rgb(203,26,79)"
             ],
             [
              0.5647058823529412,
              "rgb(223,47,67)"
             ],
             [
              0.6274509803921569,
              "rgb(236,76,61)"
             ],
             [
              0.6901960784313725,
              "rgb(242,107,73)"
             ],
             [
              0.7529411764705882,
              "rgb(244,135,95)"
             ],
             [
              0.8156862745098039,
              "rgb(245,162,122)"
             ],
             [
              0.8784313725490196,
              "rgb(246,188,153)"
             ],
             [
              0.9411764705882353,
              "rgb(247,212,187)"
             ],
             [
              1,
              "rgb(250,234,220)"
             ]
            ],
            "type": "histogram2dcontour"
           }
          ],
          "mesh3d": [
           {
            "colorbar": {
             "outlinewidth": 0,
             "tickcolor": "rgb(36,36,36)",
             "ticklen": 8,
             "ticks": "outside",
             "tickwidth": 2
            },
            "type": "mesh3d"
           }
          ],
          "parcoords": [
           {
            "line": {
             "colorbar": {
              "outlinewidth": 0,
              "tickcolor": "rgb(36,36,36)",
              "ticklen": 8,
              "ticks": "outside",
              "tickwidth": 2
             }
            },
            "type": "parcoords"
           }
          ],
          "pie": [
           {
            "automargin": true,
            "type": "pie"
           }
          ],
          "scatter": [
           {
            "fillpattern": {
             "fillmode": "overlay",
             "size": 10,
             "solidity": 0.2
            },
            "type": "scatter"
           }
          ],
          "scatter3d": [
           {
            "line": {
             "colorbar": {
              "outlinewidth": 0,
              "tickcolor": "rgb(36,36,36)",
              "ticklen": 8,
              "ticks": "outside",
              "tickwidth": 2
             }
            },
            "marker": {
             "colorbar": {
              "outlinewidth": 0,
              "tickcolor": "rgb(36,36,36)",
              "ticklen": 8,
              "ticks": "outside",
              "tickwidth": 2
             }
            },
            "type": "scatter3d"
           }
          ],
          "scattercarpet": [
           {
            "marker": {
             "colorbar": {
              "outlinewidth": 0,
              "tickcolor": "rgb(36,36,36)",
              "ticklen": 8,
              "ticks": "outside",
              "tickwidth": 2
             }
            },
            "type": "scattercarpet"
           }
          ],
          "scattergeo": [
           {
            "marker": {
             "colorbar": {
              "outlinewidth": 0,
              "tickcolor": "rgb(36,36,36)",
              "ticklen": 8,
              "ticks": "outside",
              "tickwidth": 2
             }
            },
            "type": "scattergeo"
           }
          ],
          "scattergl": [
           {
            "marker": {
             "colorbar": {
              "outlinewidth": 0,
              "tickcolor": "rgb(36,36,36)",
              "ticklen": 8,
              "ticks": "outside",
              "tickwidth": 2
             }
            },
            "type": "scattergl"
           }
          ],
          "scattermapbox": [
           {
            "marker": {
             "colorbar": {
              "outlinewidth": 0,
              "tickcolor": "rgb(36,36,36)",
              "ticklen": 8,
              "ticks": "outside",
              "tickwidth": 2
             }
            },
            "type": "scattermapbox"
           }
          ],
          "scatterpolar": [
           {
            "marker": {
             "colorbar": {
              "outlinewidth": 0,
              "tickcolor": "rgb(36,36,36)",
              "ticklen": 8,
              "ticks": "outside",
              "tickwidth": 2
             }
            },
            "type": "scatterpolar"
           }
          ],
          "scatterpolargl": [
           {
            "marker": {
             "colorbar": {
              "outlinewidth": 0,
              "tickcolor": "rgb(36,36,36)",
              "ticklen": 8,
              "ticks": "outside",
              "tickwidth": 2
             }
            },
            "type": "scatterpolargl"
           }
          ],
          "scatterternary": [
           {
            "marker": {
             "colorbar": {
              "outlinewidth": 0,
              "tickcolor": "rgb(36,36,36)",
              "ticklen": 8,
              "ticks": "outside",
              "tickwidth": 2
             }
            },
            "type": "scatterternary"
           }
          ],
          "surface": [
           {
            "colorbar": {
             "outlinewidth": 0,
             "tickcolor": "rgb(36,36,36)",
             "ticklen": 8,
             "ticks": "outside",
             "tickwidth": 2
            },
            "colorscale": [
             [
              0,
              "rgb(2,4,25)"
             ],
             [
              0.06274509803921569,
              "rgb(24,15,41)"
             ],
             [
              0.12549019607843137,
              "rgb(47,23,57)"
             ],
             [
              0.18823529411764706,
              "rgb(71,28,72)"
             ],
             [
              0.25098039215686274,
              "rgb(97,30,82)"
             ],
             [
              0.3137254901960784,
              "rgb(123,30,89)"
             ],
             [
              0.3764705882352941,
              "rgb(150,27,91)"
             ],
             [
              0.4392156862745098,
              "rgb(177,22,88)"
             ],
             [
              0.5019607843137255,
              "rgb(203,26,79)"
             ],
             [
              0.5647058823529412,
              "rgb(223,47,67)"
             ],
             [
              0.6274509803921569,
              "rgb(236,76,61)"
             ],
             [
              0.6901960784313725,
              "rgb(242,107,73)"
             ],
             [
              0.7529411764705882,
              "rgb(244,135,95)"
             ],
             [
              0.8156862745098039,
              "rgb(245,162,122)"
             ],
             [
              0.8784313725490196,
              "rgb(246,188,153)"
             ],
             [
              0.9411764705882353,
              "rgb(247,212,187)"
             ],
             [
              1,
              "rgb(250,234,220)"
             ]
            ],
            "type": "surface"
           }
          ],
          "table": [
           {
            "cells": {
             "fill": {
              "color": "rgb(231,231,240)"
             },
             "line": {
              "color": "white"
             }
            },
            "header": {
             "fill": {
              "color": "rgb(183,183,191)"
             },
             "line": {
              "color": "white"
             }
            },
            "type": "table"
           }
          ]
         },
         "layout": {
          "annotationdefaults": {
           "arrowcolor": "rgb(67,103,167)"
          },
          "autotypenumbers": "strict",
          "coloraxis": {
           "colorbar": {
            "outlinewidth": 0,
            "tickcolor": "rgb(36,36,36)",
            "ticklen": 8,
            "ticks": "outside",
            "tickwidth": 2
           }
          },
          "colorscale": {
           "sequential": [
            [
             0,
             "rgb(2,4,25)"
            ],
            [
             0.06274509803921569,
             "rgb(24,15,41)"
            ],
            [
             0.12549019607843137,
             "rgb(47,23,57)"
            ],
            [
             0.18823529411764706,
             "rgb(71,28,72)"
            ],
            [
             0.25098039215686274,
             "rgb(97,30,82)"
            ],
            [
             0.3137254901960784,
             "rgb(123,30,89)"
            ],
            [
             0.3764705882352941,
             "rgb(150,27,91)"
            ],
            [
             0.4392156862745098,
             "rgb(177,22,88)"
            ],
            [
             0.5019607843137255,
             "rgb(203,26,79)"
            ],
            [
             0.5647058823529412,
             "rgb(223,47,67)"
            ],
            [
             0.6274509803921569,
             "rgb(236,76,61)"
            ],
            [
             0.6901960784313725,
             "rgb(242,107,73)"
            ],
            [
             0.7529411764705882,
             "rgb(244,135,95)"
            ],
            [
             0.8156862745098039,
             "rgb(245,162,122)"
            ],
            [
             0.8784313725490196,
             "rgb(246,188,153)"
            ],
            [
             0.9411764705882353,
             "rgb(247,212,187)"
            ],
            [
             1,
             "rgb(250,234,220)"
            ]
           ],
           "sequentialminus": [
            [
             0,
             "rgb(2,4,25)"
            ],
            [
             0.06274509803921569,
             "rgb(24,15,41)"
            ],
            [
             0.12549019607843137,
             "rgb(47,23,57)"
            ],
            [
             0.18823529411764706,
             "rgb(71,28,72)"
            ],
            [
             0.25098039215686274,
             "rgb(97,30,82)"
            ],
            [
             0.3137254901960784,
             "rgb(123,30,89)"
            ],
            [
             0.3764705882352941,
             "rgb(150,27,91)"
            ],
            [
             0.4392156862745098,
             "rgb(177,22,88)"
            ],
            [
             0.5019607843137255,
             "rgb(203,26,79)"
            ],
            [
             0.5647058823529412,
             "rgb(223,47,67)"
            ],
            [
             0.6274509803921569,
             "rgb(236,76,61)"
            ],
            [
             0.6901960784313725,
             "rgb(242,107,73)"
            ],
            [
             0.7529411764705882,
             "rgb(244,135,95)"
            ],
            [
             0.8156862745098039,
             "rgb(245,162,122)"
            ],
            [
             0.8784313725490196,
             "rgb(246,188,153)"
            ],
            [
             0.9411764705882353,
             "rgb(247,212,187)"
            ],
            [
             1,
             "rgb(250,234,220)"
            ]
           ]
          },
          "colorway": [
           "rgb(76,114,176)",
           "rgb(221,132,82)",
           "rgb(85,168,104)",
           "rgb(196,78,82)",
           "rgb(129,114,179)",
           "rgb(147,120,96)",
           "rgb(218,139,195)",
           "rgb(140,140,140)",
           "rgb(204,185,116)",
           "rgb(100,181,205)"
          ],
          "font": {
           "color": "rgb(36,36,36)"
          },
          "geo": {
           "bgcolor": "white",
           "lakecolor": "white",
           "landcolor": "rgb(234,234,242)",
           "showlakes": true,
           "showland": true,
           "subunitcolor": "white"
          },
          "hoverlabel": {
           "align": "left"
          },
          "hovermode": "closest",
          "paper_bgcolor": "white",
          "plot_bgcolor": "rgb(234,234,242)",
          "polar": {
           "angularaxis": {
            "gridcolor": "white",
            "linecolor": "white",
            "showgrid": true,
            "ticks": ""
           },
           "bgcolor": "rgb(234,234,242)",
           "radialaxis": {
            "gridcolor": "white",
            "linecolor": "white",
            "showgrid": true,
            "ticks": ""
           }
          },
          "scene": {
           "xaxis": {
            "backgroundcolor": "rgb(234,234,242)",
            "gridcolor": "white",
            "gridwidth": 2,
            "linecolor": "white",
            "showbackground": true,
            "showgrid": true,
            "ticks": "",
            "zerolinecolor": "white"
           },
           "yaxis": {
            "backgroundcolor": "rgb(234,234,242)",
            "gridcolor": "white",
            "gridwidth": 2,
            "linecolor": "white",
            "showbackground": true,
            "showgrid": true,
            "ticks": "",
            "zerolinecolor": "white"
           },
           "zaxis": {
            "backgroundcolor": "rgb(234,234,242)",
            "gridcolor": "white",
            "gridwidth": 2,
            "linecolor": "white",
            "showbackground": true,
            "showgrid": true,
            "ticks": "",
            "zerolinecolor": "white"
           }
          },
          "shapedefaults": {
           "fillcolor": "rgb(67,103,167)",
           "line": {
            "width": 0
           },
           "opacity": 0.5
          },
          "ternary": {
           "aaxis": {
            "gridcolor": "white",
            "linecolor": "white",
            "showgrid": true,
            "ticks": ""
           },
           "baxis": {
            "gridcolor": "white",
            "linecolor": "white",
            "showgrid": true,
            "ticks": ""
           },
           "bgcolor": "rgb(234,234,242)",
           "caxis": {
            "gridcolor": "white",
            "linecolor": "white",
            "showgrid": true,
            "ticks": ""
           }
          },
          "xaxis": {
           "automargin": true,
           "gridcolor": "white",
           "linecolor": "white",
           "showgrid": true,
           "ticks": "",
           "title": {
            "standoff": 15
           },
           "zerolinecolor": "white"
          },
          "yaxis": {
           "automargin": true,
           "gridcolor": "white",
           "linecolor": "white",
           "showgrid": true,
           "ticks": "",
           "title": {
            "standoff": 15
           },
           "zerolinecolor": "white"
          }
         }
        },
        "width": 800,
        "xaxis": {
         "anchor": "y",
         "domain": [
          0,
          1
         ],
         "title": {
          "text": "x"
         }
        },
        "yaxis": {
         "anchor": "x",
         "domain": [
          0,
          1
         ],
         "title": {
          "text": "y"
         }
        }
       }
      }
     },
     "metadata": {},
     "output_type": "display_data"
    }
   ],
   "source": [
    "# Plot with plotly\n",
    "# {0: Economic, 1: Environment; 2: Health, 3: Human, 4: Politic, 5: All}\n",
    "i = 5\n",
    "fig = px.scatter(x = X[i], y = Y[i], color = dataFrame[i].iloc[:,-1],  hover_name=country, \n",
    "                template = 'seaborn', width = 800, height = 500\n",
    "                )\n",
    "\n",
    "fig.show()"
   ]
  },
  {
   "attachments": {},
   "cell_type": "markdown",
   "metadata": {},
   "source": [
    "Plot a bee swarm plot to check how all countries indexes are arranged."
   ]
  },
  {
   "cell_type": "code",
   "execution_count": 113,
   "metadata": {},
   "outputs": [
    {
     "data": {
      "application/vnd.plotly.v1+json": {
       "config": {
        "plotlyServerURL": "https://plot.ly"
       },
       "data": [
        {
         "alignmentgroup": "True",
         "boxpoints": "all",
         "fillcolor": "rgba(255,255,255,0)",
         "hoveron": "points",
         "hovertemplate": "<b>%{hovertext}</b><br><br>color=Low<br>y=%{y}<extra></extra>",
         "hovertext": [
          "Afghanistan",
          "Angola",
          "Azerbaijan",
          "Bahrain",
          "Bangladesh",
          "Barbados",
          "Belize",
          "Benin",
          "Botswana",
          "Bulgaria",
          "Burkina Faso",
          "Burundi",
          "Cambodia",
          "Cameroon",
          "Central African Republic",
          "Chad",
          "Comoros",
          "Congo (Dem. Rep.)",
          "Congo (Rep.)",
          "Cote d'Ivoire",
          "Djibouti",
          "Dominican Republic",
          "Egypt",
          "Equatorial Guinea",
          "Eritrea",
          "Eswatini",
          "Ethiopia",
          "Gabon",
          "Gambia, The",
          "Ghana",
          "Guatemala",
          "Guinea",
          "Guinea-Bissau",
          "Haiti",
          "Iran",
          "Iraq",
          "Kenya",
          "Korea (Dem. People’s Rep.)",
          "Laos",
          "Lebanon",
          "Lesotho",
          "Liberia",
          "Libya",
          "Madagascar",
          "Malawi",
          "Mali",
          "Mauritania",
          "Mauritius",
          "Moldova",
          "Mongolia",
          "Mozambique",
          "Myanmar",
          "Nepal",
          "Niger",
          "Nigeria",
          "North Macedonia",
          "Pakistan",
          "Papua New Guinea",
          "Philippines",
          "Qatar",
          "Rwanda",
          "Senegal",
          "Sierra Leone",
          "Solomon Islands",
          "Somalia",
          "South Africa",
          "South Sudan",
          "Sudan",
          "Syria",
          "Tajikistan",
          "Tanzania",
          "Timor-Leste",
          "Togo",
          "Turkmenistan",
          "Uganda",
          "Venezuela",
          "Yemen",
          "Zambia",
          "Zimbabwe"
         ],
         "legendgroup": "Low",
         "line": {
          "color": "rgba(255,255,255,0)"
         },
         "marker": {
          "color": "rgb(76,114,176)"
         },
         "name": "Low",
         "offsetgroup": "Low",
         "orientation": "v",
         "pointpos": 0,
         "showlegend": true,
         "type": "box",
         "x0": " ",
         "xaxis": "x",
         "y": [
          0.1589833306084351,
          0.2298685883322543,
          0.286920050938844,
          0.2891562639039811,
          0.15258741580452395,
          0.2773266716625115,
          0.2975167312347605,
          0.20930921782291795,
          0.2940473098476499,
          0.28519118113875636,
          0.21675859023745175,
          0.15853659703705567,
          0.2715730712571403,
          0.1884791303171659,
          0.08739846653992905,
          0.06906032401613023,
          0.19353653054653397,
          0.15335697264666664,
          0.21147160085498987,
          0.23116704618416803,
          0.202035182508517,
          0.26946756259197324,
          0.28309914064867414,
          0.18656317593887026,
          0.14722611292640425,
          0.1565838792996461,
          0.21547703527258838,
          0.2616739544856642,
          0.19732994946077298,
          0.27116990264355695,
          0.26326531667146885,
          0.19161051008909627,
          0.15511077228736173,
          0.12785974139603334,
          0.29397590097835324,
          0.2651666295127951,
          0.2698505542255393,
          0.1612938399108708,
          0.2528648844033953,
          0.27205207336308046,
          0.16107982439289287,
          0.16172511948913226,
          0.23818567195950444,
          0.182966100296378,
          0.2193857307240048,
          0.20098442909427056,
          0.2209925942469738,
          0.2570006667034609,
          0.29663083751394803,
          0.29002148743569334,
          0.22315518352619831,
          0.2163100151173564,
          0.2863479780414071,
          0.14881661405291574,
          0.06372718720235296,
          0.2808715364796548,
          0.2546600439514612,
          0.1687010760042373,
          0.2855205293087942,
          0.25751281876437976,
          0.25222524934691526,
          0.28084149444660195,
          0.1428894229090071,
          0.23321372942399132,
          0.010685367003252651,
          0.20296085791162097,
          0.025091421930376702,
          0.17239589253797036,
          0.13245459849538704,
          0.27154611881509483,
          0.18132587525637062,
          0.26841792220988714,
          0.23380426128142942,
          0.25200734313387263,
          0.17742437244456083,
          0.2823941957566484,
          0.06458017187338136,
          0.2311671365748949,
          0.17948501359360275
         ],
         "y0": " ",
         "yaxis": "y"
        },
        {
         "alignmentgroup": "True",
         "boxpoints": "all",
         "fillcolor": "rgba(255,255,255,0)",
         "hoveron": "points",
         "hovertemplate": "<b>%{hovertext}</b><br><br>color=High<br>y=%{y}<extra></extra>",
         "hovertext": [
          "Albania",
          "Algeria",
          "Argentina",
          "Armenia",
          "Australia",
          "Austria",
          "Bahamas",
          "Belarus",
          "Belgium",
          "Bhutan",
          "Bolivia",
          "Bosnia and Herzegovina",
          "Brazil",
          "Brunei Darussalam",
          "Cabo Verde",
          "Canada",
          "Chile",
          "China",
          "Colombia",
          "Costa Rica",
          "Croatia",
          "Cuba",
          "Cyprus",
          "Czech Republic",
          "Denmark",
          "Ecuador",
          "El Salvador",
          "Estonia",
          "Fiji",
          "Finland",
          "France",
          "Georgia",
          "Germany",
          "Greece",
          "Guyana",
          "Honduras",
          "Hungary",
          "Iceland",
          "India",
          "Indonesia",
          "Ireland",
          "Israel",
          "Italy",
          "Jamaica",
          "Japan",
          "Jordan",
          "Kazakhstan",
          "Korea (Rep.)",
          "Kosovo",
          "Kuwait",
          "Kyrgyzstan",
          "Latvia",
          "Lithuania",
          "Luxembourg",
          "Malaysia",
          "Maldives",
          "Malta",
          "Mexico",
          "Montenegro",
          "Morocco",
          "Namibia",
          "Netherlands",
          "New Zealand",
          "Nicaragua",
          "Norway",
          "Oman",
          "Panama",
          "Paraguay",
          "Peru",
          "Poland",
          "Portugal",
          "Romania",
          "Russia",
          "Saudi Arabia",
          "Serbia",
          "Singapore",
          "Slovakia",
          "Slovenia",
          "Spain",
          "Sri Lanka",
          "Suriname",
          "Sweden",
          "Switzerland",
          "Taiwan",
          "Thailand",
          "Trinidad and Tobago",
          "Tunisia",
          "Turkiye",
          "Ukraine",
          "United Arab Emirates",
          "United Kingdom",
          "United States",
          "Uruguay",
          "Uzbekistan",
          "Vietnam"
         ],
         "legendgroup": "High",
         "line": {
          "color": "rgba(255,255,255,0)"
         },
         "marker": {
          "color": "rgb(221,132,82)"
         },
         "name": "High",
         "offsetgroup": "High",
         "orientation": "v",
         "pointpos": 0,
         "showlegend": true,
         "type": "box",
         "x0": " ",
         "xaxis": "x",
         "y": [
          0.3327959553724978,
          0.3258836627926084,
          0.3923918299156067,
          0.32780772555493953,
          0.4814634071318037,
          0.42970890774036974,
          0.3222571316132161,
          0.31517348345409923,
          0.43573882155415317,
          0.30493057979497734,
          0.3344240815785682,
          0.3230502379979175,
          0.45012322231767543,
          0.3189375419574752,
          0.30391851580525486,
          0.5118533583758502,
          0.44973975941274047,
          0.3522393236515116,
          0.4330983238062262,
          0.4281147145206541,
          0.3963648662819863,
          0.327348090284847,
          0.36970868653322914,
          0.384374579364765,
          0.4681764225521938,
          0.3866118506694208,
          0.30090821965447806,
          0.4007008153190739,
          0.3405567592987365,
          0.48470433189287865,
          0.46357198433194957,
          0.30719971430614024,
          0.4463677862892247,
          0.39088925079283543,
          0.30306018370304333,
          0.3177562657392062,
          0.36197821878354464,
          0.3704277685169567,
          0.3200169865961521,
          0.3574782383649254,
          0.4030861185180884,
          0.43010941605664615,
          0.4360556731537303,
          0.32268709198511725,
          0.4513292123919844,
          0.3126209378006371,
          0.32557600752440047,
          0.43172813938717436,
          0.3017546889925137,
          0.34532472601864284,
          0.3154406091653475,
          0.3695979717708913,
          0.3690971074692261,
          0.3752658362717867,
          0.3682063487061711,
          0.31285188669818315,
          0.3245833325433308,
          0.37193241618727974,
          0.3098479533243526,
          0.3417437456733116,
          0.31189928926384863,
          0.45139327922541117,
          0.4625406583801713,
          0.3137560810731065,
          0.5201535248549473,
          0.32485613655827705,
          0.37582191417570066,
          0.3427889412946369,
          0.38087535059740374,
          0.3917346575091635,
          0.4305952376624809,
          0.35557182605202337,
          0.3767125547102136,
          0.35942783828464486,
          0.3417702204443322,
          0.4055149436247446,
          0.3633686597767355,
          0.3904534398164631,
          0.4354229097277985,
          0.3197418673032541,
          0.31360414915402846,
          0.5036696357253401,
          0.44001586199255716,
          0.4087781657102706,
          0.33052214722988466,
          0.3114989427305663,
          0.32773555032141954,
          0.34965876630106923,
          0.3302676483415786,
          0.36377615310254713,
          0.4053569075265525,
          0.4614159243638147,
          0.4395469833711957,
          0.31704792469809356,
          0.3496339169649717
         ],
         "y0": " ",
         "yaxis": "y"
        }
       ],
       "layout": {
        "boxmode": "group",
        "height": 500,
        "legend": {
         "title": {
          "text": "color"
         },
         "tracegroupgap": 0
        },
        "margin": {
         "t": 60
        },
        "template": {
         "data": {
          "bar": [
           {
            "error_x": {
             "color": "rgb(36,36,36)"
            },
            "error_y": {
             "color": "rgb(36,36,36)"
            },
            "marker": {
             "line": {
              "color": "rgb(234,234,242)",
              "width": 0.5
             },
             "pattern": {
              "fillmode": "overlay",
              "size": 10,
              "solidity": 0.2
             }
            },
            "type": "bar"
           }
          ],
          "barpolar": [
           {
            "marker": {
             "line": {
              "color": "rgb(234,234,242)",
              "width": 0.5
             },
             "pattern": {
              "fillmode": "overlay",
              "size": 10,
              "solidity": 0.2
             }
            },
            "type": "barpolar"
           }
          ],
          "carpet": [
           {
            "aaxis": {
             "endlinecolor": "rgb(36,36,36)",
             "gridcolor": "white",
             "linecolor": "white",
             "minorgridcolor": "white",
             "startlinecolor": "rgb(36,36,36)"
            },
            "baxis": {
             "endlinecolor": "rgb(36,36,36)",
             "gridcolor": "white",
             "linecolor": "white",
             "minorgridcolor": "white",
             "startlinecolor": "rgb(36,36,36)"
            },
            "type": "carpet"
           }
          ],
          "choropleth": [
           {
            "colorbar": {
             "outlinewidth": 0,
             "tickcolor": "rgb(36,36,36)",
             "ticklen": 8,
             "ticks": "outside",
             "tickwidth": 2
            },
            "type": "choropleth"
           }
          ],
          "contour": [
           {
            "colorbar": {
             "outlinewidth": 0,
             "tickcolor": "rgb(36,36,36)",
             "ticklen": 8,
             "ticks": "outside",
             "tickwidth": 2
            },
            "colorscale": [
             [
              0,
              "rgb(2,4,25)"
             ],
             [
              0.06274509803921569,
              "rgb(24,15,41)"
             ],
             [
              0.12549019607843137,
              "rgb(47,23,57)"
             ],
             [
              0.18823529411764706,
              "rgb(71,28,72)"
             ],
             [
              0.25098039215686274,
              "rgb(97,30,82)"
             ],
             [
              0.3137254901960784,
              "rgb(123,30,89)"
             ],
             [
              0.3764705882352941,
              "rgb(150,27,91)"
             ],
             [
              0.4392156862745098,
              "rgb(177,22,88)"
             ],
             [
              0.5019607843137255,
              "rgb(203,26,79)"
             ],
             [
              0.5647058823529412,
              "rgb(223,47,67)"
             ],
             [
              0.6274509803921569,
              "rgb(236,76,61)"
             ],
             [
              0.6901960784313725,
              "rgb(242,107,73)"
             ],
             [
              0.7529411764705882,
              "rgb(244,135,95)"
             ],
             [
              0.8156862745098039,
              "rgb(245,162,122)"
             ],
             [
              0.8784313725490196,
              "rgb(246,188,153)"
             ],
             [
              0.9411764705882353,
              "rgb(247,212,187)"
             ],
             [
              1,
              "rgb(250,234,220)"
             ]
            ],
            "type": "contour"
           }
          ],
          "contourcarpet": [
           {
            "colorbar": {
             "outlinewidth": 0,
             "tickcolor": "rgb(36,36,36)",
             "ticklen": 8,
             "ticks": "outside",
             "tickwidth": 2
            },
            "type": "contourcarpet"
           }
          ],
          "heatmap": [
           {
            "colorbar": {
             "outlinewidth": 0,
             "tickcolor": "rgb(36,36,36)",
             "ticklen": 8,
             "ticks": "outside",
             "tickwidth": 2
            },
            "colorscale": [
             [
              0,
              "rgb(2,4,25)"
             ],
             [
              0.06274509803921569,
              "rgb(24,15,41)"
             ],
             [
              0.12549019607843137,
              "rgb(47,23,57)"
             ],
             [
              0.18823529411764706,
              "rgb(71,28,72)"
             ],
             [
              0.25098039215686274,
              "rgb(97,30,82)"
             ],
             [
              0.3137254901960784,
              "rgb(123,30,89)"
             ],
             [
              0.3764705882352941,
              "rgb(150,27,91)"
             ],
             [
              0.4392156862745098,
              "rgb(177,22,88)"
             ],
             [
              0.5019607843137255,
              "rgb(203,26,79)"
             ],
             [
              0.5647058823529412,
              "rgb(223,47,67)"
             ],
             [
              0.6274509803921569,
              "rgb(236,76,61)"
             ],
             [
              0.6901960784313725,
              "rgb(242,107,73)"
             ],
             [
              0.7529411764705882,
              "rgb(244,135,95)"
             ],
             [
              0.8156862745098039,
              "rgb(245,162,122)"
             ],
             [
              0.8784313725490196,
              "rgb(246,188,153)"
             ],
             [
              0.9411764705882353,
              "rgb(247,212,187)"
             ],
             [
              1,
              "rgb(250,234,220)"
             ]
            ],
            "type": "heatmap"
           }
          ],
          "heatmapgl": [
           {
            "colorbar": {
             "outlinewidth": 0,
             "tickcolor": "rgb(36,36,36)",
             "ticklen": 8,
             "ticks": "outside",
             "tickwidth": 2
            },
            "colorscale": [
             [
              0,
              "rgb(2,4,25)"
             ],
             [
              0.06274509803921569,
              "rgb(24,15,41)"
             ],
             [
              0.12549019607843137,
              "rgb(47,23,57)"
             ],
             [
              0.18823529411764706,
              "rgb(71,28,72)"
             ],
             [
              0.25098039215686274,
              "rgb(97,30,82)"
             ],
             [
              0.3137254901960784,
              "rgb(123,30,89)"
             ],
             [
              0.3764705882352941,
              "rgb(150,27,91)"
             ],
             [
              0.4392156862745098,
              "rgb(177,22,88)"
             ],
             [
              0.5019607843137255,
              "rgb(203,26,79)"
             ],
             [
              0.5647058823529412,
              "rgb(223,47,67)"
             ],
             [
              0.6274509803921569,
              "rgb(236,76,61)"
             ],
             [
              0.6901960784313725,
              "rgb(242,107,73)"
             ],
             [
              0.7529411764705882,
              "rgb(244,135,95)"
             ],
             [
              0.8156862745098039,
              "rgb(245,162,122)"
             ],
             [
              0.8784313725490196,
              "rgb(246,188,153)"
             ],
             [
              0.9411764705882353,
              "rgb(247,212,187)"
             ],
             [
              1,
              "rgb(250,234,220)"
             ]
            ],
            "type": "heatmapgl"
           }
          ],
          "histogram": [
           {
            "marker": {
             "pattern": {
              "fillmode": "overlay",
              "size": 10,
              "solidity": 0.2
             }
            },
            "type": "histogram"
           }
          ],
          "histogram2d": [
           {
            "colorbar": {
             "outlinewidth": 0,
             "tickcolor": "rgb(36,36,36)",
             "ticklen": 8,
             "ticks": "outside",
             "tickwidth": 2
            },
            "colorscale": [
             [
              0,
              "rgb(2,4,25)"
             ],
             [
              0.06274509803921569,
              "rgb(24,15,41)"
             ],
             [
              0.12549019607843137,
              "rgb(47,23,57)"
             ],
             [
              0.18823529411764706,
              "rgb(71,28,72)"
             ],
             [
              0.25098039215686274,
              "rgb(97,30,82)"
             ],
             [
              0.3137254901960784,
              "rgb(123,30,89)"
             ],
             [
              0.3764705882352941,
              "rgb(150,27,91)"
             ],
             [
              0.4392156862745098,
              "rgb(177,22,88)"
             ],
             [
              0.5019607843137255,
              "rgb(203,26,79)"
             ],
             [
              0.5647058823529412,
              "rgb(223,47,67)"
             ],
             [
              0.6274509803921569,
              "rgb(236,76,61)"
             ],
             [
              0.6901960784313725,
              "rgb(242,107,73)"
             ],
             [
              0.7529411764705882,
              "rgb(244,135,95)"
             ],
             [
              0.8156862745098039,
              "rgb(245,162,122)"
             ],
             [
              0.8784313725490196,
              "rgb(246,188,153)"
             ],
             [
              0.9411764705882353,
              "rgb(247,212,187)"
             ],
             [
              1,
              "rgb(250,234,220)"
             ]
            ],
            "type": "histogram2d"
           }
          ],
          "histogram2dcontour": [
           {
            "colorbar": {
             "outlinewidth": 0,
             "tickcolor": "rgb(36,36,36)",
             "ticklen": 8,
             "ticks": "outside",
             "tickwidth": 2
            },
            "colorscale": [
             [
              0,
              "rgb(2,4,25)"
             ],
             [
              0.06274509803921569,
              "rgb(24,15,41)"
             ],
             [
              0.12549019607843137,
              "rgb(47,23,57)"
             ],
             [
              0.18823529411764706,
              "rgb(71,28,72)"
             ],
             [
              0.25098039215686274,
              "rgb(97,30,82)"
             ],
             [
              0.3137254901960784,
              "rgb(123,30,89)"
             ],
             [
              0.3764705882352941,
              "rgb(150,27,91)"
             ],
             [
              0.4392156862745098,
              "rgb(177,22,88)"
             ],
             [
              0.5019607843137255,
              "rgb(203,26,79)"
             ],
             [
              0.5647058823529412,
              "rgb(223,47,67)"
             ],
             [
              0.6274509803921569,
              "rgb(236,76,61)"
             ],
             [
              0.6901960784313725,
              "rgb(242,107,73)"
             ],
             [
              0.7529411764705882,
              "rgb(244,135,95)"
             ],
             [
              0.8156862745098039,
              "rgb(245,162,122)"
             ],
             [
              0.8784313725490196,
              "rgb(246,188,153)"
             ],
             [
              0.9411764705882353,
              "rgb(247,212,187)"
             ],
             [
              1,
              "rgb(250,234,220)"
             ]
            ],
            "type": "histogram2dcontour"
           }
          ],
          "mesh3d": [
           {
            "colorbar": {
             "outlinewidth": 0,
             "tickcolor": "rgb(36,36,36)",
             "ticklen": 8,
             "ticks": "outside",
             "tickwidth": 2
            },
            "type": "mesh3d"
           }
          ],
          "parcoords": [
           {
            "line": {
             "colorbar": {
              "outlinewidth": 0,
              "tickcolor": "rgb(36,36,36)",
              "ticklen": 8,
              "ticks": "outside",
              "tickwidth": 2
             }
            },
            "type": "parcoords"
           }
          ],
          "pie": [
           {
            "automargin": true,
            "type": "pie"
           }
          ],
          "scatter": [
           {
            "fillpattern": {
             "fillmode": "overlay",
             "size": 10,
             "solidity": 0.2
            },
            "type": "scatter"
           }
          ],
          "scatter3d": [
           {
            "line": {
             "colorbar": {
              "outlinewidth": 0,
              "tickcolor": "rgb(36,36,36)",
              "ticklen": 8,
              "ticks": "outside",
              "tickwidth": 2
             }
            },
            "marker": {
             "colorbar": {
              "outlinewidth": 0,
              "tickcolor": "rgb(36,36,36)",
              "ticklen": 8,
              "ticks": "outside",
              "tickwidth": 2
             }
            },
            "type": "scatter3d"
           }
          ],
          "scattercarpet": [
           {
            "marker": {
             "colorbar": {
              "outlinewidth": 0,
              "tickcolor": "rgb(36,36,36)",
              "ticklen": 8,
              "ticks": "outside",
              "tickwidth": 2
             }
            },
            "type": "scattercarpet"
           }
          ],
          "scattergeo": [
           {
            "marker": {
             "colorbar": {
              "outlinewidth": 0,
              "tickcolor": "rgb(36,36,36)",
              "ticklen": 8,
              "ticks": "outside",
              "tickwidth": 2
             }
            },
            "type": "scattergeo"
           }
          ],
          "scattergl": [
           {
            "marker": {
             "colorbar": {
              "outlinewidth": 0,
              "tickcolor": "rgb(36,36,36)",
              "ticklen": 8,
              "ticks": "outside",
              "tickwidth": 2
             }
            },
            "type": "scattergl"
           }
          ],
          "scattermapbox": [
           {
            "marker": {
             "colorbar": {
              "outlinewidth": 0,
              "tickcolor": "rgb(36,36,36)",
              "ticklen": 8,
              "ticks": "outside",
              "tickwidth": 2
             }
            },
            "type": "scattermapbox"
           }
          ],
          "scatterpolar": [
           {
            "marker": {
             "colorbar": {
              "outlinewidth": 0,
              "tickcolor": "rgb(36,36,36)",
              "ticklen": 8,
              "ticks": "outside",
              "tickwidth": 2
             }
            },
            "type": "scatterpolar"
           }
          ],
          "scatterpolargl": [
           {
            "marker": {
             "colorbar": {
              "outlinewidth": 0,
              "tickcolor": "rgb(36,36,36)",
              "ticklen": 8,
              "ticks": "outside",
              "tickwidth": 2
             }
            },
            "type": "scatterpolargl"
           }
          ],
          "scatterternary": [
           {
            "marker": {
             "colorbar": {
              "outlinewidth": 0,
              "tickcolor": "rgb(36,36,36)",
              "ticklen": 8,
              "ticks": "outside",
              "tickwidth": 2
             }
            },
            "type": "scatterternary"
           }
          ],
          "surface": [
           {
            "colorbar": {
             "outlinewidth": 0,
             "tickcolor": "rgb(36,36,36)",
             "ticklen": 8,
             "ticks": "outside",
             "tickwidth": 2
            },
            "colorscale": [
             [
              0,
              "rgb(2,4,25)"
             ],
             [
              0.06274509803921569,
              "rgb(24,15,41)"
             ],
             [
              0.12549019607843137,
              "rgb(47,23,57)"
             ],
             [
              0.18823529411764706,
              "rgb(71,28,72)"
             ],
             [
              0.25098039215686274,
              "rgb(97,30,82)"
             ],
             [
              0.3137254901960784,
              "rgb(123,30,89)"
             ],
             [
              0.3764705882352941,
              "rgb(150,27,91)"
             ],
             [
              0.4392156862745098,
              "rgb(177,22,88)"
             ],
             [
              0.5019607843137255,
              "rgb(203,26,79)"
             ],
             [
              0.5647058823529412,
              "rgb(223,47,67)"
             ],
             [
              0.6274509803921569,
              "rgb(236,76,61)"
             ],
             [
              0.6901960784313725,
              "rgb(242,107,73)"
             ],
             [
              0.7529411764705882,
              "rgb(244,135,95)"
             ],
             [
              0.8156862745098039,
              "rgb(245,162,122)"
             ],
             [
              0.8784313725490196,
              "rgb(246,188,153)"
             ],
             [
              0.9411764705882353,
              "rgb(247,212,187)"
             ],
             [
              1,
              "rgb(250,234,220)"
             ]
            ],
            "type": "surface"
           }
          ],
          "table": [
           {
            "cells": {
             "fill": {
              "color": "rgb(231,231,240)"
             },
             "line": {
              "color": "white"
             }
            },
            "header": {
             "fill": {
              "color": "rgb(183,183,191)"
             },
             "line": {
              "color": "white"
             }
            },
            "type": "table"
           }
          ]
         },
         "layout": {
          "annotationdefaults": {
           "arrowcolor": "rgb(67,103,167)"
          },
          "autotypenumbers": "strict",
          "coloraxis": {
           "colorbar": {
            "outlinewidth": 0,
            "tickcolor": "rgb(36,36,36)",
            "ticklen": 8,
            "ticks": "outside",
            "tickwidth": 2
           }
          },
          "colorscale": {
           "sequential": [
            [
             0,
             "rgb(2,4,25)"
            ],
            [
             0.06274509803921569,
             "rgb(24,15,41)"
            ],
            [
             0.12549019607843137,
             "rgb(47,23,57)"
            ],
            [
             0.18823529411764706,
             "rgb(71,28,72)"
            ],
            [
             0.25098039215686274,
             "rgb(97,30,82)"
            ],
            [
             0.3137254901960784,
             "rgb(123,30,89)"
            ],
            [
             0.3764705882352941,
             "rgb(150,27,91)"
            ],
            [
             0.4392156862745098,
             "rgb(177,22,88)"
            ],
            [
             0.5019607843137255,
             "rgb(203,26,79)"
            ],
            [
             0.5647058823529412,
             "rgb(223,47,67)"
            ],
            [
             0.6274509803921569,
             "rgb(236,76,61)"
            ],
            [
             0.6901960784313725,
             "rgb(242,107,73)"
            ],
            [
             0.7529411764705882,
             "rgb(244,135,95)"
            ],
            [
             0.8156862745098039,
             "rgb(245,162,122)"
            ],
            [
             0.8784313725490196,
             "rgb(246,188,153)"
            ],
            [
             0.9411764705882353,
             "rgb(247,212,187)"
            ],
            [
             1,
             "rgb(250,234,220)"
            ]
           ],
           "sequentialminus": [
            [
             0,
             "rgb(2,4,25)"
            ],
            [
             0.06274509803921569,
             "rgb(24,15,41)"
            ],
            [
             0.12549019607843137,
             "rgb(47,23,57)"
            ],
            [
             0.18823529411764706,
             "rgb(71,28,72)"
            ],
            [
             0.25098039215686274,
             "rgb(97,30,82)"
            ],
            [
             0.3137254901960784,
             "rgb(123,30,89)"
            ],
            [
             0.3764705882352941,
             "rgb(150,27,91)"
            ],
            [
             0.4392156862745098,
             "rgb(177,22,88)"
            ],
            [
             0.5019607843137255,
             "rgb(203,26,79)"
            ],
            [
             0.5647058823529412,
             "rgb(223,47,67)"
            ],
            [
             0.6274509803921569,
             "rgb(236,76,61)"
            ],
            [
             0.6901960784313725,
             "rgb(242,107,73)"
            ],
            [
             0.7529411764705882,
             "rgb(244,135,95)"
            ],
            [
             0.8156862745098039,
             "rgb(245,162,122)"
            ],
            [
             0.8784313725490196,
             "rgb(246,188,153)"
            ],
            [
             0.9411764705882353,
             "rgb(247,212,187)"
            ],
            [
             1,
             "rgb(250,234,220)"
            ]
           ]
          },
          "colorway": [
           "rgb(76,114,176)",
           "rgb(221,132,82)",
           "rgb(85,168,104)",
           "rgb(196,78,82)",
           "rgb(129,114,179)",
           "rgb(147,120,96)",
           "rgb(218,139,195)",
           "rgb(140,140,140)",
           "rgb(204,185,116)",
           "rgb(100,181,205)"
          ],
          "font": {
           "color": "rgb(36,36,36)"
          },
          "geo": {
           "bgcolor": "white",
           "lakecolor": "white",
           "landcolor": "rgb(234,234,242)",
           "showlakes": true,
           "showland": true,
           "subunitcolor": "white"
          },
          "hoverlabel": {
           "align": "left"
          },
          "hovermode": "closest",
          "paper_bgcolor": "white",
          "plot_bgcolor": "rgb(234,234,242)",
          "polar": {
           "angularaxis": {
            "gridcolor": "white",
            "linecolor": "white",
            "showgrid": true,
            "ticks": ""
           },
           "bgcolor": "rgb(234,234,242)",
           "radialaxis": {
            "gridcolor": "white",
            "linecolor": "white",
            "showgrid": true,
            "ticks": ""
           }
          },
          "scene": {
           "xaxis": {
            "backgroundcolor": "rgb(234,234,242)",
            "gridcolor": "white",
            "gridwidth": 2,
            "linecolor": "white",
            "showbackground": true,
            "showgrid": true,
            "ticks": "",
            "zerolinecolor": "white"
           },
           "yaxis": {
            "backgroundcolor": "rgb(234,234,242)",
            "gridcolor": "white",
            "gridwidth": 2,
            "linecolor": "white",
            "showbackground": true,
            "showgrid": true,
            "ticks": "",
            "zerolinecolor": "white"
           },
           "zaxis": {
            "backgroundcolor": "rgb(234,234,242)",
            "gridcolor": "white",
            "gridwidth": 2,
            "linecolor": "white",
            "showbackground": true,
            "showgrid": true,
            "ticks": "",
            "zerolinecolor": "white"
           }
          },
          "shapedefaults": {
           "fillcolor": "rgb(67,103,167)",
           "line": {
            "width": 0
           },
           "opacity": 0.5
          },
          "ternary": {
           "aaxis": {
            "gridcolor": "white",
            "linecolor": "white",
            "showgrid": true,
            "ticks": ""
           },
           "baxis": {
            "gridcolor": "white",
            "linecolor": "white",
            "showgrid": true,
            "ticks": ""
           },
           "bgcolor": "rgb(234,234,242)",
           "caxis": {
            "gridcolor": "white",
            "linecolor": "white",
            "showgrid": true,
            "ticks": ""
           }
          },
          "xaxis": {
           "automargin": true,
           "gridcolor": "white",
           "linecolor": "white",
           "showgrid": true,
           "ticks": "",
           "title": {
            "standoff": 15
           },
           "zerolinecolor": "white"
          },
          "yaxis": {
           "automargin": true,
           "gridcolor": "white",
           "linecolor": "white",
           "showgrid": true,
           "ticks": "",
           "title": {
            "standoff": 15
           },
           "zerolinecolor": "white"
          }
         }
        },
        "width": 800,
        "xaxis": {
         "anchor": "y",
         "domain": [
          0,
          1
         ]
        },
        "yaxis": {
         "anchor": "x",
         "domain": [
          0,
          1
         ],
         "title": {
          "text": "y"
         }
        }
       }
      }
     },
     "metadata": {},
     "output_type": "display_data"
    }
   ],
   "source": [
    "fig = px.strip(y = dataFrame[i].iloc[:,-2], color = dataFrame[i].iloc[:,-1],  hover_name=country, \n",
    "                template = 'seaborn', width = 800, height = 500\n",
    "                )\n",
    "\n",
    "fig.show()"
   ]
  },
  {
   "cell_type": "code",
   "execution_count": 114,
   "metadata": {},
   "outputs": [
    {
     "data": {
      "image/png": "[encoded data removed]",
      "text/plain": [
       "<Figure size 1440x720 with 6 Axes>"
      ]
     },
     "metadata": {
      "needs_background": "light"
     },
     "output_type": "display_data"
    }
   ],
   "source": [
    "fig, axes = plt.subplots(2,3, figsize = (20,10))\n",
    "fig.suptitle('Clutering Analysis')\n",
    "\n",
    "for row in range(2):\n",
    "    for col in range(3):\n",
    "        if(row != 1):\n",
    "            axes[row,col].set_title(Factors[col+row])\n",
    "            sns.scatterplot(ax = axes[row,col], x = X[col+row], y = Y[col+row], style = dataFrame[col+row].iloc[:,-1], hue = continent)\n",
    "        else:\n",
    "            axes[row,col].set_title(Factors[col+row+2])\n",
    "            sns.scatterplot(ax = axes[row,col], x = X[col+row+2], y = Y[col+row+2], style = dataFrame[col+row+2].iloc[:,-1], hue = continent)\n",
    "plt.savefig(\"plot/cluster.svg\")"
   ]
  },
  {
   "attachments": {},
   "cell_type": "markdown",
   "metadata": {},
   "source": [
    "### Export data and etc."
   ]
  },
  {
   "cell_type": "code",
   "execution_count": null,
   "metadata": {},
   "outputs": [],
   "source": [
    "for n, m in zip(Tsne_name, Tsne):\n",
    "    pd.DataFrame(m).to_csv('TSNE/'+n+'.csv', index = False)"
   ]
  },
  {
   "cell_type": "code",
   "execution_count": null,
   "metadata": {},
   "outputs": [],
   "source": [
    "nameIndex = ['datasets/indexes/indexECO.csv', 'datasets/indexes/indexENV.csv', 'datasets/indexes/indexHEL.csv', 'datasets/indexes/indexHUM.csv', 'datasets/indexes/indexPOL.csv', 'datasets/indexes/indexALL.csv']\n",
    "\n",
    "for d, n in zip(dataFrame, nameIndex):\n",
    "    pd.DataFrame(d.iloc[:,-2:]).to_csv(n, index = False)"
   ]
  },
  {
   "cell_type": "code",
   "execution_count": null,
   "metadata": {},
   "outputs": [],
   "source": [
    "tsne_and_index = [pd.concat([pd.DataFrame(Tsne[i]),dataFrame[i].iloc[:,-2:]], axis = 1) for i in range(6)]"
   ]
  },
  {
   "cell_type": "code",
   "execution_count": null,
   "metadata": {},
   "outputs": [],
   "source": [
    "tsne_and_indexes = pd.concat(tsne_and_index, axis = 1)"
   ]
  },
  {
   "cell_type": "code",
   "execution_count": null,
   "metadata": {},
   "outputs": [],
   "source": [
    "tsne_and_indexes.to_csv('data_for_dev/tsne_and_indexes.csv', index = False)"
   ]
  },
  {
   "cell_type": "code",
   "execution_count": null,
   "metadata": {},
   "outputs": [],
   "source": [
    "# Combine dataframe from split factor df\n",
    "DF = [df[list(factors[factors['Factor'] == Factors[i]]['Columns'])] for i in range(len(Factors))]\n",
    "\n",
    "worldFactor = pd.concat(DF, axis = 1)"
   ]
  },
  {
   "cell_type": "code",
   "execution_count": null,
   "metadata": {},
   "outputs": [],
   "source": [
    "worldFactor.to_csv('data_for_dev/world_data.csv', index = False)"
   ]
  }
 ],
 "metadata": {
  "kernelspec": {
   "display_name": "Python 3",
   "language": "python",
   "name": "python3"
  },
  "language_info": {
   "codemirror_mode": {
    "name": "ipython",
    "version": 3
   },
   "file_extension": ".py",
   "mimetype": "text/x-python",
   "name": "python",
   "nbconvert_exporter": "python",
   "pygments_lexer": "ipython3",
   "version": "3.10.9"
  },
  "orig_nbformat": 4,
  "vscode": {
   "interpreter": {
    "hash": "173ae74ecd759d33659dc89cc0ace91dba90ddaa088b7a848a7f37d845ddcc5d"
   }
  }
 },
 "nbformat": 4,
 "nbformat_minor": 2
}
