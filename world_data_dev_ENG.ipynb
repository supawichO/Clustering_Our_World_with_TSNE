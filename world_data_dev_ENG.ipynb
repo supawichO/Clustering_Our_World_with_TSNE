{
 "cells": [
  {
   "attachments": {},
   "cell_type": "markdown",
   "metadata": {},
   "source": [
    "# Sustainability Countries in Our World\n",
    "In this project, our world data is represented in 5 main aspects;\n",
    "1. Economic\n",
    "2. Environmental\n",
    "3. Health\n",
    "4. Human\n",
    "5. Political<br><br>\n",
    "\n",
    "These aspects are combined to create <b>Sustainability</b>. All of aspects will be mainly analyzed in 2 views (<em>Cluster analysis</em> and <em>Index of each aspect comparison</em>) to state how our world is now."
   ]
  },
  {
   "attachments": {},
   "cell_type": "markdown",
   "metadata": {},
   "source": [
    "### Import Package and check dataset\n",
    "Due to data sources are gathered diversely (World Bank, OurWorldinData, etc.), Checking, varifying, and handling with error and missing data is counted in the process. "
   ]
  },
  {
   "cell_type": "code",
   "execution_count": 112,
   "metadata": {},
   "outputs": [],
   "source": [
    "import pandas as pd\n",
    "import numpy as np\n",
    "import seaborn as sns\n",
    "from sklearn.manifold import TSNE\n",
    "import missingno as msno\n",
    "import matplotlib.pyplot as plt\n",
    "from fancyimpute import IterativeImputer\n",
    "from sklearn.preprocessing import MinMaxScaler\n",
    "import plotly.graph_objects as go\n",
    "import plotly.express as px\n",
    "from scipy.stats import gmean"
   ]
  },
  {
   "cell_type": "code",
   "execution_count": 5,
   "metadata": {},
   "outputs": [
    {
     "data": {
      "text/html": [
       "<div>\n",
       "<style scoped>\n",
       "    .dataframe tbody tr th:only-of-type {\n",
       "        vertical-align: middle;\n",
       "    }\n",
       "\n",
       "    .dataframe tbody tr th {\n",
       "        vertical-align: top;\n",
       "    }\n",
       "\n",
       "    .dataframe thead th {\n",
       "        text-align: right;\n",
       "    }\n",
       "</style>\n",
       "<table border=\"1\" class=\"dataframe\">\n",
       "  <thead>\n",
       "    <tr style=\"text-align: right;\">\n",
       "      <th></th>\n",
       "      <th>Ease of doing business score (0 = lowest performance to 100 = best performance)</th>\n",
       "      <th>Economic Growth</th>\n",
       "      <th>Employment to population ratio, 15+, total (%) (modeled ILO estimate)</th>\n",
       "      <th>GDP (current US$)</th>\n",
       "    </tr>\n",
       "  </thead>\n",
       "  <tbody>\n",
       "    <tr>\n",
       "      <th>0</th>\n",
       "      <td>44.06497</td>\n",
       "      <td>-2.35</td>\n",
       "      <td>35.893002</td>\n",
       "      <td>1.478686e+10</td>\n",
       "    </tr>\n",
       "    <tr>\n",
       "      <th>1</th>\n",
       "      <td>67.74847</td>\n",
       "      <td>8.54</td>\n",
       "      <td>51.609001</td>\n",
       "      <td>1.825579e+10</td>\n",
       "    </tr>\n",
       "    <tr>\n",
       "      <th>2</th>\n",
       "      <td>48.59758</td>\n",
       "      <td>3.85</td>\n",
       "      <td>35.113998</td>\n",
       "      <td>1.630000e+11</td>\n",
       "    </tr>\n",
       "    <tr>\n",
       "      <th>3</th>\n",
       "      <td>41.28838</td>\n",
       "      <td>0.70</td>\n",
       "      <td>69.936996</td>\n",
       "      <td>6.740429e+10</td>\n",
       "    </tr>\n",
       "    <tr>\n",
       "      <th>4</th>\n",
       "      <td>58.96151</td>\n",
       "      <td>10.26</td>\n",
       "      <td>53.814999</td>\n",
       "      <td>4.870000e+11</td>\n",
       "    </tr>\n",
       "  </tbody>\n",
       "</table>\n",
       "</div>"
      ],
      "text/plain": [
       "   Ease of doing business score (0 = lowest performance to 100 = best performance)  \\\n",
       "0                                           44.06497                                 \n",
       "1                                           67.74847                                 \n",
       "2                                           48.59758                                 \n",
       "3                                           41.28838                                 \n",
       "4                                           58.96151                                 \n",
       "\n",
       "   Economic Growth  \\\n",
       "0            -2.35   \n",
       "1             8.54   \n",
       "2             3.85   \n",
       "3             0.70   \n",
       "4            10.26   \n",
       "\n",
       "   Employment to population ratio, 15+, total (%) (modeled ILO estimate)  \\\n",
       "0                                          35.893002                       \n",
       "1                                          51.609001                       \n",
       "2                                          35.113998                       \n",
       "3                                          69.936996                       \n",
       "4                                          53.814999                       \n",
       "\n",
       "   GDP (current US$)  \n",
       "0       1.478686e+10  \n",
       "1       1.825579e+10  \n",
       "2       1.630000e+11  \n",
       "3       6.740429e+10  \n",
       "4       4.870000e+11  "
      ]
     },
     "execution_count": 5,
     "metadata": {},
     "output_type": "execute_result"
    }
   ],
   "source": [
    "# Load Dataset\n",
    "worldData = pd.read_csv('datasets/raw_world_source_ana.csv', na_values=[\"-\"], encoding='cp1252')\n",
    "worldData.iloc[:,3:7].head()"
   ]
  },
  {
   "cell_type": "code",
   "execution_count": 6,
   "metadata": {},
   "outputs": [
    {
     "data": {
      "text/plain": [
       "(174, 89)"
      ]
     },
     "execution_count": 6,
     "metadata": {},
     "output_type": "execute_result"
    }
   ],
   "source": [
    "# Check dimensions of it\n",
    "worldData.shape"
   ]
  },
  {
   "attachments": {},
   "cell_type": "markdown",
   "metadata": {},
   "source": [
    "Now dataset has 89 features and 174 instances."
   ]
  },
  {
   "cell_type": "code",
   "execution_count": 110,
   "metadata": {},
   "outputs": [
    {
     "data": {
      "text/plain": [
       "Country                                                                            0\n",
       "ISO Country code                                                                   0\n",
       "Continent                                                                          0\n",
       "Ease of doing business score (0 = lowest performance to 100 = best performance)    4\n",
       "Economic Growth                                                                    7\n",
       "                                                                                  ..\n",
       "Political Rights Score                                                             0\n",
       "Political Stability & Absence Of Violence                                          1\n",
       "Regulatory Quality                                                                 1\n",
       "Rule Of Law                                                                        1\n",
       "UHC service coverage index                                                         2\n",
       "Length: 89, dtype: int64"
      ]
     },
     "metadata": {},
     "output_type": "display_data"
    },
    {
     "data": {
      "text/plain": [
       "<AxesSubplot:>"
      ]
     },
     "execution_count": 110,
     "metadata": {},
     "output_type": "execute_result"
    },
    {
     "data": {
      "image/png": "[encoded data removed]",
      "text/plain": [
       "<Figure size 1800x720 with 2 Axes>"
      ]
     },
     "metadata": {
      "needs_background": "light"
     },
     "output_type": "display_data"
    }
   ],
   "source": [
    "# Check NA data\n",
    "display(worldData.isna().sum())\n",
    "\n",
    "# Check with missing matrix plot\n",
    "msno.matrix(worldData)"
   ]
  },
  {
   "attachments": {},
   "cell_type": "markdown",
   "metadata": {},
   "source": [
    "### Imputation\n",
    "\n",
    "As can be seen, there are approximate 1 in 3 of data are missing values and this is a crucial struggle to do cluster analysis.<br><br>\n",
    "\n",
    "Hence, Imputation method plays a role now by using <b>Multiple Imputations by Chained Equation (MICE)</b> to fill in missing values by an inclination data from the rest of features left."
   ]
  },
  {
   "cell_type": "code",
   "execution_count": 10,
   "metadata": {},
   "outputs": [],
   "source": [
    "def into_the_unknown(DataFrame, scaler, Imputer):\n",
    "    # Imputation with copied dataframe imputing with MICE: worldDataMICE\n",
    "    imputedDataFrame = DataFrame.iloc[:,3:].copy(deep = True)\n",
    "\n",
    "    # Scaling data\n",
    "    scalingImputedDataFrame = scaler.fit_transform(imputedDataFrame)\n",
    "\n",
    "    # Imputing data to copied dataframe\n",
    "    imputedDataFrame.iloc[:,:] = Imputer.fit_transform(scalingImputedDataFrame)\n",
    "\n",
    "    # Invere transform data\n",
    "    imputedDataFrame = scaler.inverse_transform(imputedDataFrame)\n",
    "\n",
    "    # Convert data to DataFrame\n",
    "    imputedDataFrame = pd.DataFrame(imputedDataFrame)\n",
    "\n",
    "    return imputedDataFrame"
   ]
  },
  {
   "cell_type": "code",
   "execution_count": 11,
   "metadata": {},
   "outputs": [
    {
     "name": "stderr",
     "output_type": "stream",
     "text": [
      "C:\\Program Files\\Python310\\lib\\site-packages\\sklearn\\impute\\_iterative.py:785: ConvergenceWarning: [IterativeImputer] Early stopping criterion not reached.\n",
      "  warnings.warn(\n"
     ]
    }
   ],
   "source": [
    "worldDataMICE = into_the_unknown(worldData, MinMaxScaler(), IterativeImputer(min_value=0 ,max_value=1))"
   ]
  },
  {
   "cell_type": "code",
   "execution_count": 12,
   "metadata": {},
   "outputs": [],
   "source": [
    "worldDataMICE.to_csv('datasets/world_source_ana_MICEimputed.csv', encoding='UTF-8')"
   ]
  },
  {
   "attachments": {},
   "cell_type": "markdown",
   "metadata": {},
   "source": [
    "### Calculating Indexes and Cluster Analysis\n",
    "\n",
    "After finished imputating data, the next step is calculating index of each aspect and analyzing cluster analysis by tSNE following below;\n",
    "1. Calculating index for each aspect\n",
    "2. Using average of index of each aspect to classify a country class. For any countries that have index more than the average, they will be classified as <b>High class</b>. The otherwise is classified as <b>Low class</b>.\n",
    "3. Use numerical features <em>except indexes</em> to do cluster analysis with tSNE.<br><br>\n",
    "\n",
    "Note: <em>tSNE (t-distribution Stochastic Neighbor Embedding)</em> is a technique for dimensionality reduction that is particularly well suited for the visualization of high-dimensional datasets. <em>(Laurens van der Maaten)"
   ]
  },
  {
   "cell_type": "code",
   "execution_count": 177,
   "metadata": {},
   "outputs": [
    {
     "data": {
      "text/html": [
       "<div>\n",
       "<style scoped>\n",
       "    .dataframe tbody tr th:only-of-type {\n",
       "        vertical-align: middle;\n",
       "    }\n",
       "\n",
       "    .dataframe tbody tr th {\n",
       "        vertical-align: top;\n",
       "    }\n",
       "\n",
       "    .dataframe thead th {\n",
       "        text-align: right;\n",
       "    }\n",
       "</style>\n",
       "<table border=\"1\" class=\"dataframe\">\n",
       "  <thead>\n",
       "    <tr style=\"text-align: right;\">\n",
       "      <th></th>\n",
       "      <th>% of seats held by women in national parliaments</th>\n",
       "      <th>Access to electricity (% of population)</th>\n",
       "      <th>Education as % of GDP</th>\n",
       "      <th>Happy Planet Index</th>\n",
       "      <th>Human capital index (HCI) (scale 0-1)</th>\n",
       "      <th>Human Development Index</th>\n",
       "      <th>School enrollment, secondary (% gross)</th>\n",
       "      <th>Sustainable Economic Development Assessment (SEDA)</th>\n",
       "      <th>Women Business and the Law Index Score (scale 1-100)</th>\n",
       "    </tr>\n",
       "  </thead>\n",
       "  <tbody>\n",
       "    <tr>\n",
       "      <th>0</th>\n",
       "      <td>27.0</td>\n",
       "      <td>97.699997</td>\n",
       "      <td>3.21</td>\n",
       "      <td>29.400000</td>\n",
       "      <td>0.400284</td>\n",
       "      <td>0.478</td>\n",
       "      <td>54.825329</td>\n",
       "      <td>26.300584</td>\n",
       "      <td>38.125</td>\n",
       "    </tr>\n",
       "    <tr>\n",
       "      <th>1</th>\n",
       "      <td>36.0</td>\n",
       "      <td>100.000000</td>\n",
       "      <td>3.10</td>\n",
       "      <td>51.000000</td>\n",
       "      <td>0.634251</td>\n",
       "      <td>0.796</td>\n",
       "      <td>94.280327</td>\n",
       "      <td>53.100000</td>\n",
       "      <td>91.250</td>\n",
       "    </tr>\n",
       "    <tr>\n",
       "      <th>2</th>\n",
       "      <td>8.0</td>\n",
       "      <td>99.804131</td>\n",
       "      <td>6.10</td>\n",
       "      <td>46.500000</td>\n",
       "      <td>0.534556</td>\n",
       "      <td>0.745</td>\n",
       "      <td>88.763870</td>\n",
       "      <td>45.800000</td>\n",
       "      <td>57.500</td>\n",
       "    </tr>\n",
       "    <tr>\n",
       "      <th>3</th>\n",
       "      <td>30.0</td>\n",
       "      <td>46.890610</td>\n",
       "      <td>2.42</td>\n",
       "      <td>42.208466</td>\n",
       "      <td>0.362405</td>\n",
       "      <td>0.586</td>\n",
       "      <td>52.524211</td>\n",
       "      <td>28.400000</td>\n",
       "      <td>79.375</td>\n",
       "    </tr>\n",
       "    <tr>\n",
       "      <th>4</th>\n",
       "      <td>45.0</td>\n",
       "      <td>100.000000</td>\n",
       "      <td>4.72</td>\n",
       "      <td>50.000000</td>\n",
       "      <td>0.602145</td>\n",
       "      <td>0.842</td>\n",
       "      <td>110.128220</td>\n",
       "      <td>57.300000</td>\n",
       "      <td>79.375</td>\n",
       "    </tr>\n",
       "  </tbody>\n",
       "</table>\n",
       "</div>"
      ],
      "text/plain": [
       "   % of seats held by women in national parliaments  \\\n",
       "0                                              27.0   \n",
       "1                                              36.0   \n",
       "2                                               8.0   \n",
       "3                                              30.0   \n",
       "4                                              45.0   \n",
       "\n",
       "   Access to electricity (% of population)  Education as % of GDP  \\\n",
       "0                                97.699997                   3.21   \n",
       "1                               100.000000                   3.10   \n",
       "2                                99.804131                   6.10   \n",
       "3                                46.890610                   2.42   \n",
       "4                               100.000000                   4.72   \n",
       "\n",
       "   Happy Planet Index  Human capital index (HCI) (scale 0-1)  \\\n",
       "0           29.400000                               0.400284   \n",
       "1           51.000000                               0.634251   \n",
       "2           46.500000                               0.534556   \n",
       "3           42.208466                               0.362405   \n",
       "4           50.000000                               0.602145   \n",
       "\n",
       "   Human Development Index  School enrollment, secondary (% gross)  \\\n",
       "0                    0.478                               54.825329   \n",
       "1                    0.796                               94.280327   \n",
       "2                    0.745                               88.763870   \n",
       "3                    0.586                               52.524211   \n",
       "4                    0.842                              110.128220   \n",
       "\n",
       "   Sustainable Economic Development Assessment (SEDA)  \\\n",
       "0                                          26.300584    \n",
       "1                                          53.100000    \n",
       "2                                          45.800000    \n",
       "3                                          28.400000    \n",
       "4                                          57.300000    \n",
       "\n",
       "   Women Business and the Law Index Score (scale 1-100)  \n",
       "0                                             38.125     \n",
       "1                                             91.250     \n",
       "2                                             57.500     \n",
       "3                                             79.375     \n",
       "4                                             79.375     "
      ]
     },
     "metadata": {},
     "output_type": "display_data"
    },
    {
     "data": {
      "text/plain": [
       "array(['Economic', 'Environment', 'Health', 'Human', 'Politic'],\n",
       "      dtype=object)"
      ]
     },
     "execution_count": 177,
     "metadata": {},
     "output_type": "execute_result"
    }
   ],
   "source": [
    "# Load world_source_ana_MICEimputed and Factors: df, factors\n",
    "df = pd.read_csv('datasets/world_source_ana_MICEimputed.csv', encoding='cp1252')\n",
    "factors = pd.read_csv('data_for_dev/without_tsne_and_indexed/factors.csv')\n",
    "# Assign features to factors\n",
    "Factors = ['Economic', 'Environment', 'Health', 'Human', 'Politic', 'All']\n",
    "\n",
    "display(df[list(factors[(factors['Factor'] == Factors[3]) & (factors['Direction'] == 'D')]['Columns'])].head())\n",
    "factors['Factor'].unique()"
   ]
  },
  {
   "cell_type": "code",
   "execution_count": 1,
   "metadata": {},
   "outputs": [
    {
     "ename": "NameError",
     "evalue": "name 'Factors' is not defined",
     "output_type": "error",
     "traceback": [
      "\u001b[1;31m---------------------------------------------------------------------------\u001b[0m",
      "\u001b[1;31mNameError\u001b[0m                                 Traceback (most recent call last)",
      "\u001b[1;32mc:\\Users\\Deardadaa\\Documents\\HW\\Side_Proj\\world_dashboard\\world_data_dev_ENG.ipynb Cell 15\u001b[0m in \u001b[0;36m<cell line: 2>\u001b[1;34m()\u001b[0m\n\u001b[0;32m      <a href='vscode-notebook-cell:/c%3A/Users/Deardadaa/Documents/HW/Side_Proj/world_dashboard/world_data_dev_ENG.ipynb#X21sZmlsZQ%3D%3D?line=0'>1</a>\u001b[0m \u001b[39m# Check how many features of each aspect\u001b[39;00m\n\u001b[1;32m----> <a href='vscode-notebook-cell:/c%3A/Users/Deardadaa/Documents/HW/Side_Proj/world_dashboard/world_data_dev_ENG.ipynb#X21sZmlsZQ%3D%3D?line=1'>2</a>\u001b[0m \u001b[39mdict\u001b[39m(\u001b[39mzip\u001b[39m(Factors, [\u001b[39mlen\u001b[39m(factors[factors[\u001b[39m'\u001b[39m\u001b[39mFactor\u001b[39m\u001b[39m'\u001b[39m] \u001b[39m==\u001b[39m i][\u001b[39m'\u001b[39m\u001b[39mColumns\u001b[39m\u001b[39m'\u001b[39m]) \u001b[39mfor\u001b[39;00m i \u001b[39min\u001b[39;00m Factors]))\n",
      "\u001b[1;31mNameError\u001b[0m: name 'Factors' is not defined"
     ]
    }
   ],
   "source": [
    "# Check how many features of each aspect\n",
    "dict(zip(Factors, [len(factors[factors['Factor'] == i]['Columns']) for i in Factors]))"
   ]
  },
  {
   "attachments": {},
   "cell_type": "markdown",
   "metadata": {},
   "source": [
    "Before calculating indexes and doing any analysis, data must be normalized by normalization method (transforming data into range 0-1). Here are 2 things to take care of\n",
    "1. Direction of a feature before normalization; Not all features have the similar trend as expected e.g. higher of mortality rate (Infant), incidence of HIV ages 15-49 or CO2 emission value do not mean representing in a good way.\n",
    "2. After normalization, data MUST NOT BE 0; all we know is transforming data into range 0-1. Nonetheless, these normalized data will generate index by using <b>Geometric mean</b>; which is multiple of all feature values for each instance. Hence, data need to be adjusted for this purpose."
   ]
  },
  {
   "cell_type": "code",
   "execution_count": 111,
   "metadata": {},
   "outputs": [],
   "source": [
    "# Normalization function\n",
    "def normData(df, directedCols, undirectedCols):\n",
    "    # Function for directed features\n",
    "    def dNorm(data):\n",
    "        # Adjusted value\n",
    "        a = 0.0000001\n",
    "        Min = data.min(axis = 0, skipna = True) - a\n",
    "        Max = data.max(axis = 0, skipna = True)\n",
    "        dNormDf = (data - Min)/(Max - Min)\n",
    "        return dNormDf\n",
    "    # Function for indirected features\n",
    "    def udNorm(data):\n",
    "        # Adjusted value\n",
    "        a = 0.0000001\n",
    "        Min = data.min(axis = 0, skipna = True) \n",
    "        Max = data.max(axis = 0, skipna = True) + a\n",
    "        udNormDf = 1- (data - Min)/(Max - Min)\n",
    "        return udNormDf\n",
    "    \n",
    "    # Calculating normalization\n",
    "    dNorm_ = dNorm(df[directedCols])\n",
    "    udNorm_ = udNorm(df[undirectedCols])\n",
    "\n",
    "    # Send output as DataFame\n",
    "    dataNorm = pd.concat([dNorm_, udNorm_], axis = 1)\n",
    "    return dataNorm\n",
    "\n",
    "# Index and class generation function\n",
    "def index_class(df, Factor):\n",
    "    # TSNE for visualization each factor\n",
    "    data = normData(df, list(factors[(factors['Factor'] == Factor) & (factors['Direction'] == 'D')]['Columns']),\n",
    "    list(factors[(factors['Factor'] == Factor) & (factors['Direction'] == 'I')]['Columns']))\n",
    "\n",
    "    # If any datapoint is 0, replace with 0.0000001\n",
    "    data = data.replace(0,0.0000001)\n",
    "\n",
    "    # Find index by geometric mean\n",
    "    data[Factor+'Index'] = data.apply(gmean,axis = 1)\n",
    "\n",
    "    # Find average for creating data class\n",
    "    Mean = data[Factor+'Index'].mean()\n",
    "    data.loc[data[Factor+'Index'] >= Mean,Factor+'Class'] = 'High'\n",
    "    data.loc[data[Factor+'Index'] < Mean, Factor+'Class'] = 'Low'\n",
    "    \n",
    "    return data"
   ]
  },
  {
   "cell_type": "code",
   "execution_count": 88,
   "metadata": {},
   "outputs": [],
   "source": [
    "dataFrame = [index_class(df, Factor) for Factor in Factors]"
   ]
  },
  {
   "cell_type": "code",
   "execution_count": 29,
   "metadata": {},
   "outputs": [],
   "source": [
    "# Get name of country and continent for colour in data visualization\n",
    "country = df['Country'].values\n",
    "continent = df['Continent']"
   ]
  },
  {
   "cell_type": "code",
   "execution_count": 50,
   "metadata": {},
   "outputs": [],
   "source": [
    "# Run the model for all data\n",
    "Tsne_name = ['tsne_eco', 'tsne_env', 'tsne_hel', 'tsne_hum', 'tsne_pol']\n",
    "Tsne = []\n",
    "X = []\n",
    "Y = []\n",
    "\n",
    "for index in range(len(Factors)):\n",
    "    values = dataFrame[index].iloc[:,:-2].values\n",
    "\n",
    "    model = TSNE(learning_rate = 100, perplexity=50)\n",
    "    tsne_features = model.fit_transform(values)\n",
    "\n",
    "    xs = tsne_features[:,0]\n",
    "    ys = tsne_features[:,1]\n",
    "\n",
    "    Tsne.append(tsne_features)\n",
    "    X.append(xs)\n",
    "    Y.append(ys)"
   ]
  },
  {
   "attachments": {},
   "cell_type": "markdown",
   "metadata": {},
   "source": [
    "When complete cluster analysis for all aspects, use all 5 indexes to calculate <b>Sustainability index and clustering</b>."
   ]
  },
  {
   "cell_type": "code",
   "execution_count": 90,
   "metadata": {},
   "outputs": [],
   "source": [
    "dfCombine = pd.concat([dataFrame[0]['EconomicIndex'], dataFrame[1]['EnvironmentIndex'], \n",
    "dataFrame[2]['HealthIndex'], dataFrame[3]['HumanIndex'], dataFrame[4]['PoliticIndex']], axis = 1)"
   ]
  },
  {
   "cell_type": "code",
   "execution_count": 91,
   "metadata": {},
   "outputs": [],
   "source": [
    "dfALL = normData(df, list(factors[factors['Direction'] == 'D']['Columns']),\n",
    "list(factors[factors['Direction'] == 'I']['Columns']))\n",
    "\n",
    "dfALL['AllIndex'] = dfCombine.mean(axis=1)\n",
    "\n",
    "Mean = dfALL['AllIndex'].mean()\n",
    "dfALL.loc[dfALL['AllIndex'] >= Mean,'AllClass'] = 'High'\n",
    "dfALL.loc[dfALL['AllIndex'] < Mean, 'AllClass'] = 'Low'\n",
    "\n",
    "dataFrame.append(dfALL)"
   ]
  },
  {
   "cell_type": "code",
   "execution_count": 75,
   "metadata": {},
   "outputs": [],
   "source": [
    "values = dfALL.iloc[:,:-2].values\n",
    "\n",
    "model = TSNE(learning_rate = 100, perplexity=50)\n",
    "tsne_All = model.fit_transform(values)\n",
    "\n",
    "xs = tsne_All[:,0]\n",
    "ys = tsne_All[:,1]\n",
    "\n",
    "Tsne.append(tsne_All)\n",
    "X.append(xs)\n",
    "Y.append(ys)"
   ]
  },
  {
   "attachments": {},
   "cell_type": "markdown",
   "metadata": {},
   "source": [
    "Check parameters in the model"
   ]
  },
  {
   "cell_type": "code",
   "execution_count": 113,
   "metadata": {},
   "outputs": [
    {
     "data": {
      "text/plain": [
       "(100, 50, 'barnes_hut', 999, 86)"
      ]
     },
     "metadata": {},
     "output_type": "display_data"
    }
   ],
   "source": [
    "display((model.learning_rate_, model.perplexity, model.method, model.n_iter_, model.n_features_in_))"
   ]
  },
  {
   "attachments": {},
   "cell_type": "markdown",
   "metadata": {},
   "source": [
    "### Data visualization"
   ]
  },
  {
   "attachments": {},
   "cell_type": "markdown",
   "metadata": {},
   "source": [
    "Plot a scatter plot of  interesting aspect clustering. "
   ]
  },
  {
   "cell_type": "code",
   "execution_count": 130,
   "metadata": {},
   "outputs": [
    {
     "data": {
      "application/vnd.plotly.v1+json": {
       "config": {
        "plotlyServerURL": "https://plot.ly"
       },
       "data": [
        {
         "hovertemplate": "<b>%{hovertext}</b><br><br>color=Low<br>x=%{x}<br>y=%{y}<extra></extra>",
         "hovertext": [
          "Afghanistan",
          "Angola",
          "Azerbaijan",
          "Bahrain",
          "Bangladesh",
          "Barbados",
          "Belize",
          "Benin",
          "Botswana",
          "Bulgaria",
          "Burkina Faso",
          "Burundi",
          "Cambodia",
          "Cameroon",
          "Central African Republic",
          "Chad",
          "Comoros",
          "Congo (Dem. Rep.)",
          "Congo (Rep.)",
          "Cote d'Ivoire",
          "Djibouti",
          "Dominican Republic",
          "Egypt",
          "Equatorial Guinea",
          "Eritrea",
          "Eswatini",
          "Ethiopia",
          "Gabon",
          "Gambia, The",
          "Ghana",
          "Guatemala",
          "Guinea",
          "Guinea-Bissau",
          "Haiti",
          "Iran",
          "Iraq",
          "Kenya",
          "Korea (Dem. People’s Rep.)",
          "Laos",
          "Lebanon",
          "Lesotho",
          "Liberia",
          "Libya",
          "Madagascar",
          "Malawi",
          "Mali",
          "Mauritania",
          "Mauritius",
          "Moldova",
          "Mongolia",
          "Mozambique",
          "Myanmar",
          "Nepal",
          "Niger",
          "Nigeria",
          "North Macedonia",
          "Pakistan",
          "Papua New Guinea",
          "Philippines",
          "Qatar",
          "Rwanda",
          "Senegal",
          "Sierra Leone",
          "Solomon Islands",
          "Somalia",
          "South Africa",
          "South Sudan",
          "Sudan",
          "Syria",
          "Tajikistan",
          "Tanzania",
          "Timor-Leste",
          "Togo",
          "Turkmenistan",
          "Uganda",
          "Venezuela",
          "Yemen",
          "Zambia",
          "Zimbabwe"
         ],
         "legendgroup": "Low",
         "marker": {
          "color": "rgb(76,114,176)",
          "symbol": "circle"
         },
         "mode": "markers",
         "name": "Low",
         "orientation": "v",
         "showlegend": true,
         "type": "scatter",
         "x": [
          3.928619384765625,
          5.187461853027344,
          -0.495726615190506,
          -3.6848275661468506,
          2.1433281898498535,
          -3.5583577156066895,
          -0.5651805400848389,
          5.4076032638549805,
          2.2941250801086426,
          -3.400294065475464,
          5.85851526260376,
          5.9764933586120605,
          2.2210984230041504,
          5.560708045959473,
          7.028604030609131,
          6.948766231536865,
          4.678256034851074,
          6.302177906036377,
          4.669219970703125,
          5.374589920043945,
          4.623017311096191,
          -0.7231738567352295,
          0.9314345121383667,
          5.828050136566162,
          4.678557872772217,
          5.245119094848633,
          5.383959770202637,
          4.196036338806152,
          5.073007583618164,
          3.7859103679656982,
          0.650787353515625,
          5.9718828201293945,
          5.942938327789307,
          4.747844696044922,
          0.8557407855987549,
          1.8365269899368286,
          5.293822288513184,
          1.7708483934402466,
          2.4946961402893066,
          0.2126825749874115,
          5.597872257232666,
          5.9062299728393555,
          1.7774486541748047,
          5.233970642089844,
          5.584319591522217,
          5.771537780761719,
          4.915733337402344,
          -3.127464771270752,
          -2.24004864692688,
          -1.0175204277038574,
          5.874992847442627,
          3.1300466060638428,
          1.9596015214920044,
          6.293670654296875,
          6.47334098815918,
          -2.7596707344055176,
          3.431659460067749,
          4.213655948638916,
          1.1831867694854736,
          -3.845773458480835,
          4.871033668518066,
          3.7811062335968018,
          6.74580717086792,
          0.5592221617698669,
          7.138017654418945,
          2.1325931549072266,
          7.142292499542236,
          4.045553207397461,
          1.8926843404769897,
          1.2016687393188477,
          5.411227226257324,
          2.491342306137085,
          5.299492835998535,
          0.8793379664421082,
          5.242954730987549,
          1.5028432607650757,
          3.5739293098449707,
          5.539074897766113,
          5.544235706329346
         ],
         "xaxis": "x",
         "y": [
          -0.46272292733192444,
          -0.22352366149425507,
          -1.7806791067123413,
          0.7193918824195862,
          -1.9869781732559204,
          -3.6844112873077393,
          -3.6067605018615723,
          -1.731438159942627,
          -4.504599571228027,
          -2.6052627563476562,
          -1.4362813234329224,
          0.00932405423372984,
          0.18656498193740845,
          -0.38041627407073975,
          -0.31058424711227417,
          -1.262911081314087,
          -1.5069371461868286,
          -0.43388110399246216,
          0.2484288364648819,
          -1.5775353908538818,
          -2.628647804260254,
          -3.24991774559021,
          -1.9247077703475952,
          -2.5106942653656006,
          -1.0684657096862793,
          1.8611739873886108,
          0.3046317398548126,
          0.2471114546060562,
          -1.7117750644683838,
          -2.1339364051818848,
          0.1862775981426239,
          -0.4447433352470398,
          -1.3773101568222046,
          -1.1833142042160034,
          -1.87458336353302,
          -1.5568665266036987,
          0.6258366107940674,
          -0.6086801886558533,
          0.29347437620162964,
          -2.2283897399902344,
          1.9148988723754883,
          -1.1842403411865234,
          -1.2872482538223267,
          -0.4873201847076416,
          0.6502264738082886,
          -1.015562891960144,
          -2.25606632232666,
          -3.247988700866699,
          -2.508615493774414,
          -4.268486499786377,
          0.5889560580253601,
          -0.3513581156730652,
          1.0163319110870361,
          -1.8136736154556274,
          -1.4789236783981323,
          -2.280423641204834,
          -1.3565622568130493,
          -1.5445592403411865,
          -2.9273011684417725,
          1.0371651649475098,
          0.7840505242347717,
          -2.2911460399627686,
          0.003583737649023533,
          -4.320766925811768,
          -1.259590744972229,
          -4.637947082519531,
          -1.2039804458618164,
          -0.656482458114624,
          -1.4782463312149048,
          0.5520239472389221,
          -0.35647693276405334,
          -2.8754165172576904,
          -0.8108840584754944,
          -1.6064265966415405,
          0.5856782793998718,
          -0.3350412845611572,
          -1.0846236944198608,
          0.8789077401161194,
          0.08317048102617264
         ],
         "yaxis": "y"
        },
        {
         "hovertemplate": "<b>%{hovertext}</b><br><br>color=High<br>x=%{x}<br>y=%{y}<extra></extra>",
         "hovertext": [
          "Albania",
          "Algeria",
          "Argentina",
          "Armenia",
          "Australia",
          "Austria",
          "Bahamas",
          "Belarus",
          "Belgium",
          "Bhutan",
          "Bolivia",
          "Bosnia and Herzegovina",
          "Brazil",
          "Brunei Darussalam",
          "Cabo Verde",
          "Canada",
          "Chile",
          "China",
          "Colombia",
          "Costa Rica",
          "Croatia",
          "Cuba",
          "Cyprus",
          "Czech Republic",
          "Denmark",
          "Ecuador",
          "El Salvador",
          "Estonia",
          "Fiji",
          "Finland",
          "France",
          "Georgia",
          "Germany",
          "Greece",
          "Guyana",
          "Honduras",
          "Hungary",
          "Iceland",
          "India",
          "Indonesia",
          "Ireland",
          "Israel",
          "Italy",
          "Jamaica",
          "Japan",
          "Jordan",
          "Kazakhstan",
          "Korea (Rep.)",
          "Kosovo",
          "Kuwait",
          "Kyrgyzstan",
          "Latvia",
          "Lithuania",
          "Luxembourg",
          "Malaysia",
          "Maldives",
          "Malta",
          "Mexico",
          "Montenegro",
          "Morocco",
          "Namibia",
          "Netherlands",
          "New Zealand",
          "Nicaragua",
          "Norway",
          "Oman",
          "Panama",
          "Paraguay",
          "Peru",
          "Poland",
          "Portugal",
          "Romania",
          "Russia",
          "Saudi Arabia",
          "Serbia",
          "Singapore",
          "Slovakia",
          "Slovenia",
          "Spain",
          "Sri Lanka",
          "Suriname",
          "Sweden",
          "Switzerland",
          "Taiwan",
          "Thailand",
          "Trinidad and Tobago",
          "Tunisia",
          "Turkiye",
          "Ukraine",
          "United Arab Emirates",
          "United Kingdom",
          "United States",
          "Uruguay",
          "Uzbekistan",
          "Vietnam"
         ],
         "legendgroup": "High",
         "marker": {
          "color": "rgb(221,132,82)",
          "symbol": "circle"
         },
         "mode": "markers",
         "name": "High",
         "orientation": "v",
         "showlegend": true,
         "type": "scatter",
         "x": [
          -3.397055149078369,
          0.19528047740459442,
          -2.7268481254577637,
          -1.8316670656204224,
          -6.622923374176025,
          -6.194461345672607,
          -2.495438814163208,
          -1.9702197313308716,
          -5.911280155181885,
          0.2782553434371948,
          0.13278816640377045,
          -2.674649953842163,
          -1.2101300954818726,
          -3.808410406112671,
          -1.2043931484222412,
          -7.173341751098633,
          -4.870297908782959,
          -1.870410442352295,
          -1.1964207887649536,
          -4.882813930511475,
          -4.363086223602295,
          -2.128979444503784,
          -4.489315509796143,
          -4.78943395614624,
          -6.769306659698486,
          -0.7964004874229431,
          -0.43128103017807007,
          -6.157703399658203,
          -0.7812240719795227,
          -6.926899433135986,
          -5.6848039627075195,
          -3.5710551738739014,
          -5.9768195152282715,
          -4.131603240966797,
          -0.4251372218132019,
          0.5393532514572144,
          -3.916433334350586,
          -7.569540977478027,
          1.8166455030441284,
          0.9882012605667114,
          -6.960020065307617,
          -4.695141315460205,
          -4.815123558044434,
          -1.5955419540405273,
          -5.651366233825684,
          -0.21759626269340515,
          -1.169857382774353,
          -5.024148941040039,
          -1.378829836845398,
          -3.691826820373535,
          0.7310811877250671,
          -4.742992877960205,
          -4.8134989738464355,
          -6.564208984375,
          -1.377185583114624,
          -2.443498134613037,
          -4.500885009765625,
          -1.1927969455718994,
          -3.344508171081543,
          -0.5148035287857056,
          5.5163726806640625,
          -5.769876480102539,
          -7.046573638916016,
          0.5593031048774719,
          -7.314226150512695,
          -3.649538516998291,
          -1.591285228729248,
          -0.2780478298664093,
          -1.0282268524169922,
          -4.054799556732178,
          -5.99121618270874,
          -3.635732650756836,
          -2.1730523109436035,
          -3.5494444370269775,
          -2.9779560565948486,
          -4.402008533477783,
          -4.262229919433594,
          -4.952785968780518,
          -5.7105302810668945,
          -1.3374676704406738,
          -0.659850001335144,
          -7.026942253112793,
          -6.827917098999023,
          -4.863772869110107,
          -1.0614713430404663,
          -2.1764373779296875,
          -0.8146747946739197,
          -1.2282540798187256,
          -2.053731679916382,
          -2.987072229385376,
          -6.00812292098999,
          -7.328040599822998,
          -6.0505475997924805,
          -0.16596262156963348,
          -0.7787010669708252
         ],
         "xaxis": "x",
         "y": [
          -1.1909431219100952,
          -2.031165599822998,
          -1.4991192817687988,
          -2.003880023956299,
          -3.7902963161468506,
          -3.0174670219421387,
          -3.6840708255767822,
          -1.2815264463424683,
          -3.86268949508667,
          1.3040883541107178,
          -0.7632040977478027,
          -1.8651585578918457,
          0.5903035402297974,
          0.006543174386024475,
          -3.5724377632141113,
          -3.4542102813720703,
          -2.5283944606781006,
          1.2903891801834106,
          0.10145937651395798,
          -1.0409553050994873,
          -2.3207755088806152,
          -0.9188570380210876,
          -3.6472666263580322,
          -3.401726484298706,
          -3.105348825454712,
          -0.2725525200366974,
          -0.18375720083713531,
          -2.784367799758911,
          -0.781262993812561,
          -3.1278345584869385,
          -3.4776346683502197,
          -1.6612839698791504,
          -3.6421611309051514,
          -2.5253961086273193,
          -3.6028711795806885,
          -0.18619751930236816,
          -3.0142414569854736,
          -2.4836254119873047,
          -2.9755125045776367,
          -2.9009957313537598,
          -3.896726369857788,
          -4.469011306762695,
          -2.9045755863189697,
          -3.422344923019409,
          -3.9533865451812744,
          -2.377620220184326,
          -1.8486462831497192,
          -3.937274694442749,
          -2.3546998500823975,
          1.0369688272476196,
          0.34032443165779114,
          -2.5461254119873047,
          -2.6439266204833984,
          -4.364138603210449,
          -2.5382943153381348,
          -0.3639630377292633,
          -4.016238212585449,
          -1.4359673261642456,
          -1.98367440700531,
          -2.072077989578247,
          1.9483938217163086,
          -3.9949727058410645,
          -2.7998950481414795,
          -0.14232122898101807,
          -2.7312448024749756,
          0.9926818013191223,
          -0.2862698435783386,
          0.4438597559928894,
          -0.3345580995082855,
          -3.026689052581787,
          -2.7253804206848145,
          -2.4708828926086426,
          0.6517695188522339,
          1.220280647277832,
          -2.209595203399658,
          -5.292867660522461,
          -3.212362289428711,
          -3.298910140991211,
          -2.9319663047790527,
          -0.8518450856208801,
          -0.5967228412628174,
          -2.9126839637756348,
          -3.4941766262054443,
          -4.0483717918396,
          -1.7926890850067139,
          -3.245685338973999,
          -2.3627877235412598,
          -1.6968683004379272,
          -2.069364070892334,
          -4.894001007080078,
          -3.471205234527588,
          -4.574883937835693,
          -1.7620376348495483,
          -1.627310037612915,
          -1.4790229797363281
         ],
         "yaxis": "y"
        }
       ],
       "layout": {
        "height": 500,
        "legend": {
         "title": {
          "text": "color"
         },
         "tracegroupgap": 0
        },
        "margin": {
         "t": 60
        },
        "template": {
         "data": {
          "bar": [
           {
            "error_x": {
             "color": "rgb(36,36,36)"
            },
            "error_y": {
             "color": "rgb(36,36,36)"
            },
            "marker": {
             "line": {
              "color": "rgb(234,234,242)",
              "width": 0.5
             },
             "pattern": {
              "fillmode": "overlay",
              "size": 10,
              "solidity": 0.2
             }
            },
            "type": "bar"
           }
          ],
          "barpolar": [
           {
            "marker": {
             "line": {
              "color": "rgb(234,234,242)",
              "width": 0.5
             },
             "pattern": {
              "fillmode": "overlay",
              "size": 10,
              "solidity": 0.2
             }
            },
            "type": "barpolar"
           }
          ],
          "carpet": [
           {
            "aaxis": {
             "endlinecolor": "rgb(36,36,36)",
             "gridcolor": "white",
             "linecolor": "white",
             "minorgridcolor": "white",
             "startlinecolor": "rgb(36,36,36)"
            },
            "baxis": {
             "endlinecolor": "rgb(36,36,36)",
             "gridcolor": "white",
             "linecolor": "white",
             "minorgridcolor": "white",
             "startlinecolor": "rgb(36,36,36)"
            },
            "type": "carpet"
           }
          ],
          "choropleth": [
           {
            "colorbar": {
             "outlinewidth": 0,
             "tickcolor": "rgb(36,36,36)",
             "ticklen": 8,
             "ticks": "outside",
             "tickwidth": 2
            },
            "type": "choropleth"
           }
          ],
          "contour": [
           {
            "colorbar": {
             "outlinewidth": 0,
             "tickcolor": "rgb(36,36,36)",
             "ticklen": 8,
             "ticks": "outside",
             "tickwidth": 2
            },
            "colorscale": [
             [
              0,
              "rgb(2,4,25)"
             ],
             [
              0.06274509803921569,
              "rgb(24,15,41)"
             ],
             [
              0.12549019607843137,
              "rgb(47,23,57)"
             ],
             [
              0.18823529411764706,
              "rgb(71,28,72)"
             ],
             [
              0.25098039215686274,
              "rgb(97,30,82)"
             ],
             [
              0.3137254901960784,
              "rgb(123,30,89)"
             ],
             [
              0.3764705882352941,
              "rgb(150,27,91)"
             ],
             [
              0.4392156862745098,
              "rgb(177,22,88)"
             ],
             [
              0.5019607843137255,
              "rgb(203,26,79)"
             ],
             [
              0.5647058823529412,
              "rgb(223,47,67)"
             ],
             [
              0.6274509803921569,
              "rgb(236,76,61)"
             ],
             [
              0.6901960784313725,
              "rgb(242,107,73)"
             ],
             [
              0.7529411764705882,
              "rgb(244,135,95)"
             ],
             [
              0.8156862745098039,
              "rgb(245,162,122)"
             ],
             [
              0.8784313725490196,
              "rgb(246,188,153)"
             ],
             [
              0.9411764705882353,
              "rgb(247,212,187)"
             ],
             [
              1,
              "rgb(250,234,220)"
             ]
            ],
            "type": "contour"
           }
          ],
          "contourcarpet": [
           {
            "colorbar": {
             "outlinewidth": 0,
             "tickcolor": "rgb(36,36,36)",
             "ticklen": 8,
             "ticks": "outside",
             "tickwidth": 2
            },
            "type": "contourcarpet"
           }
          ],
          "heatmap": [
           {
            "colorbar": {
             "outlinewidth": 0,
             "tickcolor": "rgb(36,36,36)",
             "ticklen": 8,
             "ticks": "outside",
             "tickwidth": 2
            },
            "colorscale": [
             [
              0,
              "rgb(2,4,25)"
             ],
             [
              0.06274509803921569,
              "rgb(24,15,41)"
             ],
             [
              0.12549019607843137,
              "rgb(47,23,57)"
             ],
             [
              0.18823529411764706,
              "rgb(71,28,72)"
             ],
             [
              0.25098039215686274,
              "rgb(97,30,82)"
             ],
             [
              0.3137254901960784,
              "rgb(123,30,89)"
             ],
             [
              0.3764705882352941,
              "rgb(150,27,91)"
             ],
             [
              0.4392156862745098,
              "rgb(177,22,88)"
             ],
             [
              0.5019607843137255,
              "rgb(203,26,79)"
             ],
             [
              0.5647058823529412,
              "rgb(223,47,67)"
             ],
             [
              0.6274509803921569,
              "rgb(236,76,61)"
             ],
             [
              0.6901960784313725,
              "rgb(242,107,73)"
             ],
             [
              0.7529411764705882,
              "rgb(244,135,95)"
             ],
             [
              0.8156862745098039,
              "rgb(245,162,122)"
             ],
             [
              0.8784313725490196,
              "rgb(246,188,153)"
             ],
             [
              0.9411764705882353,
              "rgb(247,212,187)"
             ],
             [
              1,
              "rgb(250,234,220)"
             ]
            ],
            "type": "heatmap"
           }
          ],
          "heatmapgl": [
           {
            "colorbar": {
             "outlinewidth": 0,
             "tickcolor": "rgb(36,36,36)",
             "ticklen": 8,
             "ticks": "outside",
             "tickwidth": 2
            },
            "colorscale": [
             [
              0,
              "rgb(2,4,25)"
             ],
             [
              0.06274509803921569,
              "rgb(24,15,41)"
             ],
             [
              0.12549019607843137,
              "rgb(47,23,57)"
             ],
             [
              0.18823529411764706,
              "rgb(71,28,72)"
             ],
             [
              0.25098039215686274,
              "rgb(97,30,82)"
             ],
             [
              0.3137254901960784,
              "rgb(123,30,89)"
             ],
             [
              0.3764705882352941,
              "rgb(150,27,91)"
             ],
             [
              0.4392156862745098,
              "rgb(177,22,88)"
             ],
             [
              0.5019607843137255,
              "rgb(203,26,79)"
             ],
             [
              0.5647058823529412,
              "rgb(223,47,67)"
             ],
             [
              0.6274509803921569,
              "rgb(236,76,61)"
             ],
             [
              0.6901960784313725,
              "rgb(242,107,73)"
             ],
             [
              0.7529411764705882,
              "rgb(244,135,95)"
             ],
             [
              0.8156862745098039,
              "rgb(245,162,122)"
             ],
             [
              0.8784313725490196,
              "rgb(246,188,153)"
             ],
             [
              0.9411764705882353,
              "rgb(247,212,187)"
             ],
             [
              1,
              "rgb(250,234,220)"
             ]
            ],
            "type": "heatmapgl"
           }
          ],
          "histogram": [
           {
            "marker": {
             "pattern": {
              "fillmode": "overlay",
              "size": 10,
              "solidity": 0.2
             }
            },
            "type": "histogram"
           }
          ],
          "histogram2d": [
           {
            "colorbar": {
             "outlinewidth": 0,
             "tickcolor": "rgb(36,36,36)",
             "ticklen": 8,
             "ticks": "outside",
             "tickwidth": 2
            },
            "colorscale": [
             [
              0,
              "rgb(2,4,25)"
             ],
             [
              0.06274509803921569,
              "rgb(24,15,41)"
             ],
             [
              0.12549019607843137,
              "rgb(47,23,57)"
             ],
             [
              0.18823529411764706,
              "rgb(71,28,72)"
             ],
             [
              0.25098039215686274,
              "rgb(97,30,82)"
             ],
             [
              0.3137254901960784,
              "rgb(123,30,89)"
             ],
             [
              0.3764705882352941,
              "rgb(150,27,91)"
             ],
             [
              0.4392156862745098,
              "rgb(177,22,88)"
             ],
             [
              0.5019607843137255,
              "rgb(203,26,79)"
             ],
             [
              0.5647058823529412,
              "rgb(223,47,67)"
             ],
             [
              0.6274509803921569,
              "rgb(236,76,61)"
             ],
             [
              0.6901960784313725,
              "rgb(242,107,73)"
             ],
             [
              0.7529411764705882,
              "rgb(244,135,95)"
             ],
             [
              0.8156862745098039,
              "rgb(245,162,122)"
             ],
             [
              0.8784313725490196,
              "rgb(246,188,153)"
             ],
             [
              0.9411764705882353,
              "rgb(247,212,187)"
             ],
             [
              1,
              "rgb(250,234,220)"
             ]
            ],
            "type": "histogram2d"
           }
          ],
          "histogram2dcontour": [
           {
            "colorbar": {
             "outlinewidth": 0,
             "tickcolor": "rgb(36,36,36)",
             "ticklen": 8,
             "ticks": "outside",
             "tickwidth": 2
            },
            "colorscale": [
             [
              0,
              "rgb(2,4,25)"
             ],
             [
              0.06274509803921569,
              "rgb(24,15,41)"
             ],
             [
              0.12549019607843137,
              "rgb(47,23,57)"
             ],
             [
              0.18823529411764706,
              "rgb(71,28,72)"
             ],
             [
              0.25098039215686274,
              "rgb(97,30,82)"
             ],
             [
              0.3137254901960784,
              "rgb(123,30,89)"
             ],
             [
              0.3764705882352941,
              "rgb(150,27,91)"
             ],
             [
              0.4392156862745098,
              "rgb(177,22,88)"
             ],
             [
              0.5019607843137255,
              "rgb(203,26,79)"
             ],
             [
              0.5647058823529412,
              "rgb(223,47,67)"
             ],
             [
              0.6274509803921569,
              "rgb(236,76,61)"
             ],
             [
              0.6901960784313725,
              "rgb(242,107,73)"
             ],
             [
              0.7529411764705882,
              "rgb(244,135,95)"
             ],
             [
              0.8156862745098039,
              "rgb(245,162,122)"
             ],
             [
              0.8784313725490196,
              "rgb(246,188,153)"
             ],
             [
              0.9411764705882353,
              "rgb(247,212,187)"
             ],
             [
              1,
              "rgb(250,234,220)"
             ]
            ],
            "type": "histogram2dcontour"
           }
          ],
          "mesh3d": [
           {
            "colorbar": {
             "outlinewidth": 0,
             "tickcolor": "rgb(36,36,36)",
             "ticklen": 8,
             "ticks": "outside",
             "tickwidth": 2
            },
            "type": "mesh3d"
           }
          ],
          "parcoords": [
           {
            "line": {
             "colorbar": {
              "outlinewidth": 0,
              "tickcolor": "rgb(36,36,36)",
              "ticklen": 8,
              "ticks": "outside",
              "tickwidth": 2
             }
            },
            "type": "parcoords"
           }
          ],
          "pie": [
           {
            "automargin": true,
            "type": "pie"
           }
          ],
          "scatter": [
           {
            "fillpattern": {
             "fillmode": "overlay",
             "size": 10,
             "solidity": 0.2
            },
            "type": "scatter"
           }
          ],
          "scatter3d": [
           {
            "line": {
             "colorbar": {
              "outlinewidth": 0,
              "tickcolor": "rgb(36,36,36)",
              "ticklen": 8,
              "ticks": "outside",
              "tickwidth": 2
             }
            },
            "marker": {
             "colorbar": {
              "outlinewidth": 0,
              "tickcolor": "rgb(36,36,36)",
              "ticklen": 8,
              "ticks": "outside",
              "tickwidth": 2
             }
            },
            "type": "scatter3d"
           }
          ],
          "scattercarpet": [
           {
            "marker": {
             "colorbar": {
              "outlinewidth": 0,
              "tickcolor": "rgb(36,36,36)",
              "ticklen": 8,
              "ticks": "outside",
              "tickwidth": 2
             }
            },
            "type": "scattercarpet"
           }
          ],
          "scattergeo": [
           {
            "marker": {
             "colorbar": {
              "outlinewidth": 0,
              "tickcolor": "rgb(36,36,36)",
              "ticklen": 8,
              "ticks": "outside",
              "tickwidth": 2
             }
            },
            "type": "scattergeo"
           }
          ],
          "scattergl": [
           {
            "marker": {
             "colorbar": {
              "outlinewidth": 0,
              "tickcolor": "rgb(36,36,36)",
              "ticklen": 8,
              "ticks": "outside",
              "tickwidth": 2
             }
            },
            "type": "scattergl"
           }
          ],
          "scattermapbox": [
           {
            "marker": {
             "colorbar": {
              "outlinewidth": 0,
              "tickcolor": "rgb(36,36,36)",
              "ticklen": 8,
              "ticks": "outside",
              "tickwidth": 2
             }
            },
            "type": "scattermapbox"
           }
          ],
          "scatterpolar": [
           {
            "marker": {
             "colorbar": {
              "outlinewidth": 0,
              "tickcolor": "rgb(36,36,36)",
              "ticklen": 8,
              "ticks": "outside",
              "tickwidth": 2
             }
            },
            "type": "scatterpolar"
           }
          ],
          "scatterpolargl": [
           {
            "marker": {
             "colorbar": {
              "outlinewidth": 0,
              "tickcolor": "rgb(36,36,36)",
              "ticklen": 8,
              "ticks": "outside",
              "tickwidth": 2
             }
            },
            "type": "scatterpolargl"
           }
          ],
          "scatterternary": [
           {
            "marker": {
             "colorbar": {
              "outlinewidth": 0,
              "tickcolor": "rgb(36,36,36)",
              "ticklen": 8,
              "ticks": "outside",
              "tickwidth": 2
             }
            },
            "type": "scatterternary"
           }
          ],
          "surface": [
           {
            "colorbar": {
             "outlinewidth": 0,
             "tickcolor": "rgb(36,36,36)",
             "ticklen": 8,
             "ticks": "outside",
             "tickwidth": 2
            },
            "colorscale": [
             [
              0,
              "rgb(2,4,25)"
             ],
             [
              0.06274509803921569,
              "rgb(24,15,41)"
             ],
             [
              0.12549019607843137,
              "rgb(47,23,57)"
             ],
             [
              0.18823529411764706,
              "rgb(71,28,72)"
             ],
             [
              0.25098039215686274,
              "rgb(97,30,82)"
             ],
             [
              0.3137254901960784,
              "rgb(123,30,89)"
             ],
             [
              0.3764705882352941,
              "rgb(150,27,91)"
             ],
             [
              0.4392156862745098,
              "rgb(177,22,88)"
             ],
             [
              0.5019607843137255,
              "rgb(203,26,79)"
             ],
             [
              0.5647058823529412,
              "rgb(223,47,67)"
             ],
             [
              0.6274509803921569,
              "rgb(236,76,61)"
             ],
             [
              0.6901960784313725,
              "rgb(242,107,73)"
             ],
             [
              0.7529411764705882,
              "rgb(244,135,95)"
             ],
             [
              0.8156862745098039,
              "rgb(245,162,122)"
             ],
             [
              0.8784313725490196,
              "rgb(246,188,153)"
             ],
             [
              0.9411764705882353,
              "rgb(247,212,187)"
             ],
             [
              1,
              "rgb(250,234,220)"
             ]
            ],
            "type": "surface"
           }
          ],
          "table": [
           {
            "cells": {
             "fill": {
              "color": "rgb(231,231,240)"
             },
             "line": {
              "color": "white"
             }
            },
            "header": {
             "fill": {
              "color": "rgb(183,183,191)"
             },
             "line": {
              "color": "white"
             }
            },
            "type": "table"
           }
          ]
         },
         "layout": {
          "annotationdefaults": {
           "arrowcolor": "rgb(67,103,167)"
          },
          "autotypenumbers": "strict",
          "coloraxis": {
           "colorbar": {
            "outlinewidth": 0,
            "tickcolor": "rgb(36,36,36)",
            "ticklen": 8,
            "ticks": "outside",
            "tickwidth": 2
           }
          },
          "colorscale": {
           "sequential": [
            [
             0,
             "rgb(2,4,25)"
            ],
            [
             0.06274509803921569,
             "rgb(24,15,41)"
            ],
            [
             0.12549019607843137,
             "rgb(47,23,57)"
            ],
            [
             0.18823529411764706,
             "rgb(71,28,72)"
            ],
            [
             0.25098039215686274,
             "rgb(97,30,82)"
            ],
            [
             0.3137254901960784,
             "rgb(123,30,89)"
            ],
            [
             0.3764705882352941,
             "rgb(150,27,91)"
            ],
            [
             0.4392156862745098,
             "rgb(177,22,88)"
            ],
            [
             0.5019607843137255,
             "rgb(203,26,79)"
            ],
            [
             0.5647058823529412,
             "rgb(223,47,67)"
            ],
            [
             0.6274509803921569,
             "rgb(236,76,61)"
            ],
            [
             0.6901960784313725,
             "rgb(242,107,73)"
            ],
            [
             0.7529411764705882,
             "rgb(244,135,95)"
            ],
            [
             0.8156862745098039,
             "rgb(245,162,122)"
            ],
            [
             0.8784313725490196,
             "rgb(246,188,153)"
            ],
            [
             0.9411764705882353,
             "rgb(247,212,187)"
            ],
            [
             1,
             "rgb(250,234,220)"
            ]
           ],
           "sequentialminus": [
            [
             0,
             "rgb(2,4,25)"
            ],
            [
             0.06274509803921569,
             "rgb(24,15,41)"
            ],
            [
             0.12549019607843137,
             "rgb(47,23,57)"
            ],
            [
             0.18823529411764706,
             "rgb(71,28,72)"
            ],
            [
             0.25098039215686274,
             "rgb(97,30,82)"
            ],
            [
             0.3137254901960784,
             "rgb(123,30,89)"
            ],
            [
             0.3764705882352941,
             "rgb(150,27,91)"
            ],
            [
             0.4392156862745098,
             "rgb(177,22,88)"
            ],
            [
             0.5019607843137255,
             "rgb(203,26,79)"
            ],
            [
             0.5647058823529412,
             "rgb(223,47,67)"
            ],
            [
             0.6274509803921569,
             "rgb(236,76,61)"
            ],
            [
             0.6901960784313725,
             "rgb(242,107,73)"
            ],
            [
             0.7529411764705882,
             "rgb(244,135,95)"
            ],
            [
             0.8156862745098039,
             "rgb(245,162,122)"
            ],
            [
             0.8784313725490196,
             "rgb(246,188,153)"
            ],
            [
             0.9411764705882353,
             "rgb(247,212,187)"
            ],
            [
             1,
             "rgb(250,234,220)"
            ]
           ]
          },
          "colorway": [
           "rgb(76,114,176)",
           "rgb(221,132,82)",
           "rgb(85,168,104)",
           "rgb(196,78,82)",
           "rgb(129,114,179)",
           "rgb(147,120,96)",
           "rgb(218,139,195)",
           "rgb(140,140,140)",
           "rgb(204,185,116)",
           "rgb(100,181,205)"
          ],
          "font": {
           "color": "rgb(36,36,36)"
          },
          "geo": {
           "bgcolor": "white",
           "lakecolor": "white",
           "landcolor": "rgb(234,234,242)",
           "showlakes": true,
           "showland": true,
           "subunitcolor": "white"
          },
          "hoverlabel": {
           "align": "left"
          },
          "hovermode": "closest",
          "paper_bgcolor": "white",
          "plot_bgcolor": "rgb(234,234,242)",
          "polar": {
           "angularaxis": {
            "gridcolor": "white",
            "linecolor": "white",
            "showgrid": true,
            "ticks": ""
           },
           "bgcolor": "rgb(234,234,242)",
           "radialaxis": {
            "gridcolor": "white",
            "linecolor": "white",
            "showgrid": true,
            "ticks": ""
           }
          },
          "scene": {
           "xaxis": {
            "backgroundcolor": "rgb(234,234,242)",
            "gridcolor": "white",
            "gridwidth": 2,
            "linecolor": "white",
            "showbackground": true,
            "showgrid": true,
            "ticks": "",
            "zerolinecolor": "white"
           },
           "yaxis": {
            "backgroundcolor": "rgb(234,234,242)",
            "gridcolor": "white",
            "gridwidth": 2,
            "linecolor": "white",
            "showbackground": true,
            "showgrid": true,
            "ticks": "",
            "zerolinecolor": "white"
           },
           "zaxis": {
            "backgroundcolor": "rgb(234,234,242)",
            "gridcolor": "white",
            "gridwidth": 2,
            "linecolor": "white",
            "showbackground": true,
            "showgrid": true,
            "ticks": "",
            "zerolinecolor": "white"
           }
          },
          "shapedefaults": {
           "fillcolor": "rgb(67,103,167)",
           "line": {
            "width": 0
           },
           "opacity": 0.5
          },
          "ternary": {
           "aaxis": {
            "gridcolor": "white",
            "linecolor": "white",
            "showgrid": true,
            "ticks": ""
           },
           "baxis": {
            "gridcolor": "white",
            "linecolor": "white",
            "showgrid": true,
            "ticks": ""
           },
           "bgcolor": "rgb(234,234,242)",
           "caxis": {
            "gridcolor": "white",
            "linecolor": "white",
            "showgrid": true,
            "ticks": ""
           }
          },
          "xaxis": {
           "automargin": true,
           "gridcolor": "white",
           "linecolor": "white",
           "showgrid": true,
           "ticks": "",
           "title": {
            "standoff": 15
           },
           "zerolinecolor": "white"
          },
          "yaxis": {
           "automargin": true,
           "gridcolor": "white",
           "linecolor": "white",
           "showgrid": true,
           "ticks": "",
           "title": {
            "standoff": 15
           },
           "zerolinecolor": "white"
          }
         }
        },
        "width": 800,
        "xaxis": {
         "anchor": "y",
         "domain": [
          0,
          1
         ],
         "title": {
          "text": "x"
         }
        },
        "yaxis": {
         "anchor": "x",
         "domain": [
          0,
          1
         ],
         "title": {
          "text": "y"
         }
        }
       }
      }
     },
     "metadata": {},
     "output_type": "display_data"
    }
   ],
   "source": [
    "# Plot with plotly\n",
    "# {0: Economic, 1: Environment; 2: Health, 3: Human, 4: Politic, 5: All}\n",
    "i = 5\n",
    "fig = px.scatter(x = X[i], y = Y[i], color = dataFrame[i].iloc[:,-1],  hover_name=country, \n",
    "                template = 'seaborn', width = 800, height = 500\n",
    "                )\n",
    "\n",
    "fig.show()"
   ]
  },
  {
   "attachments": {},
   "cell_type": "markdown",
   "metadata": {},
   "source": [
    "Plot a bee swarm plot to check how all countries indexes are arranged."
   ]
  },
  {
   "cell_type": "code",
   "execution_count": 126,
   "metadata": {},
   "outputs": [
    {
     "data": {
      "application/vnd.plotly.v1+json": {
       "config": {
        "plotlyServerURL": "https://plot.ly"
       },
       "data": [
        {
         "alignmentgroup": "True",
         "boxpoints": "all",
         "fillcolor": "rgba(255,255,255,0)",
         "hoveron": "points",
         "hovertemplate": "<b>%{hovertext}</b><br><br>color=Low<br>y=%{y}<extra></extra>",
         "hovertext": [
          "Afghanistan",
          "Angola",
          "Bangladesh",
          "Barbados",
          "Belize",
          "Benin",
          "Bhutan",
          "Botswana",
          "Bulgaria",
          "Burkina Faso",
          "Burundi",
          "Cabo Verde",
          "Cambodia",
          "Cameroon",
          "Central African Republic",
          "Chad",
          "Comoros",
          "Congo (Dem. Rep.)",
          "Congo (Rep.)",
          "Cote d'Ivoire",
          "Djibouti",
          "Dominican Republic",
          "El Salvador",
          "Equatorial Guinea",
          "Eritrea",
          "Eswatini",
          "Ethiopia",
          "Gabon",
          "Gambia, The",
          "Guinea",
          "Guinea-Bissau",
          "Haiti",
          "Iceland",
          "Kenya",
          "Korea (Dem. People’s Rep.)",
          "Laos",
          "Lesotho",
          "Liberia",
          "Madagascar",
          "Malawi",
          "Mali",
          "Malta",
          "Mauritania",
          "Mozambique",
          "Myanmar",
          "Namibia",
          "Niger",
          "Nigeria",
          "North Macedonia",
          "Pakistan",
          "Papua New Guinea",
          "Philippines",
          "Rwanda",
          "Sierra Leone",
          "Solomon Islands",
          "Somalia",
          "South Africa",
          "South Sudan",
          "Sudan",
          "Syria",
          "Tanzania",
          "Timor-Leste",
          "Togo",
          "Uganda",
          "United Kingdom",
          "Venezuela",
          "Yemen",
          "Zambia",
          "Zimbabwe"
         ],
         "legendgroup": "Low",
         "line": {
          "color": "rgba(255,255,255,0)"
         },
         "marker": {
          "color": "rgb(76,114,176)"
         },
         "name": "Low",
         "offsetgroup": "Low",
         "orientation": "v",
         "pointpos": 0,
         "showlegend": true,
         "type": "box",
         "x0": " ",
         "xaxis": "x",
         "y": [
          0.36012527520215665,
          0.3994413603816306,
          0.25857321983506737,
          0.18021537866004966,
          0.42177559387989627,
          0.33619753955250836,
          0.4240091913702907,
          0.38512870421647105,
          0.254094937055516,
          0.3717210460207271,
          0.3097156346372588,
          0.4341568347580017,
          0.4396396014427104,
          0.35781559181191275,
          0.1607944718434229,
          0.05265586205097556,
          0.3537395906644804,
          0.2848066383307046,
          0.35372210716403885,
          0.34938479318023674,
          0.3613363251280175,
          0.2453165795836482,
          0.443898370429972,
          0.34781548853267386,
          0.3583519704976313,
          0.04391657876790546,
          0.42632686860824937,
          0.43005541269761877,
          0.3251014294821285,
          0.2891095100851201,
          0.3088848917663218,
          0.3471698395789853,
          0.26251275231162313,
          0.4116123785358485,
          0.21653626514645377,
          0.43332663841107594,
          0.05614355017138766,
          0.3233758078406406,
          0.19364811740354862,
          0.3592626721777218,
          0.33928693826621964,
          0.45029987917368525,
          0.3716675541716709,
          0.33926184792759256,
          0.4502807635381471,
          0.38190547305094136,
          0.3223509040013216,
          0.06300618661378189,
          0.26295701157486184,
          0.44450565825429883,
          0.4124236767829855,
          0.2439084374964908,
          0.4085094111456229,
          0.06376446894241135,
          0.2033877453739867,
          0.037925101204194143,
          0.05777424644160764,
          0.0511275956334911,
          0.4262244631999856,
          0.22067563669064927,
          0.37948479392558976,
          0.4106846941280614,
          0.3675657339857153,
          0.37289360889513096,
          0.32045624447360577,
          0.44490723505911367,
          0.22946344245477446,
          0.35686228561696387,
          0.36389207749884467
         ],
         "y0": " ",
         "yaxis": "y"
        },
        {
         "alignmentgroup": "True",
         "boxpoints": "all",
         "fillcolor": "rgba(255,255,255,0)",
         "hoveron": "points",
         "hovertemplate": "<b>%{hovertext}</b><br><br>color=High<br>y=%{y}<extra></extra>",
         "hovertext": [
          "Albania",
          "Algeria",
          "Argentina",
          "Armenia",
          "Australia",
          "Austria",
          "Azerbaijan",
          "Bahamas",
          "Bahrain",
          "Belarus",
          "Belgium",
          "Bolivia",
          "Bosnia and Herzegovina",
          "Brazil",
          "Brunei Darussalam",
          "Canada",
          "Chile",
          "China",
          "Colombia",
          "Costa Rica",
          "Croatia",
          "Cuba",
          "Cyprus",
          "Czech Republic",
          "Denmark",
          "Ecuador",
          "Egypt",
          "Estonia",
          "Fiji",
          "Finland",
          "France",
          "Georgia",
          "Germany",
          "Ghana",
          "Greece",
          "Guatemala",
          "Guyana",
          "Honduras",
          "Hungary",
          "India",
          "Indonesia",
          "Iran",
          "Iraq",
          "Ireland",
          "Israel",
          "Italy",
          "Jamaica",
          "Japan",
          "Jordan",
          "Kazakhstan",
          "Korea (Rep.)",
          "Kosovo",
          "Kuwait",
          "Kyrgyzstan",
          "Latvia",
          "Lebanon",
          "Libya",
          "Lithuania",
          "Luxembourg",
          "Malaysia",
          "Maldives",
          "Mauritius",
          "Mexico",
          "Moldova",
          "Mongolia",
          "Montenegro",
          "Morocco",
          "Nepal",
          "Netherlands",
          "New Zealand",
          "Nicaragua",
          "Norway",
          "Oman",
          "Panama",
          "Paraguay",
          "Peru",
          "Poland",
          "Portugal",
          "Qatar",
          "Romania",
          "Russia",
          "Saudi Arabia",
          "Senegal",
          "Serbia",
          "Singapore",
          "Slovakia",
          "Slovenia",
          "Spain",
          "Sri Lanka",
          "Suriname",
          "Sweden",
          "Switzerland",
          "Taiwan",
          "Tajikistan",
          "Thailand",
          "Trinidad and Tobago",
          "Tunisia",
          "Turkiye",
          "Turkmenistan",
          "Ukraine",
          "United Arab Emirates",
          "United States",
          "Uruguay",
          "Uzbekistan",
          "Vietnam"
         ],
         "legendgroup": "High",
         "line": {
          "color": "rgba(255,255,255,0)"
         },
         "marker": {
          "color": "rgb(221,132,82)"
         },
         "name": "High",
         "offsetgroup": "High",
         "orientation": "v",
         "pointpos": 0,
         "showlegend": true,
         "type": "box",
         "x0": " ",
         "xaxis": "x",
         "y": [
          0.5017778934751767,
          0.5557768325967054,
          0.6152074288518872,
          0.4842220271304111,
          0.6250388525720914,
          0.5922181539128695,
          0.4716255672566882,
          0.46513113729871697,
          0.5040429019777687,
          0.5195551301413608,
          0.5981623614128838,
          0.506935561607374,
          0.5045667669064005,
          0.637115455796127,
          0.47399765960209295,
          0.6485421396999121,
          0.5946094332357637,
          0.5740480964263293,
          0.5680737658130078,
          0.5685144140956124,
          0.5166397939843901,
          0.5862546656374028,
          0.5605698641545314,
          0.5786327892328732,
          0.6284577808215766,
          0.5475057448661458,
          0.5352925243195856,
          0.5086083851746283,
          0.4771095143594041,
          0.6039969309660161,
          0.6831789622151204,
          0.45306788580334506,
          0.6305589677757701,
          0.4520944084690018,
          0.599540557889507,
          0.48456966084762093,
          0.4553342123261422,
          0.47784826836420335,
          0.5224015408933261,
          0.53736399804208,
          0.5165757761402859,
          0.5811395150931387,
          0.4889193941609671,
          0.6178055644040034,
          0.6217205267244743,
          0.6304523825101723,
          0.5163854977012299,
          0.6649313154809454,
          0.5318816022101348,
          0.49933139916305747,
          0.6225833596191399,
          0.493523726731049,
          0.5560384416892423,
          0.48329605258314684,
          0.4887620667658177,
          0.4917157865688547,
          0.5195690134413409,
          0.4899004011895089,
          0.5618182367344019,
          0.5823722922713934,
          0.5117383237838814,
          0.49128879583939034,
          0.5791127347113186,
          0.4614383925059012,
          0.4639408357986403,
          0.4545949614544133,
          0.5415740776858374,
          0.4683895892232483,
          0.6247575445023726,
          0.5824921733474927,
          0.49597267035407516,
          0.6089574541543405,
          0.5487625555210334,
          0.5426156096073362,
          0.511832849564033,
          0.5485724499943535,
          0.562192109758343,
          0.5831966433210001,
          0.5224985567014494,
          0.5164754953361433,
          0.5703097366651058,
          0.4720085408095277,
          0.4578922593055436,
          0.4650281629694543,
          0.5826393333957205,
          0.5402442765104867,
          0.5498642008236829,
          0.6396257145682723,
          0.5089287756796691,
          0.4874757008772735,
          0.618226933582345,
          0.6241083567505604,
          0.6109965895372825,
          0.46893948172219274,
          0.5441896512089648,
          0.5051189835269204,
          0.5316560624386992,
          0.5819334162763017,
          0.4976785757554094,
          0.5202427567059967,
          0.5719981883294484,
          0.6821403267147347,
          0.5513673132655855,
          0.5164951186000104,
          0.5461921898237735
         ],
         "y0": " ",
         "yaxis": "y"
        }
       ],
       "layout": {
        "boxmode": "group",
        "height": 500,
        "legend": {
         "title": {
          "text": "color"
         },
         "tracegroupgap": 0
        },
        "margin": {
         "t": 60
        },
        "template": {
         "data": {
          "bar": [
           {
            "error_x": {
             "color": "rgb(36,36,36)"
            },
            "error_y": {
             "color": "rgb(36,36,36)"
            },
            "marker": {
             "line": {
              "color": "rgb(234,234,242)",
              "width": 0.5
             },
             "pattern": {
              "fillmode": "overlay",
              "size": 10,
              "solidity": 0.2
             }
            },
            "type": "bar"
           }
          ],
          "barpolar": [
           {
            "marker": {
             "line": {
              "color": "rgb(234,234,242)",
              "width": 0.5
             },
             "pattern": {
              "fillmode": "overlay",
              "size": 10,
              "solidity": 0.2
             }
            },
            "type": "barpolar"
           }
          ],
          "carpet": [
           {
            "aaxis": {
             "endlinecolor": "rgb(36,36,36)",
             "gridcolor": "white",
             "linecolor": "white",
             "minorgridcolor": "white",
             "startlinecolor": "rgb(36,36,36)"
            },
            "baxis": {
             "endlinecolor": "rgb(36,36,36)",
             "gridcolor": "white",
             "linecolor": "white",
             "minorgridcolor": "white",
             "startlinecolor": "rgb(36,36,36)"
            },
            "type": "carpet"
           }
          ],
          "choropleth": [
           {
            "colorbar": {
             "outlinewidth": 0,
             "tickcolor": "rgb(36,36,36)",
             "ticklen": 8,
             "ticks": "outside",
             "tickwidth": 2
            },
            "type": "choropleth"
           }
          ],
          "contour": [
           {
            "colorbar": {
             "outlinewidth": 0,
             "tickcolor": "rgb(36,36,36)",
             "ticklen": 8,
             "ticks": "outside",
             "tickwidth": 2
            },
            "colorscale": [
             [
              0,
              "rgb(2,4,25)"
             ],
             [
              0.06274509803921569,
              "rgb(24,15,41)"
             ],
             [
              0.12549019607843137,
              "rgb(47,23,57)"
             ],
             [
              0.18823529411764706,
              "rgb(71,28,72)"
             ],
             [
              0.25098039215686274,
              "rgb(97,30,82)"
             ],
             [
              0.3137254901960784,
              "rgb(123,30,89)"
             ],
             [
              0.3764705882352941,
              "rgb(150,27,91)"
             ],
             [
              0.4392156862745098,
              "rgb(177,22,88)"
             ],
             [
              0.5019607843137255,
              "rgb(203,26,79)"
             ],
             [
              0.5647058823529412,
              "rgb(223,47,67)"
             ],
             [
              0.6274509803921569,
              "rgb(236,76,61)"
             ],
             [
              0.6901960784313725,
              "rgb(242,107,73)"
             ],
             [
              0.7529411764705882,
              "rgb(244,135,95)"
             ],
             [
              0.8156862745098039,
              "rgb(245,162,122)"
             ],
             [
              0.8784313725490196,
              "rgb(246,188,153)"
             ],
             [
              0.9411764705882353,
              "rgb(247,212,187)"
             ],
             [
              1,
              "rgb(250,234,220)"
             ]
            ],
            "type": "contour"
           }
          ],
          "contourcarpet": [
           {
            "colorbar": {
             "outlinewidth": 0,
             "tickcolor": "rgb(36,36,36)",
             "ticklen": 8,
             "ticks": "outside",
             "tickwidth": 2
            },
            "type": "contourcarpet"
           }
          ],
          "heatmap": [
           {
            "colorbar": {
             "outlinewidth": 0,
             "tickcolor": "rgb(36,36,36)",
             "ticklen": 8,
             "ticks": "outside",
             "tickwidth": 2
            },
            "colorscale": [
             [
              0,
              "rgb(2,4,25)"
             ],
             [
              0.06274509803921569,
              "rgb(24,15,41)"
             ],
             [
              0.12549019607843137,
              "rgb(47,23,57)"
             ],
             [
              0.18823529411764706,
              "rgb(71,28,72)"
             ],
             [
              0.25098039215686274,
              "rgb(97,30,82)"
             ],
             [
              0.3137254901960784,
              "rgb(123,30,89)"
             ],
             [
              0.3764705882352941,
              "rgb(150,27,91)"
             ],
             [
              0.4392156862745098,
              "rgb(177,22,88)"
             ],
             [
              0.5019607843137255,
              "rgb(203,26,79)"
             ],
             [
              0.5647058823529412,
              "rgb(223,47,67)"
             ],
             [
              0.6274509803921569,
              "rgb(236,76,61)"
             ],
             [
              0.6901960784313725,
              "rgb(242,107,73)"
             ],
             [
              0.7529411764705882,
              "rgb(244,135,95)"
             ],
             [
              0.8156862745098039,
              "rgb(245,162,122)"
             ],
             [
              0.8784313725490196,
              "rgb(246,188,153)"
             ],
             [
              0.9411764705882353,
              "rgb(247,212,187)"
             ],
             [
              1,
              "rgb(250,234,220)"
             ]
            ],
            "type": "heatmap"
           }
          ],
          "heatmapgl": [
           {
            "colorbar": {
             "outlinewidth": 0,
             "tickcolor": "rgb(36,36,36)",
             "ticklen": 8,
             "ticks": "outside",
             "tickwidth": 2
            },
            "colorscale": [
             [
              0,
              "rgb(2,4,25)"
             ],
             [
              0.06274509803921569,
              "rgb(24,15,41)"
             ],
             [
              0.12549019607843137,
              "rgb(47,23,57)"
             ],
             [
              0.18823529411764706,
              "rgb(71,28,72)"
             ],
             [
              0.25098039215686274,
              "rgb(97,30,82)"
             ],
             [
              0.3137254901960784,
              "rgb(123,30,89)"
             ],
             [
              0.3764705882352941,
              "rgb(150,27,91)"
             ],
             [
              0.4392156862745098,
              "rgb(177,22,88)"
             ],
             [
              0.5019607843137255,
              "rgb(203,26,79)"
             ],
             [
              0.5647058823529412,
              "rgb(223,47,67)"
             ],
             [
              0.6274509803921569,
              "rgb(236,76,61)"
             ],
             [
              0.6901960784313725,
              "rgb(242,107,73)"
             ],
             [
              0.7529411764705882,
              "rgb(244,135,95)"
             ],
             [
              0.8156862745098039,
              "rgb(245,162,122)"
             ],
             [
              0.8784313725490196,
              "rgb(246,188,153)"
             ],
             [
              0.9411764705882353,
              "rgb(247,212,187)"
             ],
             [
              1,
              "rgb(250,234,220)"
             ]
            ],
            "type": "heatmapgl"
           }
          ],
          "histogram": [
           {
            "marker": {
             "pattern": {
              "fillmode": "overlay",
              "size": 10,
              "solidity": 0.2
             }
            },
            "type": "histogram"
           }
          ],
          "histogram2d": [
           {
            "colorbar": {
             "outlinewidth": 0,
             "tickcolor": "rgb(36,36,36)",
             "ticklen": 8,
             "ticks": "outside",
             "tickwidth": 2
            },
            "colorscale": [
             [
              0,
              "rgb(2,4,25)"
             ],
             [
              0.06274509803921569,
              "rgb(24,15,41)"
             ],
             [
              0.12549019607843137,
              "rgb(47,23,57)"
             ],
             [
              0.18823529411764706,
              "rgb(71,28,72)"
             ],
             [
              0.25098039215686274,
              "rgb(97,30,82)"
             ],
             [
              0.3137254901960784,
              "rgb(123,30,89)"
             ],
             [
              0.3764705882352941,
              "rgb(150,27,91)"
             ],
             [
              0.4392156862745098,
              "rgb(177,22,88)"
             ],
             [
              0.5019607843137255,
              "rgb(203,26,79)"
             ],
             [
              0.5647058823529412,
              "rgb(223,47,67)"
             ],
             [
              0.6274509803921569,
              "rgb(236,76,61)"
             ],
             [
              0.6901960784313725,
              "rgb(242,107,73)"
             ],
             [
              0.7529411764705882,
              "rgb(244,135,95)"
             ],
             [
              0.8156862745098039,
              "rgb(245,162,122)"
             ],
             [
              0.8784313725490196,
              "rgb(246,188,153)"
             ],
             [
              0.9411764705882353,
              "rgb(247,212,187)"
             ],
             [
              1,
              "rgb(250,234,220)"
             ]
            ],
            "type": "histogram2d"
           }
          ],
          "histogram2dcontour": [
           {
            "colorbar": {
             "outlinewidth": 0,
             "tickcolor": "rgb(36,36,36)",
             "ticklen": 8,
             "ticks": "outside",
             "tickwidth": 2
            },
            "colorscale": [
             [
              0,
              "rgb(2,4,25)"
             ],
             [
              0.06274509803921569,
              "rgb(24,15,41)"
             ],
             [
              0.12549019607843137,
              "rgb(47,23,57)"
             ],
             [
              0.18823529411764706,
              "rgb(71,28,72)"
             ],
             [
              0.25098039215686274,
              "rgb(97,30,82)"
             ],
             [
              0.3137254901960784,
              "rgb(123,30,89)"
             ],
             [
              0.3764705882352941,
              "rgb(150,27,91)"
             ],
             [
              0.4392156862745098,
              "rgb(177,22,88)"
             ],
             [
              0.5019607843137255,
              "rgb(203,26,79)"
             ],
             [
              0.5647058823529412,
              "rgb(223,47,67)"
             ],
             [
              0.6274509803921569,
              "rgb(236,76,61)"
             ],
             [
              0.6901960784313725,
              "rgb(242,107,73)"
             ],
             [
              0.7529411764705882,
              "rgb(244,135,95)"
             ],
             [
              0.8156862745098039,
              "rgb(245,162,122)"
             ],
             [
              0.8784313725490196,
              "rgb(246,188,153)"
             ],
             [
              0.9411764705882353,
              "rgb(247,212,187)"
             ],
             [
              1,
              "rgb(250,234,220)"
             ]
            ],
            "type": "histogram2dcontour"
           }
          ],
          "mesh3d": [
           {
            "colorbar": {
             "outlinewidth": 0,
             "tickcolor": "rgb(36,36,36)",
             "ticklen": 8,
             "ticks": "outside",
             "tickwidth": 2
            },
            "type": "mesh3d"
           }
          ],
          "parcoords": [
           {
            "line": {
             "colorbar": {
              "outlinewidth": 0,
              "tickcolor": "rgb(36,36,36)",
              "ticklen": 8,
              "ticks": "outside",
              "tickwidth": 2
             }
            },
            "type": "parcoords"
           }
          ],
          "pie": [
           {
            "automargin": true,
            "type": "pie"
           }
          ],
          "scatter": [
           {
            "fillpattern": {
             "fillmode": "overlay",
             "size": 10,
             "solidity": 0.2
            },
            "type": "scatter"
           }
          ],
          "scatter3d": [
           {
            "line": {
             "colorbar": {
              "outlinewidth": 0,
              "tickcolor": "rgb(36,36,36)",
              "ticklen": 8,
              "ticks": "outside",
              "tickwidth": 2
             }
            },
            "marker": {
             "colorbar": {
              "outlinewidth": 0,
              "tickcolor": "rgb(36,36,36)",
              "ticklen": 8,
              "ticks": "outside",
              "tickwidth": 2
             }
            },
            "type": "scatter3d"
           }
          ],
          "scattercarpet": [
           {
            "marker": {
             "colorbar": {
              "outlinewidth": 0,
              "tickcolor": "rgb(36,36,36)",
              "ticklen": 8,
              "ticks": "outside",
              "tickwidth": 2
             }
            },
            "type": "scattercarpet"
           }
          ],
          "scattergeo": [
           {
            "marker": {
             "colorbar": {
              "outlinewidth": 0,
              "tickcolor": "rgb(36,36,36)",
              "ticklen": 8,
              "ticks": "outside",
              "tickwidth": 2
             }
            },
            "type": "scattergeo"
           }
          ],
          "scattergl": [
           {
            "marker": {
             "colorbar": {
              "outlinewidth": 0,
              "tickcolor": "rgb(36,36,36)",
              "ticklen": 8,
              "ticks": "outside",
              "tickwidth": 2
             }
            },
            "type": "scattergl"
           }
          ],
          "scattermapbox": [
           {
            "marker": {
             "colorbar": {
              "outlinewidth": 0,
              "tickcolor": "rgb(36,36,36)",
              "ticklen": 8,
              "ticks": "outside",
              "tickwidth": 2
             }
            },
            "type": "scattermapbox"
           }
          ],
          "scatterpolar": [
           {
            "marker": {
             "colorbar": {
              "outlinewidth": 0,
              "tickcolor": "rgb(36,36,36)",
              "ticklen": 8,
              "ticks": "outside",
              "tickwidth": 2
             }
            },
            "type": "scatterpolar"
           }
          ],
          "scatterpolargl": [
           {
            "marker": {
             "colorbar": {
              "outlinewidth": 0,
              "tickcolor": "rgb(36,36,36)",
              "ticklen": 8,
              "ticks": "outside",
              "tickwidth": 2
             }
            },
            "type": "scatterpolargl"
           }
          ],
          "scatterternary": [
           {
            "marker": {
             "colorbar": {
              "outlinewidth": 0,
              "tickcolor": "rgb(36,36,36)",
              "ticklen": 8,
              "ticks": "outside",
              "tickwidth": 2
             }
            },
            "type": "scatterternary"
           }
          ],
          "surface": [
           {
            "colorbar": {
             "outlinewidth": 0,
             "tickcolor": "rgb(36,36,36)",
             "ticklen": 8,
             "ticks": "outside",
             "tickwidth": 2
            },
            "colorscale": [
             [
              0,
              "rgb(2,4,25)"
             ],
             [
              0.06274509803921569,
              "rgb(24,15,41)"
             ],
             [
              0.12549019607843137,
              "rgb(47,23,57)"
             ],
             [
              0.18823529411764706,
              "rgb(71,28,72)"
             ],
             [
              0.25098039215686274,
              "rgb(97,30,82)"
             ],
             [
              0.3137254901960784,
              "rgb(123,30,89)"
             ],
             [
              0.3764705882352941,
              "rgb(150,27,91)"
             ],
             [
              0.4392156862745098,
              "rgb(177,22,88)"
             ],
             [
              0.5019607843137255,
              "rgb(203,26,79)"
             ],
             [
              0.5647058823529412,
              "rgb(223,47,67)"
             ],
             [
              0.6274509803921569,
              "rgb(236,76,61)"
             ],
             [
              0.6901960784313725,
              "rgb(242,107,73)"
             ],
             [
              0.7529411764705882,
              "rgb(244,135,95)"
             ],
             [
              0.8156862745098039,
              "rgb(245,162,122)"
             ],
             [
              0.8784313725490196,
              "rgb(246,188,153)"
             ],
             [
              0.9411764705882353,
              "rgb(247,212,187)"
             ],
             [
              1,
              "rgb(250,234,220)"
             ]
            ],
            "type": "surface"
           }
          ],
          "table": [
           {
            "cells": {
             "fill": {
              "color": "rgb(231,231,240)"
             },
             "line": {
              "color": "white"
             }
            },
            "header": {
             "fill": {
              "color": "rgb(183,183,191)"
             },
             "line": {
              "color": "white"
             }
            },
            "type": "table"
           }
          ]
         },
         "layout": {
          "annotationdefaults": {
           "arrowcolor": "rgb(67,103,167)"
          },
          "autotypenumbers": "strict",
          "coloraxis": {
           "colorbar": {
            "outlinewidth": 0,
            "tickcolor": "rgb(36,36,36)",
            "ticklen": 8,
            "ticks": "outside",
            "tickwidth": 2
           }
          },
          "colorscale": {
           "sequential": [
            [
             0,
             "rgb(2,4,25)"
            ],
            [
             0.06274509803921569,
             "rgb(24,15,41)"
            ],
            [
             0.12549019607843137,
             "rgb(47,23,57)"
            ],
            [
             0.18823529411764706,
             "rgb(71,28,72)"
            ],
            [
             0.25098039215686274,
             "rgb(97,30,82)"
            ],
            [
             0.3137254901960784,
             "rgb(123,30,89)"
            ],
            [
             0.3764705882352941,
             "rgb(150,27,91)"
            ],
            [
             0.4392156862745098,
             "rgb(177,22,88)"
            ],
            [
             0.5019607843137255,
             "rgb(203,26,79)"
            ],
            [
             0.5647058823529412,
             "rgb(223,47,67)"
            ],
            [
             0.6274509803921569,
             "rgb(236,76,61)"
            ],
            [
             0.6901960784313725,
             "rgb(242,107,73)"
            ],
            [
             0.7529411764705882,
             "rgb(244,135,95)"
            ],
            [
             0.8156862745098039,
             "rgb(245,162,122)"
            ],
            [
             0.8784313725490196,
             "rgb(246,188,153)"
            ],
            [
             0.9411764705882353,
             "rgb(247,212,187)"
            ],
            [
             1,
             "rgb(250,234,220)"
            ]
           ],
           "sequentialminus": [
            [
             0,
             "rgb(2,4,25)"
            ],
            [
             0.06274509803921569,
             "rgb(24,15,41)"
            ],
            [
             0.12549019607843137,
             "rgb(47,23,57)"
            ],
            [
             0.18823529411764706,
             "rgb(71,28,72)"
            ],
            [
             0.25098039215686274,
             "rgb(97,30,82)"
            ],
            [
             0.3137254901960784,
             "rgb(123,30,89)"
            ],
            [
             0.3764705882352941,
             "rgb(150,27,91)"
            ],
            [
             0.4392156862745098,
             "rgb(177,22,88)"
            ],
            [
             0.5019607843137255,
             "rgb(203,26,79)"
            ],
            [
             0.5647058823529412,
             "rgb(223,47,67)"
            ],
            [
             0.6274509803921569,
             "rgb(236,76,61)"
            ],
            [
             0.6901960784313725,
             "rgb(242,107,73)"
            ],
            [
             0.7529411764705882,
             "rgb(244,135,95)"
            ],
            [
             0.8156862745098039,
             "rgb(245,162,122)"
            ],
            [
             0.8784313725490196,
             "rgb(246,188,153)"
            ],
            [
             0.9411764705882353,
             "rgb(247,212,187)"
            ],
            [
             1,
             "rgb(250,234,220)"
            ]
           ]
          },
          "colorway": [
           "rgb(76,114,176)",
           "rgb(221,132,82)",
           "rgb(85,168,104)",
           "rgb(196,78,82)",
           "rgb(129,114,179)",
           "rgb(147,120,96)",
           "rgb(218,139,195)",
           "rgb(140,140,140)",
           "rgb(204,185,116)",
           "rgb(100,181,205)"
          ],
          "font": {
           "color": "rgb(36,36,36)"
          },
          "geo": {
           "bgcolor": "white",
           "lakecolor": "white",
           "landcolor": "rgb(234,234,242)",
           "showlakes": true,
           "showland": true,
           "subunitcolor": "white"
          },
          "hoverlabel": {
           "align": "left"
          },
          "hovermode": "closest",
          "paper_bgcolor": "white",
          "plot_bgcolor": "rgb(234,234,242)",
          "polar": {
           "angularaxis": {
            "gridcolor": "white",
            "linecolor": "white",
            "showgrid": true,
            "ticks": ""
           },
           "bgcolor": "rgb(234,234,242)",
           "radialaxis": {
            "gridcolor": "white",
            "linecolor": "white",
            "showgrid": true,
            "ticks": ""
           }
          },
          "scene": {
           "xaxis": {
            "backgroundcolor": "rgb(234,234,242)",
            "gridcolor": "white",
            "gridwidth": 2,
            "linecolor": "white",
            "showbackground": true,
            "showgrid": true,
            "ticks": "",
            "zerolinecolor": "white"
           },
           "yaxis": {
            "backgroundcolor": "rgb(234,234,242)",
            "gridcolor": "white",
            "gridwidth": 2,
            "linecolor": "white",
            "showbackground": true,
            "showgrid": true,
            "ticks": "",
            "zerolinecolor": "white"
           },
           "zaxis": {
            "backgroundcolor": "rgb(234,234,242)",
            "gridcolor": "white",
            "gridwidth": 2,
            "linecolor": "white",
            "showbackground": true,
            "showgrid": true,
            "ticks": "",
            "zerolinecolor": "white"
           }
          },
          "shapedefaults": {
           "fillcolor": "rgb(67,103,167)",
           "line": {
            "width": 0
           },
           "opacity": 0.5
          },
          "ternary": {
           "aaxis": {
            "gridcolor": "white",
            "linecolor": "white",
            "showgrid": true,
            "ticks": ""
           },
           "baxis": {
            "gridcolor": "white",
            "linecolor": "white",
            "showgrid": true,
            "ticks": ""
           },
           "bgcolor": "rgb(234,234,242)",
           "caxis": {
            "gridcolor": "white",
            "linecolor": "white",
            "showgrid": true,
            "ticks": ""
           }
          },
          "xaxis": {
           "automargin": true,
           "gridcolor": "white",
           "linecolor": "white",
           "showgrid": true,
           "ticks": "",
           "title": {
            "standoff": 15
           },
           "zerolinecolor": "white"
          },
          "yaxis": {
           "automargin": true,
           "gridcolor": "white",
           "linecolor": "white",
           "showgrid": true,
           "ticks": "",
           "title": {
            "standoff": 15
           },
           "zerolinecolor": "white"
          }
         }
        },
        "width": 800,
        "xaxis": {
         "anchor": "y",
         "domain": [
          0,
          1
         ]
        },
        "yaxis": {
         "anchor": "x",
         "domain": [
          0,
          1
         ],
         "title": {
          "text": "y"
         }
        }
       }
      }
     },
     "metadata": {},
     "output_type": "display_data"
    }
   ],
   "source": [
    "fig = px.strip(y = dataFrame[i].iloc[:,-2], color = dataFrame[i].iloc[:,-1],  hover_name=country, \n",
    "                template = 'seaborn', width = 800, height = 500\n",
    "                )\n",
    "\n",
    "fig.show()"
   ]
  },
  {
   "cell_type": "code",
   "execution_count": 191,
   "metadata": {},
   "outputs": [
    {
     "data": {
      "image/png": "[encoded data removed]",
      "text/plain": [
       "<Figure size 1440x720 with 6 Axes>"
      ]
     },
     "metadata": {
      "needs_background": "light"
     },
     "output_type": "display_data"
    }
   ],
   "source": [
    "fig, axes = plt.subplots(2,3, figsize = (20,10))\n",
    "fig.suptitle('Clutering Analysis')\n",
    "\n",
    "for row in range(2):\n",
    "    for col in range(3):\n",
    "        if(row != 1):\n",
    "            axes[row,col].set_title(Factors[col+row])\n",
    "            sns.scatterplot(ax = axes[row,col], x = X[col+row], y = Y[col+row], style = dataFrame[col+row].iloc[:,-1], hue = continent)\n",
    "        else:\n",
    "            axes[row,col].set_title(Factors[col+row+2])\n",
    "            sns.scatterplot(ax = axes[row,col], x = X[col+row+2], y = Y[col+row+2], style = dataFrame[col+row+2].iloc[:,-1], hue = continent)\n",
    "plt.savefig(\"plot/cluster.svg\")"
   ]
  },
  {
   "attachments": {},
   "cell_type": "markdown",
   "metadata": {},
   "source": [
    "### Export data and etc."
   ]
  },
  {
   "cell_type": "code",
   "execution_count": 83,
   "metadata": {},
   "outputs": [],
   "source": [
    "for n, m in zip(Tsne_name, Tsne):\n",
    "    pd.DataFrame(m).to_csv('TSNE/'+n+'.csv', index = False)"
   ]
  },
  {
   "cell_type": "code",
   "execution_count": 92,
   "metadata": {},
   "outputs": [],
   "source": [
    "nameIndex = ['datasets/indexes/indexECO.csv', 'datasets/indexes/indexENV.csv', 'datasets/indexes/indexHEL.csv', 'datasets/indexes/indexHUM.csv', 'datasets/indexes/indexPOL.csv', 'datasets/indexes/indexALL.csv']\n",
    "\n",
    "for d, n in zip(dataFrame, nameIndex):\n",
    "    pd.DataFrame(d.iloc[:,-2:]).to_csv(n, index = False)"
   ]
  },
  {
   "cell_type": "code",
   "execution_count": 103,
   "metadata": {},
   "outputs": [],
   "source": [
    "tsne_and_index = [pd.concat([pd.DataFrame(Tsne[i]),dataFrame[i].iloc[:,-2:]], axis = 1) for i in range(6)]"
   ]
  },
  {
   "cell_type": "code",
   "execution_count": 107,
   "metadata": {},
   "outputs": [],
   "source": [
    "tsne_and_indexes = pd.concat(tsne_and_index, axis = 1)"
   ]
  },
  {
   "cell_type": "code",
   "execution_count": 109,
   "metadata": {},
   "outputs": [],
   "source": [
    "tsne_and_indexes.to_csv('data_for_dev/tsne_and_indexes.csv', index = False)"
   ]
  },
  {
   "cell_type": "code",
   "execution_count": 30,
   "metadata": {},
   "outputs": [],
   "source": [
    "# Combine dataframe from split factor df\n",
    "DF = [df[list(factors[factors['Factor'] == Factors[i]]['Columns'])] for i in range(len(Factors))]\n",
    "\n",
    "worldFactor = pd.concat(DF, axis = 1)"
   ]
  },
  {
   "cell_type": "code",
   "execution_count": 31,
   "metadata": {},
   "outputs": [],
   "source": [
    "worldFactor.to_csv('data_for_dev/world_data.csv', index = False)"
   ]
  }
 ],
 "metadata": {
  "kernelspec": {
   "display_name": "Python 3",
   "language": "python",
   "name": "python3"
  },
  "language_info": {
   "codemirror_mode": {
    "name": "ipython",
    "version": 3
   },
   "file_extension": ".py",
   "mimetype": "text/x-python",
   "name": "python",
   "nbconvert_exporter": "python",
   "pygments_lexer": "ipython3",
   "version": "3.10.9"
  },
  "orig_nbformat": 4,
  "vscode": {
   "interpreter": {
    "hash": "173ae74ecd759d33659dc89cc0ace91dba90ddaa088b7a848a7f37d845ddcc5d"
   }
  }
 },
 "nbformat": 4,
 "nbformat_minor": 2
}
